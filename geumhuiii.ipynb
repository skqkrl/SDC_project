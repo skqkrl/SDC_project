{
 "cells": [
  {
   "cell_type": "code",
   "execution_count": null,
   "id": "252068a4",
   "metadata": {},
   "outputs": [],
   "source": [
    "# 깃 연동 성공"
   ]
  },
  {
   "cell_type": "code",
   "execution_count": null,
   "id": "bf486c1b",
   "metadata": {},
   "outputs": [],
   "source": [
    "# 오늘 수업 망함"
   ]
  },
  {
   "cell_type": "code",
   "execution_count": null,
   "id": "dc57f5a6",
   "metadata": {},
   "outputs": [],
   "source": []
  },
  {
   "cell_type": "code",
   "execution_count": null,
   "id": "ac0c9a88",
   "metadata": {},
   "outputs": [],
   "source": []
  },
  {
   "cell_type": "code",
   "execution_count": null,
   "id": "aa2274d4",
   "metadata": {},
   "outputs": [],
   "source": []
  },
  {
   "cell_type": "code",
   "execution_count": null,
   "id": "1920550e",
   "metadata": {},
   "outputs": [],
   "source": []
  }
 ],
 "metadata": {
  "language_info": {
   "name": "python"
  }
 },
 "nbformat": 4,
 "nbformat_minor": 5
}
