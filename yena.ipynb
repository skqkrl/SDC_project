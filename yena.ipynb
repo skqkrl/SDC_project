{
 "cells": [
  {
   "cell_type": "markdown",
   "id": "3c71310f",
   "metadata": {},
   "source": [
    "# 아파트_실거래가"
   ]
  },
  {
   "cell_type": "markdown",
   "id": "d642bf7c",
   "metadata": {},
   "source": [
    "### 데이터 불러오기"
   ]
  },
  {
   "cell_type": "code",
   "execution_count": null,
   "id": "ebb885ad",
   "metadata": {},
   "outputs": [],
   "source": [
    "import pandas as pd\n",
    "import numpy as np\n",
    "import matplotlib.pyplot as plt\n",
    "import seaborn as sns\n",
    "import koreanize_matplotlib"
   ]
  },
  {
   "cell_type": "code",
   "execution_count": 2,
   "id": "0b6019de",
   "metadata": {},
   "outputs": [
    {
     "name": "stderr",
     "output_type": "stream",
     "text": [
      "C:\\Users\\emily\\AppData\\Local\\Temp\\ipykernel_20268\\2638666978.py:1: DtypeWarning: Columns (19) have mixed types. Specify dtype option on import or set low_memory=False.\n",
      "  apt21 = pd.read_csv('data/아파트(전월세)_실거래가_2021.csv', header=15, encoding='cp949')\n",
      "C:\\Users\\emily\\AppData\\Local\\Temp\\ipykernel_20268\\2638666978.py:2: DtypeWarning: Columns (19) have mixed types. Specify dtype option on import or set low_memory=False.\n",
      "  apt22 = pd.read_csv('data/아파트(전월세)_실거래가_2022.csv', header=15, encoding='cp949')\n"
     ]
    }
   ],
   "source": [
    "apt21 = pd.read_csv('data/아파트(전월세)_실거래가_2021.csv', header=15, encoding='cp949')\n",
    "apt22 = pd.read_csv('data/아파트(전월세)_실거래가_2022.csv', header=15, encoding='cp949')\n",
    "apt23 = pd.read_csv('data/아파트(전월세)_실거래가_2023.csv', header=15, encoding='cp949')"
   ]
  },
  {
   "cell_type": "code",
   "execution_count": 3,
   "id": "99edd8fe",
   "metadata": {},
   "outputs": [],
   "source": [
    "apt21_deal = pd.read_csv('data/아파트(매매)_실거래가_2021.csv', header=15, encoding='cp949')\n",
    "apt22_deal = pd.read_csv('data/아파트(매매)_실거래가_2022.csv', header=15, encoding='cp949')\n",
    "apt23_deal = pd.read_csv('data/아파트(매매)_실거래가_2023.csv', header=15, encoding='cp949')"
   ]
  },
  {
   "cell_type": "markdown",
   "id": "3aa00abd",
   "metadata": {},
   "source": [
    "### 전처리"
   ]
  },
  {
   "cell_type": "code",
   "execution_count": 33,
   "id": "be54430b",
   "metadata": {},
   "outputs": [],
   "source": [
    "apt21_df = apt21[apt21['전월세구분']=='전세']\n",
    "apt22_df = apt22[apt22['전월세구분']=='전세']\n",
    "apt23_df = apt23[apt23['전월세구분']=='전세']"
   ]
  },
  {
   "cell_type": "code",
   "execution_count": 36,
   "id": "f53e34f8",
   "metadata": {},
   "outputs": [],
   "source": [
    "apt21_dea1_df = apt21[apt21['전월세구분']=='전세']\n",
    "apt22_deal_df = apt22[apt22['전월세구분']=='전세']\n",
    "apt23_deal_df = apt23[apt23['전월세구분']=='전세']"
   ]
  },
  {
   "cell_type": "code",
   "execution_count": 5,
   "id": "ae0f83f0",
   "metadata": {},
   "outputs": [],
   "source": [
    "apt21['보증금(만원)'] = apt21['보증금(만원)'].str.replace(',', '').astype(int)\n",
    "apt21['월세금(만원)'] = apt21['월세금(만원)'].str.replace(',', '').astype(int)"
   ]
  },
  {
   "cell_type": "code",
   "execution_count": 6,
   "id": "5718124f",
   "metadata": {},
   "outputs": [],
   "source": [
    "apt21_deal['거래금액(만원)'] = apt21_deal['거래금액(만원)'].str.replace(',', '').astype(int)\n",
    "apt22_deal['거래금액(만원)'] = apt22_deal['거래금액(만원)'].str.replace(',', '').astype(int)\n",
    "apt23_deal['거래금액(만원)'] = apt23_deal['거래금액(만원)'].str.replace(',', '').astype(int)"
   ]
  },
  {
   "cell_type": "code",
   "execution_count": 37,
   "id": "ba7ab379",
   "metadata": {},
   "outputs": [
    {
     "data": {
      "text/html": [
       "<div>\n",
       "<style scoped>\n",
       "    .dataframe tbody tr th:only-of-type {\n",
       "        vertical-align: middle;\n",
       "    }\n",
       "\n",
       "    .dataframe tbody tr th {\n",
       "        vertical-align: top;\n",
       "    }\n",
       "\n",
       "    .dataframe thead th {\n",
       "        text-align: right;\n",
       "    }\n",
       "</style>\n",
       "<table border=\"1\" class=\"dataframe\">\n",
       "  <thead>\n",
       "    <tr style=\"text-align: right;\">\n",
       "      <th></th>\n",
       "      <th>NO</th>\n",
       "      <th>본번</th>\n",
       "      <th>부번</th>\n",
       "      <th>전용면적(㎡)</th>\n",
       "      <th>계약년월</th>\n",
       "      <th>계약일</th>\n",
       "      <th>거래금액(만원)</th>\n",
       "      <th>층</th>\n",
       "      <th>건축년도</th>\n",
       "    </tr>\n",
       "  </thead>\n",
       "  <tbody>\n",
       "    <tr>\n",
       "      <th>count</th>\n",
       "      <td>43390.000000</td>\n",
       "      <td>43390.000000</td>\n",
       "      <td>43390.000000</td>\n",
       "      <td>43390.000000</td>\n",
       "      <td>43390.000000</td>\n",
       "      <td>43390.000000</td>\n",
       "      <td>4.339000e+04</td>\n",
       "      <td>43390.000000</td>\n",
       "      <td>43390.000000</td>\n",
       "    </tr>\n",
       "    <tr>\n",
       "      <th>mean</th>\n",
       "      <td>21695.500000</td>\n",
       "      <td>593.198248</td>\n",
       "      <td>8.525190</td>\n",
       "      <td>73.512272</td>\n",
       "      <td>202105.421318</td>\n",
       "      <td>15.655520</td>\n",
       "      <td>1.026945e+05</td>\n",
       "      <td>9.152662</td>\n",
       "      <td>2001.850288</td>\n",
       "    </tr>\n",
       "    <tr>\n",
       "      <th>std</th>\n",
       "      <td>12525.758427</td>\n",
       "      <td>539.989475</td>\n",
       "      <td>63.749218</td>\n",
       "      <td>33.013821</td>\n",
       "      <td>3.089755</td>\n",
       "      <td>8.780965</td>\n",
       "      <td>7.507025e+04</td>\n",
       "      <td>6.256527</td>\n",
       "      <td>10.388964</td>\n",
       "    </tr>\n",
       "    <tr>\n",
       "      <th>min</th>\n",
       "      <td>1.000000</td>\n",
       "      <td>1.000000</td>\n",
       "      <td>0.000000</td>\n",
       "      <td>10.156000</td>\n",
       "      <td>202101.000000</td>\n",
       "      <td>1.000000</td>\n",
       "      <td>6.600000e+03</td>\n",
       "      <td>-1.000000</td>\n",
       "      <td>1961.000000</td>\n",
       "    </tr>\n",
       "    <tr>\n",
       "      <th>25%</th>\n",
       "      <td>10848.250000</td>\n",
       "      <td>205.000000</td>\n",
       "      <td>0.000000</td>\n",
       "      <td>58.140000</td>\n",
       "      <td>202103.000000</td>\n",
       "      <td>8.000000</td>\n",
       "      <td>5.880000e+04</td>\n",
       "      <td>4.000000</td>\n",
       "      <td>1995.000000</td>\n",
       "    </tr>\n",
       "    <tr>\n",
       "      <th>50%</th>\n",
       "      <td>21695.500000</td>\n",
       "      <td>492.000000</td>\n",
       "      <td>0.000000</td>\n",
       "      <td>70.645000</td>\n",
       "      <td>202105.000000</td>\n",
       "      <td>16.000000</td>\n",
       "      <td>8.470000e+04</td>\n",
       "      <td>8.000000</td>\n",
       "      <td>2002.000000</td>\n",
       "    </tr>\n",
       "    <tr>\n",
       "      <th>75%</th>\n",
       "      <td>32542.750000</td>\n",
       "      <td>810.000000</td>\n",
       "      <td>1.000000</td>\n",
       "      <td>84.950000</td>\n",
       "      <td>202108.000000</td>\n",
       "      <td>23.000000</td>\n",
       "      <td>1.275000e+05</td>\n",
       "      <td>13.000000</td>\n",
       "      <td>2009.000000</td>\n",
       "    </tr>\n",
       "    <tr>\n",
       "      <th>max</th>\n",
       "      <td>43390.000000</td>\n",
       "      <td>4969.000000</td>\n",
       "      <td>2837.000000</td>\n",
       "      <td>317.360000</td>\n",
       "      <td>202112.000000</td>\n",
       "      <td>31.000000</td>\n",
       "      <td>1.200000e+06</td>\n",
       "      <td>66.000000</td>\n",
       "      <td>2022.000000</td>\n",
       "    </tr>\n",
       "  </tbody>\n",
       "</table>\n",
       "</div>"
      ],
      "text/plain": [
       "                 NO            본번            부번       전용면적(㎡)           계약년월  \\\n",
       "count  43390.000000  43390.000000  43390.000000  43390.000000   43390.000000   \n",
       "mean   21695.500000    593.198248      8.525190     73.512272  202105.421318   \n",
       "std    12525.758427    539.989475     63.749218     33.013821       3.089755   \n",
       "min        1.000000      1.000000      0.000000     10.156000  202101.000000   \n",
       "25%    10848.250000    205.000000      0.000000     58.140000  202103.000000   \n",
       "50%    21695.500000    492.000000      0.000000     70.645000  202105.000000   \n",
       "75%    32542.750000    810.000000      1.000000     84.950000  202108.000000   \n",
       "max    43390.000000   4969.000000   2837.000000    317.360000  202112.000000   \n",
       "\n",
       "                계약일      거래금액(만원)             층          건축년도  \n",
       "count  43390.000000  4.339000e+04  43390.000000  43390.000000  \n",
       "mean      15.655520  1.026945e+05      9.152662   2001.850288  \n",
       "std        8.780965  7.507025e+04      6.256527     10.388964  \n",
       "min        1.000000  6.600000e+03     -1.000000   1961.000000  \n",
       "25%        8.000000  5.880000e+04      4.000000   1995.000000  \n",
       "50%       16.000000  8.470000e+04      8.000000   2002.000000  \n",
       "75%       23.000000  1.275000e+05     13.000000   2009.000000  \n",
       "max       31.000000  1.200000e+06     66.000000   2022.000000  "
      ]
     },
     "execution_count": 37,
     "metadata": {},
     "output_type": "execute_result"
    }
   ],
   "source": [
    "apt21_deal.describe()"
   ]
  },
  {
   "cell_type": "code",
   "execution_count": null,
   "id": "8ab71a15",
   "metadata": {},
   "outputs": [],
   "source": []
  },
  {
   "cell_type": "code",
   "execution_count": 38,
   "id": "36833852",
   "metadata": {},
   "outputs": [
    {
     "data": {
      "text/plain": [
       "count    4.339000e+04\n",
       "mean     1.026945e+05\n",
       "std      7.507025e+04\n",
       "min      6.600000e+03\n",
       "25%      5.880000e+04\n",
       "50%      8.470000e+04\n",
       "75%      1.275000e+05\n",
       "max      1.200000e+06\n",
       "Name: 거래금액(만원), dtype: float64"
      ]
     },
     "execution_count": 38,
     "metadata": {},
     "output_type": "execute_result"
    }
   ],
   "source": [
    "apt21_deal['거래금액(만원)'].describe()"
   ]
  },
  {
   "cell_type": "code",
   "execution_count": 39,
   "id": "9e59a27e",
   "metadata": {},
   "outputs": [
    {
     "data": {
      "text/plain": [
       "count    1.279900e+04\n",
       "mean     9.715524e+04\n",
       "std      9.462162e+04\n",
       "min      6.700000e+03\n",
       "25%      3.900000e+04\n",
       "50%      7.400000e+04\n",
       "75%      1.200000e+05\n",
       "max      1.450000e+06\n",
       "Name: 거래금액(만원), dtype: float64"
      ]
     },
     "execution_count": 39,
     "metadata": {},
     "output_type": "execute_result"
    }
   ],
   "source": [
    "apt22_deal['거래금액(만원)'].describe()"
   ]
  },
  {
   "cell_type": "code",
   "execution_count": 40,
   "id": "b4858dc0",
   "metadata": {},
   "outputs": [
    {
     "data": {
      "text/plain": [
       "count    3.565800e+04\n",
       "mean     1.064337e+05\n",
       "std      7.797207e+04\n",
       "min      7.400000e+03\n",
       "25%      6.000000e+04\n",
       "50%      8.700000e+04\n",
       "75%      1.295000e+05\n",
       "max      1.800000e+06\n",
       "Name: 거래금액(만원), dtype: float64"
      ]
     },
     "execution_count": 40,
     "metadata": {},
     "output_type": "execute_result"
    }
   ],
   "source": [
    "apt23_deal['거래금액(만원)'].describe()"
   ]
  },
  {
   "cell_type": "markdown",
   "id": "97a82d47",
   "metadata": {},
   "source": [
    "- 21년 거래 건수: 43,390건  /  평균 거래가 : 102,694.5만원 (10.3억 원)\n",
    "- 22년 거래 건수: 12,799건  /  평균 거래가 : 97,155만원 (약 9.7억 원)\n",
    "- 23년 거래 건수: 35,658건  /  평균 거래가 : 106,433만원 (약 10.6억)"
   ]
  },
  {
   "cell_type": "code",
   "execution_count": 43,
   "id": "f98cfaf0",
   "metadata": {},
   "outputs": [
    {
     "data": {
      "text/plain": [
       "NO                   0\n",
       "시군구                  0\n",
       "번지                   0\n",
       "본번                   0\n",
       "부번                   0\n",
       "단지명                  0\n",
       "전월세구분                0\n",
       "전용면적(㎡)              0\n",
       "계약년월                 0\n",
       "계약일                  0\n",
       "보증금(만원)              0\n",
       "월세금(만원)              0\n",
       "층                    0\n",
       "건축년도                 0\n",
       "도로명                  0\n",
       "계약기간                 0\n",
       "계약구분                 0\n",
       "갱신요구권 사용             0\n",
       "종전계약 보증금(만원)    108766\n",
       "종전계약 월세(만원)     108766\n",
       "주택유형                 0\n",
       "dtype: int64"
      ]
     },
     "execution_count": 43,
     "metadata": {},
     "output_type": "execute_result"
    }
   ],
   "source": [
    "apt21_df.isnull().sum()"
   ]
  },
  {
   "cell_type": "markdown",
   "id": "15b47dde",
   "metadata": {},
   "source": []
  },
  {
   "cell_type": "code",
   "execution_count": 48,
   "id": "69213ecf",
   "metadata": {},
   "outputs": [
    {
     "data": {
      "text/plain": [
       "40,000    1092\n",
       "50,000     868\n",
       "45,000     852\n",
       "35,000     792\n",
       "30,000     733\n",
       "          ... \n",
       "60,200       1\n",
       "8,700        1\n",
       "54,900       1\n",
       "47,300       1\n",
       "53,700       1\n",
       "Name: 종전계약 보증금(만원), Length: 671, dtype: int64"
      ]
     },
     "execution_count": 48,
     "metadata": {},
     "output_type": "execute_result"
    }
   ],
   "source": [
    "apt21_df['종전계약 보증금(만원)'].value_counts()"
   ]
  },
  {
   "cell_type": "code",
   "execution_count": 46,
   "id": "0df07abd",
   "metadata": {},
   "outputs": [
    {
     "data": {
      "text/plain": [
       "<Axes: >"
      ]
     },
     "execution_count": 46,
     "metadata": {},
     "output_type": "execute_result"
    },
    {
     "data": {
      "image/png": "[encoded data removed]",
      "text/plain": [
       "<Figure size 640x480 with 1 Axes>"
      ]
     },
     "metadata": {},
     "output_type": "display_data"
    }
   ],
   "source": [
    "apt21_df['보증금(만원)'].hist()"
   ]
  }
 ],
 "metadata": {
  "kernelspec": {
   "display_name": "base",
   "language": "python",
   "name": "python3"
  },
  "language_info": {
   "codemirror_mode": {
    "name": "ipython",
    "version": 3
   },
   "file_extension": ".py",
   "mimetype": "text/x-python",
   "name": "python",
   "nbconvert_exporter": "python",
   "pygments_lexer": "ipython3",
   "version": "3.11.4"
  }
 },
 "nbformat": 4,
 "nbformat_minor": 5
}
