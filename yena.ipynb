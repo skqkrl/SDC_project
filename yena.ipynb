{
 "cells": [
  {
   "cell_type": "code",
   "execution_count": null,
   "id": "19a5482b",
   "metadata": {
    "vscode": {
     "languageId": "plaintext"
    }
   },
   "outputs": [],
   "source": [
    "예나님 파일로 시범"
   ]
  },
  {
   "cell_type": "code",
   "execution_count": null,
   "id": "0b6019de",
   "metadata": {
    "vscode": {
     "languageId": "plaintext"
    }
   },
   "outputs": [],
   "source": [
    "집에가서 데스크 탑을 사용해야 하기 때문에"
   ]
  },
  {
   "cell_type": "code",
   "execution_count": null,
   "id": "4432575b",
   "metadata": {
    "vscode": {
     "languageId": "plaintext"
    }
   },
   "outputs": [],
   "source": []
  },
  {
   "cell_type": "code",
   "execution_count": null,
   "id": "884538cd",
   "metadata": {
    "vscode": {
     "languageId": "plaintext"
    }
   },
   "outputs": [],
   "source": []
  }
 ],
 "metadata": {
  "language_info": {
   "name": "python"
  }
 },
 "nbformat": 4,
 "nbformat_minor": 5
}
