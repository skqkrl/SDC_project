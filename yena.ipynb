{
 "cells": [
  {
   "cell_type": "markdown",
   "id": "3c71310f",
   "metadata": {},
   "source": [
    "# 아파트_실거래가"
   ]
  },
  {
   "cell_type": "markdown",
   "id": "d642bf7c",
   "metadata": {},
   "source": [
    "### 데이터 불러오기"
   ]
  },
  {
   "cell_type": "code",
   "execution_count": 1,
   "id": "ebb885ad",
   "metadata": {},
   "outputs": [],
   "source": [
    "import pandas as pd\n",
    "import numpy as np\n",
    "import matplotlib.pyplot as plt\n",
    "import seaborn as sns\n",
    "import koreanize_matplotlib"
   ]
  },
  {
   "cell_type": "code",
   "execution_count": 2,
   "id": "0b6019de",
   "metadata": {},
   "outputs": [],
   "source": [
    "apt23 = pd.read_csv('data_yena/아파트(전월세)_실거래가_2023.csv', header=15, encoding='cp949')\n",
    "apt24 = pd.read_csv('data_yena/아파트(전월세)_실거래가_2024.csv', header=15, encoding='cp949')"
   ]
  },
  {
   "cell_type": "code",
   "execution_count": 3,
   "id": "99edd8fe",
   "metadata": {},
   "outputs": [],
   "source": [
    "apt23_deal = pd.read_csv('data_yena/아파트(매매)_실거래가_2023.csv', header=15, encoding='cp949')\n",
    "apt24_deal = pd.read_csv('data_yena/아파트(매매)_실거래가_2024.csv', header=15, encoding='cp949')"
   ]
  },
  {
   "cell_type": "markdown",
   "id": "3aa00abd",
   "metadata": {},
   "source": [
    "### 전처리"
   ]
  },
  {
   "cell_type": "code",
   "execution_count": 4,
   "id": "be54430b",
   "metadata": {},
   "outputs": [],
   "source": [
    "apt23_df = apt23[apt23['전월세구분']=='전세']\n",
    "apt24_df = apt24[apt24['전월세구분']=='전세']"
   ]
  },
  {
   "cell_type": "code",
   "execution_count": 5,
   "id": "ae0f83f0",
   "metadata": {},
   "outputs": [
    {
     "name": "stderr",
     "output_type": "stream",
     "text": [
      "C:\\Users\\emily\\AppData\\Local\\Temp\\ipykernel_20360\\3222935364.py:1: SettingWithCopyWarning: \n",
      "A value is trying to be set on a copy of a slice from a DataFrame.\n",
      "Try using .loc[row_indexer,col_indexer] = value instead\n",
      "\n",
      "See the caveats in the documentation: https://pandas.pydata.org/pandas-docs/stable/user_guide/indexing.html#returning-a-view-versus-a-copy\n",
      "  apt23_df['월세금(만원)'] = apt23_df['월세금(만원)'].str.replace(',', '').astype(int)\n",
      "C:\\Users\\emily\\AppData\\Local\\Temp\\ipykernel_20360\\3222935364.py:2: SettingWithCopyWarning: \n",
      "A value is trying to be set on a copy of a slice from a DataFrame.\n",
      "Try using .loc[row_indexer,col_indexer] = value instead\n",
      "\n",
      "See the caveats in the documentation: https://pandas.pydata.org/pandas-docs/stable/user_guide/indexing.html#returning-a-view-versus-a-copy\n",
      "  apt24_df['월세금(만원)'] = apt24_df['월세금(만원)'].str.replace(',', '').astype(int)\n"
     ]
    }
   ],
   "source": [
    "apt23_df['월세금(만원)'] = apt23_df['월세금(만원)'].str.replace(',', '').astype(int)\n",
    "apt24_df['월세금(만원)'] = apt24_df['월세금(만원)'].str.replace(',', '').astype(int)"
   ]
  },
  {
   "cell_type": "code",
   "execution_count": 6,
   "id": "c8948e00",
   "metadata": {},
   "outputs": [
    {
     "name": "stderr",
     "output_type": "stream",
     "text": [
      "C:\\Users\\emily\\AppData\\Local\\Temp\\ipykernel_20360\\760281986.py:1: SettingWithCopyWarning: \n",
      "A value is trying to be set on a copy of a slice from a DataFrame.\n",
      "Try using .loc[row_indexer,col_indexer] = value instead\n",
      "\n",
      "See the caveats in the documentation: https://pandas.pydata.org/pandas-docs/stable/user_guide/indexing.html#returning-a-view-versus-a-copy\n",
      "  apt23_df['보증금(만원)'] = apt23_df['보증금(만원)'].astype(str).str.replace(',', '', regex=False)\n",
      "C:\\Users\\emily\\AppData\\Local\\Temp\\ipykernel_20360\\760281986.py:2: SettingWithCopyWarning: \n",
      "A value is trying to be set on a copy of a slice from a DataFrame.\n",
      "Try using .loc[row_indexer,col_indexer] = value instead\n",
      "\n",
      "See the caveats in the documentation: https://pandas.pydata.org/pandas-docs/stable/user_guide/indexing.html#returning-a-view-versus-a-copy\n",
      "  apt23_df['보증금(만원)'] = pd.to_numeric(apt23_df['보증금(만원)']).astype(int)\n"
     ]
    }
   ],
   "source": [
    "apt23_df['보증금(만원)'] = apt23_df['보증금(만원)'].astype(str).str.replace(',', '', regex=False)\n",
    "apt23_df['보증금(만원)'] = pd.to_numeric(apt23_df['보증금(만원)']).astype(int)"
   ]
  },
  {
   "cell_type": "code",
   "execution_count": 7,
   "id": "c97816dc",
   "metadata": {},
   "outputs": [
    {
     "name": "stderr",
     "output_type": "stream",
     "text": [
      "C:\\Users\\emily\\AppData\\Local\\Temp\\ipykernel_20360\\3453946786.py:1: SettingWithCopyWarning: \n",
      "A value is trying to be set on a copy of a slice from a DataFrame.\n",
      "Try using .loc[row_indexer,col_indexer] = value instead\n",
      "\n",
      "See the caveats in the documentation: https://pandas.pydata.org/pandas-docs/stable/user_guide/indexing.html#returning-a-view-versus-a-copy\n",
      "  apt24_df['보증금(만원)'] = apt24_df['보증금(만원)'].astype(str).str.replace(',', '', regex=False)\n",
      "C:\\Users\\emily\\AppData\\Local\\Temp\\ipykernel_20360\\3453946786.py:2: SettingWithCopyWarning: \n",
      "A value is trying to be set on a copy of a slice from a DataFrame.\n",
      "Try using .loc[row_indexer,col_indexer] = value instead\n",
      "\n",
      "See the caveats in the documentation: https://pandas.pydata.org/pandas-docs/stable/user_guide/indexing.html#returning-a-view-versus-a-copy\n",
      "  apt24_df['보증금(만원)'] = pd.to_numeric(apt24_df['보증금(만원)']).astype(int)\n"
     ]
    }
   ],
   "source": [
    "apt24_df['보증금(만원)'] = apt24_df['보증금(만원)'].astype(str).str.replace(',', '', regex=False)\n",
    "apt24_df['보증금(만원)'] = pd.to_numeric(apt24_df['보증금(만원)']).astype(int)"
   ]
  },
  {
   "cell_type": "code",
   "execution_count": 8,
   "id": "5718124f",
   "metadata": {},
   "outputs": [],
   "source": [
    "apt23_deal['거래금액(만원)'] = apt23_deal['거래금액(만원)'].str.replace(',', '').astype(int)\n",
    "apt24_deal['거래금액(만원)'] = apt24_deal['거래금액(만원)'].str.replace(',', '').astype(int)"
   ]
  },
  {
   "cell_type": "code",
   "execution_count": 9,
   "id": "7b989850",
   "metadata": {},
   "outputs": [
    {
     "name": "stderr",
     "output_type": "stream",
     "text": [
      "C:\\Users\\emily\\AppData\\Local\\Temp\\ipykernel_20360\\2180389127.py:1: SettingWithCopyWarning: \n",
      "A value is trying to be set on a copy of a slice from a DataFrame.\n",
      "Try using .loc[row_indexer,col_indexer] = value instead\n",
      "\n",
      "See the caveats in the documentation: https://pandas.pydata.org/pandas-docs/stable/user_guide/indexing.html#returning-a-view-versus-a-copy\n",
      "  apt23_df['계약년월'] = pd.to_datetime(apt23_df['계약년월'].astype(str), format='%Y%m')\n",
      "C:\\Users\\emily\\AppData\\Local\\Temp\\ipykernel_20360\\2180389127.py:2: SettingWithCopyWarning: \n",
      "A value is trying to be set on a copy of a slice from a DataFrame.\n",
      "Try using .loc[row_indexer,col_indexer] = value instead\n",
      "\n",
      "See the caveats in the documentation: https://pandas.pydata.org/pandas-docs/stable/user_guide/indexing.html#returning-a-view-versus-a-copy\n",
      "  apt24_df['계약년월'] = pd.to_datetime(apt24_df['계약년월'].astype(str), format='%Y%m')\n"
     ]
    }
   ],
   "source": [
    "apt23_df['계약년월'] = pd.to_datetime(apt23_df['계약년월'].astype(str), format='%Y%m')\n",
    "apt24_df['계약년월'] = pd.to_datetime(apt24_df['계약년월'].astype(str), format='%Y%m')"
   ]
  },
  {
   "cell_type": "code",
   "execution_count": 10,
   "id": "3e485ad3",
   "metadata": {},
   "outputs": [],
   "source": [
    "apt23_deal['계약년월'] = pd.to_datetime(apt23_deal['계약년월'].astype(str), format='%Y%m')\n",
    "apt24_deal['계약년월'] = pd.to_datetime(apt24_deal['계약년월'].astype(str), format='%Y%m')"
   ]
  },
  {
   "cell_type": "code",
   "execution_count": null,
   "id": "ffbc4bd4",
   "metadata": {},
   "outputs": [],
   "source": []
  },
  {
   "cell_type": "code",
   "execution_count": 35,
   "id": "837ea5de",
   "metadata": {},
   "outputs": [
    {
     "data": {
      "text/plain": [
       "신규    95827\n",
       "갱신    44797\n",
       "-     25235\n",
       "Name: 계약구분, dtype: int64"
      ]
     },
     "execution_count": 35,
     "metadata": {},
     "output_type": "execute_result"
    }
   ],
   "source": [
    "apt23_df['계약구분'].value_counts()"
   ]
  },
  {
   "cell_type": "code",
   "execution_count": 36,
   "id": "a980ce0c",
   "metadata": {},
   "outputs": [
    {
     "data": {
      "text/plain": [
       "신규    89813\n",
       "갱신    45707\n",
       "-      8349\n",
       "Name: 계약구분, dtype: int64"
      ]
     },
     "execution_count": 36,
     "metadata": {},
     "output_type": "execute_result"
    }
   ],
   "source": [
    "apt24_df['계약구분'].value_counts()"
   ]
  },
  {
   "cell_type": "code",
   "execution_count": 41,
   "id": "cf185829",
   "metadata": {},
   "outputs": [
    {
     "data": {
      "text/plain": [
       "0         NaN\n",
       "4         NaN\n",
       "6         NaN\n",
       "10        NaN\n",
       "12        NaN\n",
       "         ... \n",
       "283306    NaN\n",
       "283318    NaN\n",
       "283319    NaN\n",
       "283323    NaN\n",
       "283324    NaN\n",
       "Name: 종전계약 보증금(만원), Length: 95827, dtype: object"
      ]
     },
     "execution_count": 41,
     "metadata": {},
     "output_type": "execute_result"
    }
   ],
   "source": [
    "apt23_df[apt23_df['계약구분']=='신규']['종전계약 보증금(만원)']"
   ]
  },
  {
   "cell_type": "code",
   "execution_count": 37,
   "id": "a5ebf4e2",
   "metadata": {},
   "outputs": [
    {
     "data": {
      "text/plain": [
       "5         NaN\n",
       "9         NaN\n",
       "16        NaN\n",
       "19        NaN\n",
       "29        NaN\n",
       "         ... \n",
       "283303    NaN\n",
       "283307    NaN\n",
       "283317    NaN\n",
       "283320    NaN\n",
       "283322    NaN\n",
       "Name: 종전계약 보증금(만원), Length: 25235, dtype: object"
      ]
     },
     "execution_count": 37,
     "metadata": {},
     "output_type": "execute_result"
    }
   ],
   "source": [
    "apt23_df[apt23_df['계약구분']=='-']['종전계약 보증금(만원)']"
   ]
  },
  {
   "cell_type": "markdown",
   "id": "3d1347f6",
   "metadata": {},
   "source": [
    "- 계약구분이 '-'인 경우 종전계약 보증금 내역이 없으므로 계약구분을 신규인 것으로 가정하고 분석 진행"
   ]
  },
  {
   "cell_type": "code",
   "execution_count": 42,
   "id": "980037d4",
   "metadata": {},
   "outputs": [
    {
     "name": "stderr",
     "output_type": "stream",
     "text": [
      "C:\\Users\\emily\\AppData\\Local\\Temp\\ipykernel_20360\\365054085.py:1: SettingWithCopyWarning: \n",
      "A value is trying to be set on a copy of a slice from a DataFrame.\n",
      "Try using .loc[row_indexer,col_indexer] = value instead\n",
      "\n",
      "See the caveats in the documentation: https://pandas.pydata.org/pandas-docs/stable/user_guide/indexing.html#returning-a-view-versus-a-copy\n",
      "  apt23_df['계약구분'] = apt23_df['계약구분'].replace('-', '신규')\n"
     ]
    },
    {
     "data": {
      "text/plain": [
       "신규    121062\n",
       "갱신     44797\n",
       "Name: 계약구분, dtype: int64"
      ]
     },
     "execution_count": 42,
     "metadata": {},
     "output_type": "execute_result"
    }
   ],
   "source": [
    "apt23_df['계약구분'] = apt23_df['계약구분'].replace('-', '신규')\n",
    "apt23_df['계약구분'].value_counts()"
   ]
  },
  {
   "cell_type": "code",
   "execution_count": 47,
   "id": "fa994f81",
   "metadata": {},
   "outputs": [
    {
     "data": {
      "text/plain": [
       "<Axes: ylabel='계약구분'>"
      ]
     },
     "execution_count": 47,
     "metadata": {},
     "output_type": "execute_result"
    },
    {
     "data": {
      "image/png": "[encoded data removed]",
      "text/plain": [
       "<Figure size 640x480 with 1 Axes>"
      ]
     },
     "metadata": {},
     "output_type": "display_data"
    }
   ],
   "source": [
    "apt23_df['계약구분'].value_counts().plot(kind='pie')"
   ]
  },
  {
   "cell_type": "code",
   "execution_count": 43,
   "id": "7dda645d",
   "metadata": {},
   "outputs": [
    {
     "name": "stderr",
     "output_type": "stream",
     "text": [
      "C:\\Users\\emily\\AppData\\Local\\Temp\\ipykernel_20360\\1549378080.py:1: SettingWithCopyWarning: \n",
      "A value is trying to be set on a copy of a slice from a DataFrame.\n",
      "Try using .loc[row_indexer,col_indexer] = value instead\n",
      "\n",
      "See the caveats in the documentation: https://pandas.pydata.org/pandas-docs/stable/user_guide/indexing.html#returning-a-view-versus-a-copy\n",
      "  apt24_df['계약구분'] = apt23_df['계약구분'].replace('-', '신규')\n"
     ]
    },
    {
     "data": {
      "text/plain": [
       "신규    62025\n",
       "갱신    22713\n",
       "Name: 계약구분, dtype: int64"
      ]
     },
     "execution_count": 43,
     "metadata": {},
     "output_type": "execute_result"
    }
   ],
   "source": [
    "apt24_df['계약구분'] = apt23_df['계약구분'].replace('-', '신규')\n",
    "apt24_df['계약구분'].value_counts()"
   ]
  },
  {
   "cell_type": "code",
   "execution_count": 48,
   "id": "dea6a5aa",
   "metadata": {},
   "outputs": [
    {
     "data": {
      "text/plain": [
       "<Axes: ylabel='계약구분'>"
      ]
     },
     "execution_count": 48,
     "metadata": {},
     "output_type": "execute_result"
    },
    {
     "data": {
      "image/png": "[encoded data removed]",
      "text/plain": [
       "<Figure size 640x480 with 1 Axes>"
      ]
     },
     "metadata": {},
     "output_type": "display_data"
    }
   ],
   "source": [
    "apt24_df['계약구분'].value_counts().plot(kind='pie')"
   ]
  },
  {
   "cell_type": "code",
   "execution_count": 51,
   "id": "9a562a26",
   "metadata": {},
   "outputs": [
    {
     "data": {
      "text/html": [
       "<div>\n",
       "<style scoped>\n",
       "    .dataframe tbody tr th:only-of-type {\n",
       "        vertical-align: middle;\n",
       "    }\n",
       "\n",
       "    .dataframe tbody tr th {\n",
       "        vertical-align: top;\n",
       "    }\n",
       "\n",
       "    .dataframe thead th {\n",
       "        text-align: right;\n",
       "    }\n",
       "</style>\n",
       "<table border=\"1\" class=\"dataframe\">\n",
       "  <thead>\n",
       "    <tr style=\"text-align: right;\">\n",
       "      <th></th>\n",
       "      <th>NO</th>\n",
       "      <th>시군구</th>\n",
       "      <th>번지</th>\n",
       "      <th>본번</th>\n",
       "      <th>부번</th>\n",
       "      <th>단지명</th>\n",
       "      <th>전월세구분</th>\n",
       "      <th>전용면적(㎡)</th>\n",
       "      <th>계약년월</th>\n",
       "      <th>계약일</th>\n",
       "      <th>...</th>\n",
       "      <th>월세금(만원)</th>\n",
       "      <th>층</th>\n",
       "      <th>건축년도</th>\n",
       "      <th>도로명</th>\n",
       "      <th>계약기간</th>\n",
       "      <th>계약구분</th>\n",
       "      <th>갱신요구권 사용</th>\n",
       "      <th>종전계약 보증금(만원)</th>\n",
       "      <th>종전계약 월세(만원)</th>\n",
       "      <th>주택유형</th>\n",
       "    </tr>\n",
       "  </thead>\n",
       "  <tbody>\n",
       "    <tr>\n",
       "      <th>22</th>\n",
       "      <td>23</td>\n",
       "      <td>서울특별시 마포구 창전동</td>\n",
       "      <td>438</td>\n",
       "      <td>438</td>\n",
       "      <td>0</td>\n",
       "      <td>신촌금호</td>\n",
       "      <td>전세</td>\n",
       "      <td>59.210</td>\n",
       "      <td>2023-12-01</td>\n",
       "      <td>31</td>\n",
       "      <td>...</td>\n",
       "      <td>0</td>\n",
       "      <td>2</td>\n",
       "      <td>2001</td>\n",
       "      <td>서강로9길 19</td>\n",
       "      <td>202402~202602</td>\n",
       "      <td>갱신</td>\n",
       "      <td>-</td>\n",
       "      <td>42,000</td>\n",
       "      <td>0</td>\n",
       "      <td>아파트</td>\n",
       "    </tr>\n",
       "    <tr>\n",
       "      <th>25</th>\n",
       "      <td>26</td>\n",
       "      <td>서울특별시 송파구 가락동</td>\n",
       "      <td>913</td>\n",
       "      <td>913</td>\n",
       "      <td>0</td>\n",
       "      <td>헬리오시티</td>\n",
       "      <td>전세</td>\n",
       "      <td>84.990</td>\n",
       "      <td>2023-12-01</td>\n",
       "      <td>31</td>\n",
       "      <td>...</td>\n",
       "      <td>0</td>\n",
       "      <td>2</td>\n",
       "      <td>2018</td>\n",
       "      <td>송파대로 345</td>\n",
       "      <td>202402~202602</td>\n",
       "      <td>갱신</td>\n",
       "      <td>-</td>\n",
       "      <td>106,000</td>\n",
       "      <td>0</td>\n",
       "      <td>아파트</td>\n",
       "    </tr>\n",
       "    <tr>\n",
       "      <th>26</th>\n",
       "      <td>27</td>\n",
       "      <td>서울특별시 송파구 잠실동</td>\n",
       "      <td>35</td>\n",
       "      <td>35</td>\n",
       "      <td>0</td>\n",
       "      <td>트리지움</td>\n",
       "      <td>전세</td>\n",
       "      <td>149.450</td>\n",
       "      <td>2023-12-01</td>\n",
       "      <td>31</td>\n",
       "      <td>...</td>\n",
       "      <td>0</td>\n",
       "      <td>23</td>\n",
       "      <td>2007</td>\n",
       "      <td>잠실로 62</td>\n",
       "      <td>202408~202508</td>\n",
       "      <td>갱신</td>\n",
       "      <td>-</td>\n",
       "      <td>100,000</td>\n",
       "      <td>0</td>\n",
       "      <td>아파트</td>\n",
       "    </tr>\n",
       "    <tr>\n",
       "      <th>27</th>\n",
       "      <td>28</td>\n",
       "      <td>서울특별시 송파구 잠실동</td>\n",
       "      <td>35</td>\n",
       "      <td>35</td>\n",
       "      <td>0</td>\n",
       "      <td>트리지움</td>\n",
       "      <td>전세</td>\n",
       "      <td>149.450</td>\n",
       "      <td>2023-12-01</td>\n",
       "      <td>31</td>\n",
       "      <td>...</td>\n",
       "      <td>0</td>\n",
       "      <td>23</td>\n",
       "      <td>2007</td>\n",
       "      <td>잠실로 62</td>\n",
       "      <td>202408~202508</td>\n",
       "      <td>갱신</td>\n",
       "      <td>-</td>\n",
       "      <td>100,000</td>\n",
       "      <td>0</td>\n",
       "      <td>아파트</td>\n",
       "    </tr>\n",
       "    <tr>\n",
       "      <th>53</th>\n",
       "      <td>54</td>\n",
       "      <td>서울특별시 영등포구 대림동</td>\n",
       "      <td>1101-7</td>\n",
       "      <td>1101</td>\n",
       "      <td>7</td>\n",
       "      <td>G밸리소홈</td>\n",
       "      <td>전세</td>\n",
       "      <td>16.100</td>\n",
       "      <td>2023-12-01</td>\n",
       "      <td>31</td>\n",
       "      <td>...</td>\n",
       "      <td>0</td>\n",
       "      <td>7</td>\n",
       "      <td>2018</td>\n",
       "      <td>도림천로19길 11</td>\n",
       "      <td>202312~202412</td>\n",
       "      <td>갱신</td>\n",
       "      <td>-</td>\n",
       "      <td>14,870</td>\n",
       "      <td>0</td>\n",
       "      <td>아파트</td>\n",
       "    </tr>\n",
       "    <tr>\n",
       "      <th>...</th>\n",
       "      <td>...</td>\n",
       "      <td>...</td>\n",
       "      <td>...</td>\n",
       "      <td>...</td>\n",
       "      <td>...</td>\n",
       "      <td>...</td>\n",
       "      <td>...</td>\n",
       "      <td>...</td>\n",
       "      <td>...</td>\n",
       "      <td>...</td>\n",
       "      <td>...</td>\n",
       "      <td>...</td>\n",
       "      <td>...</td>\n",
       "      <td>...</td>\n",
       "      <td>...</td>\n",
       "      <td>...</td>\n",
       "      <td>...</td>\n",
       "      <td>...</td>\n",
       "      <td>...</td>\n",
       "      <td>...</td>\n",
       "      <td>...</td>\n",
       "    </tr>\n",
       "    <tr>\n",
       "      <th>283296</th>\n",
       "      <td>283297</td>\n",
       "      <td>서울특별시 노원구 공릉동</td>\n",
       "      <td>81</td>\n",
       "      <td>81</td>\n",
       "      <td>0</td>\n",
       "      <td>태강아파트(아이파크)</td>\n",
       "      <td>전세</td>\n",
       "      <td>49.600</td>\n",
       "      <td>2023-01-01</td>\n",
       "      <td>1</td>\n",
       "      <td>...</td>\n",
       "      <td>0</td>\n",
       "      <td>9</td>\n",
       "      <td>1999</td>\n",
       "      <td>공릉로34길 62</td>\n",
       "      <td>202302~202502</td>\n",
       "      <td>갱신</td>\n",
       "      <td>사용</td>\n",
       "      <td>23,000</td>\n",
       "      <td>0</td>\n",
       "      <td>아파트</td>\n",
       "    </tr>\n",
       "    <tr>\n",
       "      <th>283305</th>\n",
       "      <td>283306</td>\n",
       "      <td>서울특별시 강동구 상일동</td>\n",
       "      <td>521</td>\n",
       "      <td>521</td>\n",
       "      <td>0</td>\n",
       "      <td>고덕자이</td>\n",
       "      <td>전세</td>\n",
       "      <td>84.445</td>\n",
       "      <td>2023-01-01</td>\n",
       "      <td>1</td>\n",
       "      <td>...</td>\n",
       "      <td>0</td>\n",
       "      <td>19</td>\n",
       "      <td>2021</td>\n",
       "      <td>상일로 55</td>\n",
       "      <td>202303~202503</td>\n",
       "      <td>갱신</td>\n",
       "      <td>사용</td>\n",
       "      <td>80,000</td>\n",
       "      <td>0</td>\n",
       "      <td>아파트</td>\n",
       "    </tr>\n",
       "    <tr>\n",
       "      <th>283309</th>\n",
       "      <td>283310</td>\n",
       "      <td>서울특별시 강남구 개포동</td>\n",
       "      <td>1280</td>\n",
       "      <td>1280</td>\n",
       "      <td>0</td>\n",
       "      <td>래미안블레스티지</td>\n",
       "      <td>전세</td>\n",
       "      <td>59.837</td>\n",
       "      <td>2023-01-01</td>\n",
       "      <td>1</td>\n",
       "      <td>...</td>\n",
       "      <td>0</td>\n",
       "      <td>13</td>\n",
       "      <td>2019</td>\n",
       "      <td>선릉로 8</td>\n",
       "      <td>202301~202505</td>\n",
       "      <td>갱신</td>\n",
       "      <td>-</td>\n",
       "      <td>70,350</td>\n",
       "      <td>0</td>\n",
       "      <td>아파트</td>\n",
       "    </tr>\n",
       "    <tr>\n",
       "      <th>283315</th>\n",
       "      <td>283316</td>\n",
       "      <td>서울특별시 관악구 남현동</td>\n",
       "      <td>602-146</td>\n",
       "      <td>602</td>\n",
       "      <td>146</td>\n",
       "      <td>남현그린</td>\n",
       "      <td>전세</td>\n",
       "      <td>88.400</td>\n",
       "      <td>2023-01-01</td>\n",
       "      <td>1</td>\n",
       "      <td>...</td>\n",
       "      <td>0</td>\n",
       "      <td>3</td>\n",
       "      <td>2002</td>\n",
       "      <td>승방1길 66</td>\n",
       "      <td>202301~202412</td>\n",
       "      <td>갱신</td>\n",
       "      <td>사용</td>\n",
       "      <td>50,000</td>\n",
       "      <td>0</td>\n",
       "      <td>아파트</td>\n",
       "    </tr>\n",
       "    <tr>\n",
       "      <th>283326</th>\n",
       "      <td>283327</td>\n",
       "      <td>서울특별시 영등포구 양평동5가</td>\n",
       "      <td>9-1</td>\n",
       "      <td>9</td>\n",
       "      <td>1</td>\n",
       "      <td>동보</td>\n",
       "      <td>전세</td>\n",
       "      <td>59.400</td>\n",
       "      <td>2023-01-01</td>\n",
       "      <td>1</td>\n",
       "      <td>...</td>\n",
       "      <td>0</td>\n",
       "      <td>14</td>\n",
       "      <td>1998</td>\n",
       "      <td>양평로23길 18</td>\n",
       "      <td>-</td>\n",
       "      <td>갱신</td>\n",
       "      <td>사용</td>\n",
       "      <td>43,000</td>\n",
       "      <td>0</td>\n",
       "      <td>아파트</td>\n",
       "    </tr>\n",
       "  </tbody>\n",
       "</table>\n",
       "<p>44797 rows × 21 columns</p>\n",
       "</div>"
      ],
      "text/plain": [
       "            NO               시군구       번지    본번   부번          단지명 전월세구분  \\\n",
       "22          23     서울특별시 마포구 창전동      438   438    0         신촌금호    전세   \n",
       "25          26     서울특별시 송파구 가락동      913   913    0        헬리오시티    전세   \n",
       "26          27     서울특별시 송파구 잠실동       35    35    0         트리지움    전세   \n",
       "27          28     서울특별시 송파구 잠실동       35    35    0         트리지움    전세   \n",
       "53          54    서울특별시 영등포구 대림동   1101-7  1101    7        G밸리소홈    전세   \n",
       "...        ...               ...      ...   ...  ...          ...   ...   \n",
       "283296  283297     서울특별시 노원구 공릉동       81    81    0  태강아파트(아이파크)    전세   \n",
       "283305  283306     서울특별시 강동구 상일동      521   521    0         고덕자이    전세   \n",
       "283309  283310     서울특별시 강남구 개포동     1280  1280    0     래미안블레스티지    전세   \n",
       "283315  283316     서울특별시 관악구 남현동  602-146   602  146         남현그린    전세   \n",
       "283326  283327  서울특별시 영등포구 양평동5가      9-1     9    1           동보    전세   \n",
       "\n",
       "        전용면적(㎡)       계약년월  계약일  ...  월세금(만원)   층  건축년도         도로명  \\\n",
       "22       59.210 2023-12-01   31  ...        0   2  2001    서강로9길 19   \n",
       "25       84.990 2023-12-01   31  ...        0   2  2018    송파대로 345   \n",
       "26      149.450 2023-12-01   31  ...        0  23  2007      잠실로 62   \n",
       "27      149.450 2023-12-01   31  ...        0  23  2007      잠실로 62   \n",
       "53       16.100 2023-12-01   31  ...        0   7  2018  도림천로19길 11   \n",
       "...         ...        ...  ...  ...      ...  ..   ...         ...   \n",
       "283296   49.600 2023-01-01    1  ...        0   9  1999   공릉로34길 62   \n",
       "283305   84.445 2023-01-01    1  ...        0  19  2021      상일로 55   \n",
       "283309   59.837 2023-01-01    1  ...        0  13  2019       선릉로 8   \n",
       "283315   88.400 2023-01-01    1  ...        0   3  2002     승방1길 66   \n",
       "283326   59.400 2023-01-01    1  ...        0  14  1998   양평로23길 18   \n",
       "\n",
       "                 계약기간 계약구분 갱신요구권 사용 종전계약 보증금(만원) 종전계약 월세(만원) 주택유형  \n",
       "22      202402~202602   갱신        -       42,000           0  아파트  \n",
       "25      202402~202602   갱신        -      106,000           0  아파트  \n",
       "26      202408~202508   갱신        -      100,000           0  아파트  \n",
       "27      202408~202508   갱신        -      100,000           0  아파트  \n",
       "53      202312~202412   갱신        -       14,870           0  아파트  \n",
       "...               ...  ...      ...          ...         ...  ...  \n",
       "283296  202302~202502   갱신       사용       23,000           0  아파트  \n",
       "283305  202303~202503   갱신       사용       80,000           0  아파트  \n",
       "283309  202301~202505   갱신        -       70,350           0  아파트  \n",
       "283315  202301~202412   갱신       사용       50,000           0  아파트  \n",
       "283326              -   갱신       사용       43,000           0  아파트  \n",
       "\n",
       "[44797 rows x 21 columns]"
      ]
     },
     "execution_count": 51,
     "metadata": {},
     "output_type": "execute_result"
    }
   ],
   "source": [
    "apt23_df[apt23_df['계약구분']=='갱신']"
   ]
  },
  {
   "cell_type": "markdown",
   "id": "090e3e84",
   "metadata": {},
   "source": [
    "### 보증금"
   ]
  },
  {
   "cell_type": "code",
   "execution_count": 12,
   "id": "8ab71a15",
   "metadata": {},
   "outputs": [
    {
     "data": {
      "text/plain": [
       "count     165859.000000\n",
       "mean       53585.225227\n",
       "std        34052.671913\n",
       "min            3.000000\n",
       "25%        33000.000000\n",
       "50%        47000.000000\n",
       "75%        65000.000000\n",
       "max      1000000.000000\n",
       "Name: 보증금(만원), dtype: float64"
      ]
     },
     "execution_count": 12,
     "metadata": {},
     "output_type": "execute_result"
    }
   ],
   "source": [
    "apt23_df['보증금(만원)'].describe()"
   ]
  },
  {
   "cell_type": "code",
   "execution_count": null,
   "id": "42543c57",
   "metadata": {},
   "outputs": [
    {
     "data": {
      "text/html": [
       "<div>\n",
       "<style scoped>\n",
       "    .dataframe tbody tr th:only-of-type {\n",
       "        vertical-align: middle;\n",
       "    }\n",
       "\n",
       "    .dataframe tbody tr th {\n",
       "        vertical-align: top;\n",
       "    }\n",
       "\n",
       "    .dataframe thead th {\n",
       "        text-align: right;\n",
       "    }\n",
       "</style>\n",
       "<table border=\"1\" class=\"dataframe\">\n",
       "  <thead>\n",
       "    <tr style=\"text-align: right;\">\n",
       "      <th></th>\n",
       "      <th>NO</th>\n",
       "      <th>시군구</th>\n",
       "      <th>번지</th>\n",
       "      <th>본번</th>\n",
       "      <th>부번</th>\n",
       "      <th>단지명</th>\n",
       "      <th>전월세구분</th>\n",
       "      <th>전용면적(㎡)</th>\n",
       "      <th>계약년월</th>\n",
       "      <th>계약일</th>\n",
       "      <th>...</th>\n",
       "      <th>월세금(만원)</th>\n",
       "      <th>층</th>\n",
       "      <th>건축년도</th>\n",
       "      <th>도로명</th>\n",
       "      <th>계약기간</th>\n",
       "      <th>계약구분</th>\n",
       "      <th>갱신요구권 사용</th>\n",
       "      <th>종전계약 보증금(만원)</th>\n",
       "      <th>종전계약 월세(만원)</th>\n",
       "      <th>주택유형</th>\n",
       "    </tr>\n",
       "  </thead>\n",
       "  <tbody>\n",
       "    <tr>\n",
       "      <th>69515</th>\n",
       "      <td>69516</td>\n",
       "      <td>서울특별시 성동구 금호동1가</td>\n",
       "      <td>632</td>\n",
       "      <td>632</td>\n",
       "      <td>0</td>\n",
       "      <td>금호벽산(임대)(미공시)</td>\n",
       "      <td>전세</td>\n",
       "      <td>29.87</td>\n",
       "      <td>2023-09-01</td>\n",
       "      <td>30</td>\n",
       "      <td>...</td>\n",
       "      <td>0</td>\n",
       "      <td>16</td>\n",
       "      <td>2001</td>\n",
       "      <td>행당로6길 2</td>\n",
       "      <td>202309~202509</td>\n",
       "      <td>갱신</td>\n",
       "      <td>-</td>\n",
       "      <td>1</td>\n",
       "      <td>15</td>\n",
       "      <td>아파트</td>\n",
       "    </tr>\n",
       "  </tbody>\n",
       "</table>\n",
       "<p>1 rows × 21 columns</p>\n",
       "</div>"
      ],
      "text/plain": [
       "          NO              시군구   번지   본번  부번            단지명 전월세구분  전용면적(㎡)  \\\n",
       "69515  69516  서울특별시 성동구 금호동1가  632  632   0  금호벽산(임대)(미공시)    전세    29.87   \n",
       "\n",
       "            계약년월  계약일  ...  월세금(만원)   층  건축년도      도로명           계약기간 계약구분  \\\n",
       "69515 2023-09-01   30  ...        0  16  2001  행당로6길 2  202309~202509   갱신   \n",
       "\n",
       "      갱신요구권 사용 종전계약 보증금(만원) 종전계약 월세(만원) 주택유형  \n",
       "69515        -            1          15  아파트  \n",
       "\n",
       "[1 rows x 21 columns]"
      ]
     },
     "execution_count": 14,
     "metadata": {},
     "output_type": "execute_result"
    }
   ],
   "source": [
    "# 이상치로 판단하여 제거\n",
    "apt23_df[apt23_df['보증금(만원)']==3]"
   ]
  },
  {
   "cell_type": "code",
   "execution_count": 13,
   "id": "e60af382",
   "metadata": {},
   "outputs": [
    {
     "data": {
      "text/plain": [
       "count     143869.000000\n",
       "mean       57467.977320\n",
       "std        36316.887534\n",
       "min         1685.000000\n",
       "25%        35000.000000\n",
       "50%        50010.000000\n",
       "75%        70000.000000\n",
       "max      1000000.000000\n",
       "Name: 보증금(만원), dtype: float64"
      ]
     },
     "execution_count": 13,
     "metadata": {},
     "output_type": "execute_result"
    }
   ],
   "source": [
    "apt24_df['보증금(만원)'].describe()"
   ]
  },
  {
   "cell_type": "code",
   "execution_count": 15,
   "id": "c22cda9f",
   "metadata": {},
   "outputs": [
    {
     "data": {
      "image/png": "[encoded data removed]",
      "text/plain": [
       "<Figure size 1000x600 with 1 Axes>"
      ]
     },
     "metadata": {},
     "output_type": "display_data"
    }
   ],
   "source": [
    "data = [\n",
    "    apt23_df['보증금(만원)'],\n",
    "    apt24_df['보증금(만원)']\n",
    "]\n",
    "\n",
    "plt.figure(figsize=(10,6))\n",
    "plt.boxplot(data, labels=['2023', '2024']) \n",
    "\n",
    "plt.title('2023~2024년 아파트 보증금 분포 비교')\n",
    "plt.ylabel('보증금(만원)')\n",
    "plt.xlabel('년도')\n",
    "\n",
    "plt.show()"
   ]
  },
  {
   "cell_type": "markdown",
   "id": "65ecf8f5",
   "metadata": {},
   "source": [
    "- 23년 거래 건수: 165,859 건  /  평균 보증금 : 약 53,585만원 (약 5.36억)\n",
    "- 24년 거래 건수: 143,869 건  /  평균 보증금 : 약 57,467만원 (약 5.7억) "
   ]
  },
  {
   "cell_type": "markdown",
   "id": "f0470acf",
   "metadata": {},
   "source": [
    "### 전용면적별 보증금"
   ]
  },
  {
   "cell_type": "code",
   "execution_count": 53,
   "id": "40b0f317",
   "metadata": {},
   "outputs": [
    {
     "data": {
      "text/html": [
       "<div>\n",
       "<style scoped>\n",
       "    .dataframe tbody tr th:only-of-type {\n",
       "        vertical-align: middle;\n",
       "    }\n",
       "\n",
       "    .dataframe tbody tr th {\n",
       "        vertical-align: top;\n",
       "    }\n",
       "\n",
       "    .dataframe thead th {\n",
       "        text-align: right;\n",
       "    }\n",
       "</style>\n",
       "<table border=\"1\" class=\"dataframe\">\n",
       "  <thead>\n",
       "    <tr style=\"text-align: right;\">\n",
       "      <th></th>\n",
       "      <th>count</th>\n",
       "      <th>mean</th>\n",
       "      <th>std</th>\n",
       "      <th>min</th>\n",
       "      <th>25%</th>\n",
       "      <th>50%</th>\n",
       "      <th>75%</th>\n",
       "      <th>max</th>\n",
       "    </tr>\n",
       "    <tr>\n",
       "      <th>전용면적(㎡)</th>\n",
       "      <th></th>\n",
       "      <th></th>\n",
       "      <th></th>\n",
       "      <th></th>\n",
       "      <th></th>\n",
       "      <th></th>\n",
       "      <th></th>\n",
       "      <th></th>\n",
       "    </tr>\n",
       "  </thead>\n",
       "  <tbody>\n",
       "    <tr>\n",
       "      <th>10.3215</th>\n",
       "      <td>1.0</td>\n",
       "      <td>12000.0</td>\n",
       "      <td>NaN</td>\n",
       "      <td>12000.0</td>\n",
       "      <td>12000.0</td>\n",
       "      <td>12000.0</td>\n",
       "      <td>12000.0</td>\n",
       "      <td>12000.0</td>\n",
       "    </tr>\n",
       "    <tr>\n",
       "      <th>10.7800</th>\n",
       "      <td>2.0</td>\n",
       "      <td>14850.0</td>\n",
       "      <td>212.132034</td>\n",
       "      <td>14700.0</td>\n",
       "      <td>14775.0</td>\n",
       "      <td>14850.0</td>\n",
       "      <td>14925.0</td>\n",
       "      <td>15000.0</td>\n",
       "    </tr>\n",
       "    <tr>\n",
       "      <th>10.9200</th>\n",
       "      <td>1.0</td>\n",
       "      <td>8190.0</td>\n",
       "      <td>NaN</td>\n",
       "      <td>8190.0</td>\n",
       "      <td>8190.0</td>\n",
       "      <td>8190.0</td>\n",
       "      <td>8190.0</td>\n",
       "      <td>8190.0</td>\n",
       "    </tr>\n",
       "    <tr>\n",
       "      <th>11.1900</th>\n",
       "      <td>1.0</td>\n",
       "      <td>14700.0</td>\n",
       "      <td>NaN</td>\n",
       "      <td>14700.0</td>\n",
       "      <td>14700.0</td>\n",
       "      <td>14700.0</td>\n",
       "      <td>14700.0</td>\n",
       "      <td>14700.0</td>\n",
       "    </tr>\n",
       "    <tr>\n",
       "      <th>11.3300</th>\n",
       "      <td>6.0</td>\n",
       "      <td>20250.0</td>\n",
       "      <td>2467.995138</td>\n",
       "      <td>16000.0</td>\n",
       "      <td>19225.0</td>\n",
       "      <td>21100.0</td>\n",
       "      <td>21925.0</td>\n",
       "      <td>22500.0</td>\n",
       "    </tr>\n",
       "    <tr>\n",
       "      <th>...</th>\n",
       "      <td>...</td>\n",
       "      <td>...</td>\n",
       "      <td>...</td>\n",
       "      <td>...</td>\n",
       "      <td>...</td>\n",
       "      <td>...</td>\n",
       "      <td>...</td>\n",
       "      <td>...</td>\n",
       "    </tr>\n",
       "    <tr>\n",
       "      <th>255.4000</th>\n",
       "      <td>1.0</td>\n",
       "      <td>210000.0</td>\n",
       "      <td>NaN</td>\n",
       "      <td>210000.0</td>\n",
       "      <td>210000.0</td>\n",
       "      <td>210000.0</td>\n",
       "      <td>210000.0</td>\n",
       "      <td>210000.0</td>\n",
       "    </tr>\n",
       "    <tr>\n",
       "      <th>257.8500</th>\n",
       "      <td>3.0</td>\n",
       "      <td>140000.0</td>\n",
       "      <td>17320.508076</td>\n",
       "      <td>120000.0</td>\n",
       "      <td>135000.0</td>\n",
       "      <td>150000.0</td>\n",
       "      <td>150000.0</td>\n",
       "      <td>150000.0</td>\n",
       "    </tr>\n",
       "    <tr>\n",
       "      <th>264.3000</th>\n",
       "      <td>1.0</td>\n",
       "      <td>207500.0</td>\n",
       "      <td>NaN</td>\n",
       "      <td>207500.0</td>\n",
       "      <td>207500.0</td>\n",
       "      <td>207500.0</td>\n",
       "      <td>207500.0</td>\n",
       "      <td>207500.0</td>\n",
       "    </tr>\n",
       "    <tr>\n",
       "      <th>273.9600</th>\n",
       "      <td>2.0</td>\n",
       "      <td>785000.0</td>\n",
       "      <td>304055.915910</td>\n",
       "      <td>570000.0</td>\n",
       "      <td>677500.0</td>\n",
       "      <td>785000.0</td>\n",
       "      <td>892500.0</td>\n",
       "      <td>1000000.0</td>\n",
       "    </tr>\n",
       "    <tr>\n",
       "      <th>301.4700</th>\n",
       "      <td>1.0</td>\n",
       "      <td>740000.0</td>\n",
       "      <td>NaN</td>\n",
       "      <td>740000.0</td>\n",
       "      <td>740000.0</td>\n",
       "      <td>740000.0</td>\n",
       "      <td>740000.0</td>\n",
       "      <td>740000.0</td>\n",
       "    </tr>\n",
       "  </tbody>\n",
       "</table>\n",
       "<p>8973 rows × 8 columns</p>\n",
       "</div>"
      ],
      "text/plain": [
       "          count      mean            std       min       25%       50%  \\\n",
       "전용면적(㎡)                                                                  \n",
       "10.3215     1.0   12000.0            NaN   12000.0   12000.0   12000.0   \n",
       "10.7800     2.0   14850.0     212.132034   14700.0   14775.0   14850.0   \n",
       "10.9200     1.0    8190.0            NaN    8190.0    8190.0    8190.0   \n",
       "11.1900     1.0   14700.0            NaN   14700.0   14700.0   14700.0   \n",
       "11.3300     6.0   20250.0    2467.995138   16000.0   19225.0   21100.0   \n",
       "...         ...       ...            ...       ...       ...       ...   \n",
       "255.4000    1.0  210000.0            NaN  210000.0  210000.0  210000.0   \n",
       "257.8500    3.0  140000.0   17320.508076  120000.0  135000.0  150000.0   \n",
       "264.3000    1.0  207500.0            NaN  207500.0  207500.0  207500.0   \n",
       "273.9600    2.0  785000.0  304055.915910  570000.0  677500.0  785000.0   \n",
       "301.4700    1.0  740000.0            NaN  740000.0  740000.0  740000.0   \n",
       "\n",
       "               75%        max  \n",
       "전용면적(㎡)                        \n",
       "10.3215    12000.0    12000.0  \n",
       "10.7800    14925.0    15000.0  \n",
       "10.9200     8190.0     8190.0  \n",
       "11.1900    14700.0    14700.0  \n",
       "11.3300    21925.0    22500.0  \n",
       "...            ...        ...  \n",
       "255.4000  210000.0   210000.0  \n",
       "257.8500  150000.0   150000.0  \n",
       "264.3000  207500.0   207500.0  \n",
       "273.9600  892500.0  1000000.0  \n",
       "301.4700  740000.0   740000.0  \n",
       "\n",
       "[8973 rows x 8 columns]"
      ]
     },
     "execution_count": 53,
     "metadata": {},
     "output_type": "execute_result"
    }
   ],
   "source": [
    "apt23_df.groupby('전용면적(㎡)')['보증금(만원)'].describe()"
   ]
  },
  {
   "cell_type": "code",
   "execution_count": 55,
   "id": "324a15b8",
   "metadata": {},
   "outputs": [
    {
     "data": {
      "text/html": [
       "<div>\n",
       "<style scoped>\n",
       "    .dataframe tbody tr th:only-of-type {\n",
       "        vertical-align: middle;\n",
       "    }\n",
       "\n",
       "    .dataframe tbody tr th {\n",
       "        vertical-align: top;\n",
       "    }\n",
       "\n",
       "    .dataframe thead th {\n",
       "        text-align: right;\n",
       "    }\n",
       "</style>\n",
       "<table border=\"1\" class=\"dataframe\">\n",
       "  <thead>\n",
       "    <tr style=\"text-align: right;\">\n",
       "      <th></th>\n",
       "      <th>count</th>\n",
       "      <th>mean</th>\n",
       "      <th>std</th>\n",
       "      <th>min</th>\n",
       "      <th>25%</th>\n",
       "      <th>50%</th>\n",
       "      <th>75%</th>\n",
       "      <th>max</th>\n",
       "    </tr>\n",
       "    <tr>\n",
       "      <th>전용면적(㎡)</th>\n",
       "      <th></th>\n",
       "      <th></th>\n",
       "      <th></th>\n",
       "      <th></th>\n",
       "      <th></th>\n",
       "      <th></th>\n",
       "      <th></th>\n",
       "      <th></th>\n",
       "    </tr>\n",
       "  </thead>\n",
       "  <tbody>\n",
       "    <tr>\n",
       "      <th>10.7800</th>\n",
       "      <td>2.0</td>\n",
       "      <td>14700.0</td>\n",
       "      <td>0.000000</td>\n",
       "      <td>14700.0</td>\n",
       "      <td>14700.0</td>\n",
       "      <td>14700.0</td>\n",
       "      <td>14700.0</td>\n",
       "      <td>14700.0</td>\n",
       "    </tr>\n",
       "    <tr>\n",
       "      <th>10.9200</th>\n",
       "      <td>1.0</td>\n",
       "      <td>8500.0</td>\n",
       "      <td>NaN</td>\n",
       "      <td>8500.0</td>\n",
       "      <td>8500.0</td>\n",
       "      <td>8500.0</td>\n",
       "      <td>8500.0</td>\n",
       "      <td>8500.0</td>\n",
       "    </tr>\n",
       "    <tr>\n",
       "      <th>11.4800</th>\n",
       "      <td>5.0</td>\n",
       "      <td>16800.0</td>\n",
       "      <td>1604.680654</td>\n",
       "      <td>15000.0</td>\n",
       "      <td>16000.0</td>\n",
       "      <td>16000.0</td>\n",
       "      <td>18500.0</td>\n",
       "      <td>18500.0</td>\n",
       "    </tr>\n",
       "    <tr>\n",
       "      <th>11.4900</th>\n",
       "      <td>1.0</td>\n",
       "      <td>16000.0</td>\n",
       "      <td>NaN</td>\n",
       "      <td>16000.0</td>\n",
       "      <td>16000.0</td>\n",
       "      <td>16000.0</td>\n",
       "      <td>16000.0</td>\n",
       "      <td>16000.0</td>\n",
       "    </tr>\n",
       "    <tr>\n",
       "      <th>11.6657</th>\n",
       "      <td>2.0</td>\n",
       "      <td>11850.0</td>\n",
       "      <td>212.132034</td>\n",
       "      <td>11700.0</td>\n",
       "      <td>11775.0</td>\n",
       "      <td>11850.0</td>\n",
       "      <td>11925.0</td>\n",
       "      <td>12000.0</td>\n",
       "    </tr>\n",
       "    <tr>\n",
       "      <th>...</th>\n",
       "      <td>...</td>\n",
       "      <td>...</td>\n",
       "      <td>...</td>\n",
       "      <td>...</td>\n",
       "      <td>...</td>\n",
       "      <td>...</td>\n",
       "      <td>...</td>\n",
       "      <td>...</td>\n",
       "    </tr>\n",
       "    <tr>\n",
       "      <th>266.5200</th>\n",
       "      <td>1.0</td>\n",
       "      <td>205000.0</td>\n",
       "      <td>NaN</td>\n",
       "      <td>205000.0</td>\n",
       "      <td>205000.0</td>\n",
       "      <td>205000.0</td>\n",
       "      <td>205000.0</td>\n",
       "      <td>205000.0</td>\n",
       "    </tr>\n",
       "    <tr>\n",
       "      <th>267.0000</th>\n",
       "      <td>1.0</td>\n",
       "      <td>250000.0</td>\n",
       "      <td>NaN</td>\n",
       "      <td>250000.0</td>\n",
       "      <td>250000.0</td>\n",
       "      <td>250000.0</td>\n",
       "      <td>250000.0</td>\n",
       "      <td>250000.0</td>\n",
       "    </tr>\n",
       "    <tr>\n",
       "      <th>273.8600</th>\n",
       "      <td>1.0</td>\n",
       "      <td>240000.0</td>\n",
       "      <td>NaN</td>\n",
       "      <td>240000.0</td>\n",
       "      <td>240000.0</td>\n",
       "      <td>240000.0</td>\n",
       "      <td>240000.0</td>\n",
       "      <td>240000.0</td>\n",
       "    </tr>\n",
       "    <tr>\n",
       "      <th>273.9600</th>\n",
       "      <td>1.0</td>\n",
       "      <td>1000000.0</td>\n",
       "      <td>NaN</td>\n",
       "      <td>1000000.0</td>\n",
       "      <td>1000000.0</td>\n",
       "      <td>1000000.0</td>\n",
       "      <td>1000000.0</td>\n",
       "      <td>1000000.0</td>\n",
       "    </tr>\n",
       "    <tr>\n",
       "      <th>317.3600</th>\n",
       "      <td>1.0</td>\n",
       "      <td>110000.0</td>\n",
       "      <td>NaN</td>\n",
       "      <td>110000.0</td>\n",
       "      <td>110000.0</td>\n",
       "      <td>110000.0</td>\n",
       "      <td>110000.0</td>\n",
       "      <td>110000.0</td>\n",
       "    </tr>\n",
       "  </tbody>\n",
       "</table>\n",
       "<p>8573 rows × 8 columns</p>\n",
       "</div>"
      ],
      "text/plain": [
       "          count       mean          std        min        25%        50%  \\\n",
       "전용면적(㎡)                                                                    \n",
       "10.7800     2.0    14700.0     0.000000    14700.0    14700.0    14700.0   \n",
       "10.9200     1.0     8500.0          NaN     8500.0     8500.0     8500.0   \n",
       "11.4800     5.0    16800.0  1604.680654    15000.0    16000.0    16000.0   \n",
       "11.4900     1.0    16000.0          NaN    16000.0    16000.0    16000.0   \n",
       "11.6657     2.0    11850.0   212.132034    11700.0    11775.0    11850.0   \n",
       "...         ...        ...          ...        ...        ...        ...   \n",
       "266.5200    1.0   205000.0          NaN   205000.0   205000.0   205000.0   \n",
       "267.0000    1.0   250000.0          NaN   250000.0   250000.0   250000.0   \n",
       "273.8600    1.0   240000.0          NaN   240000.0   240000.0   240000.0   \n",
       "273.9600    1.0  1000000.0          NaN  1000000.0  1000000.0  1000000.0   \n",
       "317.3600    1.0   110000.0          NaN   110000.0   110000.0   110000.0   \n",
       "\n",
       "                75%        max  \n",
       "전용면적(㎡)                         \n",
       "10.7800     14700.0    14700.0  \n",
       "10.9200      8500.0     8500.0  \n",
       "11.4800     18500.0    18500.0  \n",
       "11.4900     16000.0    16000.0  \n",
       "11.6657     11925.0    12000.0  \n",
       "...             ...        ...  \n",
       "266.5200   205000.0   205000.0  \n",
       "267.0000   250000.0   250000.0  \n",
       "273.8600   240000.0   240000.0  \n",
       "273.9600  1000000.0  1000000.0  \n",
       "317.3600   110000.0   110000.0  \n",
       "\n",
       "[8573 rows x 8 columns]"
      ]
     },
     "execution_count": 55,
     "metadata": {},
     "output_type": "execute_result"
    }
   ],
   "source": [
    "apt24_df.groupby('전용면적(㎡)')['보증금(만원)'].describe()"
   ]
  },
  {
   "cell_type": "markdown",
   "id": "f21c2c6b",
   "metadata": {},
   "source": []
  },
  {
   "cell_type": "markdown",
   "id": "44f0ed32",
   "metadata": {},
   "source": [
    "### 거래금액"
   ]
  },
  {
   "cell_type": "code",
   "execution_count": 16,
   "id": "36833852",
   "metadata": {},
   "outputs": [
    {
     "data": {
      "text/plain": [
       "count    3.565800e+04\n",
       "mean     1.064337e+05\n",
       "std      7.797207e+04\n",
       "min      7.400000e+03\n",
       "25%      6.000000e+04\n",
       "50%      8.700000e+04\n",
       "75%      1.295000e+05\n",
       "max      1.800000e+06\n",
       "Name: 거래금액(만원), dtype: float64"
      ]
     },
     "execution_count": 16,
     "metadata": {},
     "output_type": "execute_result"
    }
   ],
   "source": [
    "apt23_deal['거래금액(만원)'].describe()"
   ]
  },
  {
   "cell_type": "code",
   "execution_count": 17,
   "id": "9e59a27e",
   "metadata": {},
   "outputs": [
    {
     "data": {
      "text/plain": [
       "count    5.740500e+04\n",
       "mean     1.197823e+05\n",
       "std      9.112348e+04\n",
       "min      7.000000e+03\n",
       "25%      6.600000e+04\n",
       "50%      9.580000e+04\n",
       "75%      1.440000e+05\n",
       "max      2.500000e+06\n",
       "Name: 거래금액(만원), dtype: float64"
      ]
     },
     "execution_count": 17,
     "metadata": {},
     "output_type": "execute_result"
    }
   ],
   "source": [
    "apt24_deal['거래금액(만원)'].describe()"
   ]
  },
  {
   "cell_type": "code",
   "execution_count": 19,
   "id": "dde1d1d9",
   "metadata": {},
   "outputs": [
    {
     "data": {
      "image/png": "[encoded data removed]",
      "text/plain": [
       "<Figure size 1000x600 with 1 Axes>"
      ]
     },
     "metadata": {},
     "output_type": "display_data"
    }
   ],
   "source": [
    "data = [\n",
    "    apt23_deal['거래금액(만원)'],\n",
    "    apt24_deal['거래금액(만원)']\n",
    "]\n",
    "\n",
    "plt.figure(figsize=(10,6))\n",
    "plt.boxplot(data, labels=['2023','2024']) \n",
    "\n",
    "plt.title('2023~2024년 아파트 거래금액 분포 비교')\n",
    "plt.ylabel('거래금액(만원)')\n",
    "plt.xlabel('년도')\n",
    "\n",
    "plt.show()"
   ]
  },
  {
   "cell_type": "markdown",
   "id": "97a82d47",
   "metadata": {},
   "source": [
    "- 23년 거래 건수: 35,658건 /  평균 거래가 : 106,433만원 (약 10.6억)\n",
    "- 24년 거래 건수: 57,405건 /  평균 거래가 : 119,782만원 (약 12억)"
   ]
  },
  {
   "cell_type": "code",
   "execution_count": 20,
   "id": "f98cfaf0",
   "metadata": {},
   "outputs": [
    {
     "data": {
      "text/plain": [
       "NO                   0\n",
       "시군구                  0\n",
       "번지                   0\n",
       "본번                   0\n",
       "부번                   0\n",
       "단지명                  0\n",
       "전월세구분                0\n",
       "전용면적(㎡)              0\n",
       "계약년월                 0\n",
       "계약일                  0\n",
       "보증금(만원)              0\n",
       "월세금(만원)              0\n",
       "층                    0\n",
       "건축년도                 0\n",
       "도로명                  0\n",
       "계약기간                 0\n",
       "계약구분                 0\n",
       "갱신요구권 사용             0\n",
       "종전계약 보증금(만원)    121062\n",
       "종전계약 월세(만원)     121062\n",
       "주택유형                 0\n",
       "dtype: int64"
      ]
     },
     "execution_count": 20,
     "metadata": {},
     "output_type": "execute_result"
    }
   ],
   "source": [
    "apt23_df.isnull().sum()"
   ]
  },
  {
   "cell_type": "markdown",
   "id": "15b47dde",
   "metadata": {},
   "source": []
  },
  {
   "cell_type": "code",
   "execution_count": 21,
   "id": "69213ecf",
   "metadata": {},
   "outputs": [
    {
     "data": {
      "text/plain": [
       "50,000    1186\n",
       "60,000    1073\n",
       "70,000    1012\n",
       "45,000     884\n",
       "80,000     863\n",
       "          ... \n",
       "41,265       1\n",
       "9,765        1\n",
       "15,300       1\n",
       "23,807       1\n",
       "14,180       1\n",
       "Name: 종전계약 보증금(만원), Length: 1565, dtype: int64"
      ]
     },
     "execution_count": 21,
     "metadata": {},
     "output_type": "execute_result"
    }
   ],
   "source": [
    "apt23_df['종전계약 보증금(만원)'].value_counts()"
   ]
  },
  {
   "cell_type": "code",
   "execution_count": 22,
   "id": "e1d14ee1",
   "metadata": {},
   "outputs": [
    {
     "data": {
      "text/plain": [
       "50000     5815\n",
       "40000     5648\n",
       "60000     4945\n",
       "45000     4899\n",
       "55000     4330\n",
       "          ... \n",
       "9550         1\n",
       "15140        1\n",
       "33443        1\n",
       "520000       1\n",
       "73950        1\n",
       "Name: 보증금(만원), Length: 4303, dtype: int64"
      ]
     },
     "execution_count": 22,
     "metadata": {},
     "output_type": "execute_result"
    }
   ],
   "source": [
    "apt23_df['보증금(만원)'].value_counts()"
   ]
  },
  {
   "cell_type": "code",
   "execution_count": null,
   "id": "fab4e880",
   "metadata": {},
   "outputs": [],
   "source": []
  },
  {
   "cell_type": "markdown",
   "id": "f68c2341",
   "metadata": {},
   "source": [
    "### 23년, 24년 월별 전세 거래 건수 "
   ]
  },
  {
   "cell_type": "code",
   "execution_count": 26,
   "id": "97a05eab",
   "metadata": {},
   "outputs": [
    {
     "data": {
      "image/png": "[encoded data removed]",
      "text/plain": [
       "<Figure size 640x480 with 1 Axes>"
      ]
     },
     "metadata": {},
     "output_type": "display_data"
    }
   ],
   "source": [
    "# 23, 24년 월별 거래 건수 계산\n",
    "counts_23 = apt23_df['계약년월'].dt.month.value_counts().sort_index()\n",
    "counts_24 = apt24_df['계약년월'].dt.month.value_counts().sort_index()\n",
    "\n",
    "\n",
    "df_counts = pd.DataFrame({\n",
    "    '2023': counts_23,\n",
    "    '2024': counts_24\n",
    "})\n",
    "\n",
    "ax = df_counts.plot(marker='o')\n",
    "ax.set_xlabel('계약년월')\n",
    "ax.set_ylabel('거래 건수')\n",
    "ax.set_title('23, 24년 월별 전세 거래 건수 비교')\n",
    "plt.xticks(rotation=45)\n",
    "plt.tight_layout()\n",
    "plt.grid()\n",
    "plt.show()"
   ]
  },
  {
   "cell_type": "code",
   "execution_count": 27,
   "id": "ffc5d6de",
   "metadata": {},
   "outputs": [
    {
     "data": {
      "text/html": [
       "<div>\n",
       "<style scoped>\n",
       "    .dataframe tbody tr th:only-of-type {\n",
       "        vertical-align: middle;\n",
       "    }\n",
       "\n",
       "    .dataframe tbody tr th {\n",
       "        vertical-align: top;\n",
       "    }\n",
       "\n",
       "    .dataframe thead th {\n",
       "        text-align: right;\n",
       "    }\n",
       "</style>\n",
       "<table border=\"1\" class=\"dataframe\">\n",
       "  <thead>\n",
       "    <tr style=\"text-align: right;\">\n",
       "      <th></th>\n",
       "      <th>2023</th>\n",
       "      <th>2024</th>\n",
       "    </tr>\n",
       "  </thead>\n",
       "  <tbody>\n",
       "    <tr>\n",
       "      <th>1</th>\n",
       "      <td>12435</td>\n",
       "      <td>13963</td>\n",
       "    </tr>\n",
       "    <tr>\n",
       "      <th>2</th>\n",
       "      <td>16225</td>\n",
       "      <td>12280</td>\n",
       "    </tr>\n",
       "    <tr>\n",
       "      <th>3</th>\n",
       "      <td>16524</td>\n",
       "      <td>13697</td>\n",
       "    </tr>\n",
       "    <tr>\n",
       "      <th>4</th>\n",
       "      <td>13963</td>\n",
       "      <td>11352</td>\n",
       "    </tr>\n",
       "    <tr>\n",
       "      <th>5</th>\n",
       "      <td>13392</td>\n",
       "      <td>12171</td>\n",
       "    </tr>\n",
       "    <tr>\n",
       "      <th>6</th>\n",
       "      <td>13406</td>\n",
       "      <td>12008</td>\n",
       "    </tr>\n",
       "    <tr>\n",
       "      <th>7</th>\n",
       "      <td>13183</td>\n",
       "      <td>12332</td>\n",
       "    </tr>\n",
       "    <tr>\n",
       "      <th>8</th>\n",
       "      <td>13038</td>\n",
       "      <td>12293</td>\n",
       "    </tr>\n",
       "    <tr>\n",
       "      <th>9</th>\n",
       "      <td>12502</td>\n",
       "      <td>9265</td>\n",
       "    </tr>\n",
       "    <tr>\n",
       "      <th>10</th>\n",
       "      <td>13700</td>\n",
       "      <td>11653</td>\n",
       "    </tr>\n",
       "    <tr>\n",
       "      <th>11</th>\n",
       "      <td>13168</td>\n",
       "      <td>10950</td>\n",
       "    </tr>\n",
       "    <tr>\n",
       "      <th>12</th>\n",
       "      <td>14323</td>\n",
       "      <td>11905</td>\n",
       "    </tr>\n",
       "  </tbody>\n",
       "</table>\n",
       "</div>"
      ],
      "text/plain": [
       "     2023   2024\n",
       "1   12435  13963\n",
       "2   16225  12280\n",
       "3   16524  13697\n",
       "4   13963  11352\n",
       "5   13392  12171\n",
       "6   13406  12008\n",
       "7   13183  12332\n",
       "8   13038  12293\n",
       "9   12502   9265\n",
       "10  13700  11653\n",
       "11  13168  10950\n",
       "12  14323  11905"
      ]
     },
     "execution_count": 27,
     "metadata": {},
     "output_type": "execute_result"
    }
   ],
   "source": [
    "df_counts"
   ]
  },
  {
   "cell_type": "markdown",
   "id": "078a89c1",
   "metadata": {},
   "source": [
    "### 21, 22, 23년 월별 매매 거래 건수"
   ]
  },
  {
   "cell_type": "code",
   "execution_count": 58,
   "id": "8e9da4b4",
   "metadata": {},
   "outputs": [
    {
     "data": {
      "image/png": "[encoded data removed]",
      "text/plain": [
       "<Figure size 640x480 with 1 Axes>"
      ]
     },
     "metadata": {},
     "output_type": "display_data"
    }
   ],
   "source": [
    "# 23년,24년 월별 거래 건수 계산\n",
    "counts_23 = apt23_deal['계약년월'].dt.month.value_counts().sort_index()\n",
    "counts_24 = apt24_deal['계약년월'].dt.month.value_counts().sort_index()\n",
    "\n",
    "df_counts = pd.DataFrame({\n",
    "    '2023': counts_23,\n",
    "    '2024': counts_24\n",
    "})\n",
    "\n",
    "ax = df_counts.plot(marker='o')\n",
    "ax.set_xlabel('계약년월')\n",
    "ax.set_ylabel('거래 건수')\n",
    "ax.set_title('23, 24년 월별 매매 거래 건수 비교')\n",
    "plt.xticks(rotation=45)\n",
    "plt.tight_layout()\n",
    "plt.grid()\n",
    "plt.show()"
   ]
  },
  {
   "cell_type": "code",
   "execution_count": 30,
   "id": "bddc91d8",
   "metadata": {},
   "outputs": [
    {
     "data": {
      "text/html": [
       "<div>\n",
       "<style scoped>\n",
       "    .dataframe tbody tr th:only-of-type {\n",
       "        vertical-align: middle;\n",
       "    }\n",
       "\n",
       "    .dataframe tbody tr th {\n",
       "        vertical-align: top;\n",
       "    }\n",
       "\n",
       "    .dataframe thead th {\n",
       "        text-align: right;\n",
       "    }\n",
       "</style>\n",
       "<table border=\"1\" class=\"dataframe\">\n",
       "  <thead>\n",
       "    <tr style=\"text-align: right;\">\n",
       "      <th></th>\n",
       "      <th>2023</th>\n",
       "      <th>2024</th>\n",
       "    </tr>\n",
       "  </thead>\n",
       "  <tbody>\n",
       "    <tr>\n",
       "      <th>1</th>\n",
       "      <td>1498</td>\n",
       "      <td>2686</td>\n",
       "    </tr>\n",
       "    <tr>\n",
       "      <th>2</th>\n",
       "      <td>2556</td>\n",
       "      <td>2715</td>\n",
       "    </tr>\n",
       "    <tr>\n",
       "      <th>3</th>\n",
       "      <td>3110</td>\n",
       "      <td>4452</td>\n",
       "    </tr>\n",
       "    <tr>\n",
       "      <th>4</th>\n",
       "      <td>3335</td>\n",
       "      <td>4648</td>\n",
       "    </tr>\n",
       "    <tr>\n",
       "      <th>5</th>\n",
       "      <td>3579</td>\n",
       "      <td>5304</td>\n",
       "    </tr>\n",
       "    <tr>\n",
       "      <th>6</th>\n",
       "      <td>4033</td>\n",
       "      <td>7939</td>\n",
       "    </tr>\n",
       "    <tr>\n",
       "      <th>7</th>\n",
       "      <td>3756</td>\n",
       "      <td>9229</td>\n",
       "    </tr>\n",
       "    <tr>\n",
       "      <th>8</th>\n",
       "      <td>4052</td>\n",
       "      <td>6536</td>\n",
       "    </tr>\n",
       "    <tr>\n",
       "      <th>9</th>\n",
       "      <td>3519</td>\n",
       "      <td>3182</td>\n",
       "    </tr>\n",
       "    <tr>\n",
       "      <th>10</th>\n",
       "      <td>2423</td>\n",
       "      <td>3878</td>\n",
       "    </tr>\n",
       "    <tr>\n",
       "      <th>11</th>\n",
       "      <td>1923</td>\n",
       "      <td>3496</td>\n",
       "    </tr>\n",
       "    <tr>\n",
       "      <th>12</th>\n",
       "      <td>1874</td>\n",
       "      <td>3340</td>\n",
       "    </tr>\n",
       "  </tbody>\n",
       "</table>\n",
       "</div>"
      ],
      "text/plain": [
       "    2023  2024\n",
       "1   1498  2686\n",
       "2   2556  2715\n",
       "3   3110  4452\n",
       "4   3335  4648\n",
       "5   3579  5304\n",
       "6   4033  7939\n",
       "7   3756  9229\n",
       "8   4052  6536\n",
       "9   3519  3182\n",
       "10  2423  3878\n",
       "11  1923  3496\n",
       "12  1874  3340"
      ]
     },
     "execution_count": 30,
     "metadata": {},
     "output_type": "execute_result"
    }
   ],
   "source": [
    "df_counts"
   ]
  },
  {
   "cell_type": "markdown",
   "id": "9e0fa7f5",
   "metadata": {},
   "source": [
    "### 전세 거래 상위 지역"
   ]
  },
  {
   "cell_type": "code",
   "execution_count": 32,
   "id": "26c183d0",
   "metadata": {},
   "outputs": [
    {
     "data": {
      "text/plain": [
       "서울특별시 노원구 상계동    5510\n",
       "서울특별시 양천구 신정동    4222\n",
       "서울특별시 강남구 개포동    3585\n",
       "서울특별시 양천구 목동     2950\n",
       "서울특별시 노원구 중계동    2847\n",
       "서울특별시 송파구 잠실동    2679\n",
       "서울특별시 서초구 반포동    2510\n",
       "서울특별시 강동구 강일동    2478\n",
       "서울특별시 관악구 봉천동    2468\n",
       "서울특별시 강남구 대치동    2461\n",
       "Name: 시군구, dtype: int64"
      ]
     },
     "execution_count": 32,
     "metadata": {},
     "output_type": "execute_result"
    }
   ],
   "source": [
    "apt23_df['시군구'].value_counts().head(10)"
   ]
  },
  {
   "cell_type": "code",
   "execution_count": 33,
   "id": "856348e1",
   "metadata": {},
   "outputs": [
    {
     "data": {
      "text/plain": [
       "Text(0.5, 1.0, '23년도 아파트 전세 거래 상위 지역')"
      ]
     },
     "execution_count": 33,
     "metadata": {},
     "output_type": "execute_result"
    },
    {
     "data": {
      "image/png": "[encoded data removed]",
      "text/plain": [
       "<Figure size 640x480 with 1 Axes>"
      ]
     },
     "metadata": {},
     "output_type": "display_data"
    }
   ],
   "source": [
    "apt23_df['시군구'].value_counts().head(10).plot(kind='bar')\n",
    "plt.title('23년도 아파트 전세 거래 상위 지역')"
   ]
  },
  {
   "cell_type": "code",
   "execution_count": 34,
   "id": "b0358768",
   "metadata": {},
   "outputs": [
    {
     "data": {
      "text/plain": [
       "Text(0.5, 1.0, '22년도 아파트 전세 거래 상위 지역')"
      ]
     },
     "execution_count": 34,
     "metadata": {},
     "output_type": "execute_result"
    },
    {
     "data": {
      "image/png": "[encoded data removed]",
      "text/plain": [
       "<Figure size 640x480 with 1 Axes>"
      ]
     },
     "metadata": {},
     "output_type": "display_data"
    }
   ],
   "source": [
    "apt24_df['시군구'].value_counts().head(10).plot(kind='bar')\n",
    "plt.title('22년도 아파트 전세 거래 상위 지역')"
   ]
  },
  {
   "cell_type": "code",
   "execution_count": null,
   "id": "0f30ab1a",
   "metadata": {},
   "outputs": [],
   "source": []
  },
  {
   "cell_type": "markdown",
   "id": "a778223e",
   "metadata": {},
   "source": []
  }
 ],
 "metadata": {
  "kernelspec": {
   "display_name": "base",
   "language": "python",
   "name": "python3"
  },
  "language_info": {
   "codemirror_mode": {
    "name": "ipython",
    "version": 3
   },
   "file_extension": ".py",
   "mimetype": "text/x-python",
   "name": "python",
   "nbconvert_exporter": "python",
   "pygments_lexer": "ipython3",
   "version": "3.11.4"
  }
 },
 "nbformat": 4,
 "nbformat_minor": 5
}
