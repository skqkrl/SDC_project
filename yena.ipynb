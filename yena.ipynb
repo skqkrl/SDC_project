{
 "cells": [
  {
   "cell_type": "markdown",
   "id": "3c71310f",
   "metadata": {},
   "source": [
    "# 아파트_실거래가"
   ]
  },
  {
   "cell_type": "markdown",
   "id": "d642bf7c",
   "metadata": {},
   "source": [
    "### 데이터 불러오기"
   ]
  },
  {
   "cell_type": "code",
   "execution_count": 2,
   "id": "ebb885ad",
   "metadata": {},
   "outputs": [],
   "source": [
    "import pandas as pd\n",
    "import numpy as np\n",
    "import matplotlib.pyplot as plt\n",
    "import seaborn as sns\n",
    "import koreanize_matplotlib"
   ]
  },
  {
   "cell_type": "code",
   "execution_count": 3,
   "id": "0b6019de",
   "metadata": {},
   "outputs": [
    {
     "name": "stderr",
     "output_type": "stream",
     "text": [
      "C:\\Users\\emily\\AppData\\Local\\Temp\\ipykernel_11652\\2638666978.py:1: DtypeWarning: Columns (19) have mixed types. Specify dtype option on import or set low_memory=False.\n",
      "  apt21 = pd.read_csv('data/아파트(전월세)_실거래가_2021.csv', header=15, encoding='cp949')\n",
      "C:\\Users\\emily\\AppData\\Local\\Temp\\ipykernel_11652\\2638666978.py:2: DtypeWarning: Columns (19) have mixed types. Specify dtype option on import or set low_memory=False.\n",
      "  apt22 = pd.read_csv('data/아파트(전월세)_실거래가_2022.csv', header=15, encoding='cp949')\n"
     ]
    }
   ],
   "source": [
    "apt21 = pd.read_csv('data/아파트(전월세)_실거래가_2021.csv', header=15, encoding='cp949')\n",
    "apt22 = pd.read_csv('data/아파트(전월세)_실거래가_2022.csv', header=15, encoding='cp949')\n",
    "apt23 = pd.read_csv('data/아파트(전월세)_실거래가_2023.csv', header=15, encoding='cp949')"
   ]
  },
  {
   "cell_type": "code",
   "execution_count": 4,
   "id": "99edd8fe",
   "metadata": {},
   "outputs": [],
   "source": [
    "apt21_deal = pd.read_csv('data/아파트(매매)_실거래가_2021.csv', header=15, encoding='cp949')\n",
    "apt22_deal = pd.read_csv('data/아파트(매매)_실거래가_2022.csv', header=15, encoding='cp949')\n",
    "apt23_deal = pd.read_csv('data/아파트(매매)_실거래가_2023.csv', header=15, encoding='cp949')"
   ]
  },
  {
   "cell_type": "markdown",
   "id": "3aa00abd",
   "metadata": {},
   "source": [
    "### 전처리"
   ]
  },
  {
   "cell_type": "code",
   "execution_count": 5,
   "id": "be54430b",
   "metadata": {},
   "outputs": [],
   "source": [
    "apt21_df = apt21[apt21['전월세구분']=='전세']\n",
    "apt22_df = apt22[apt22['전월세구분']=='전세']\n",
    "apt23_df = apt23[apt23['전월세구분']=='전세']"
   ]
  },
  {
   "cell_type": "code",
   "execution_count": 7,
   "id": "ae0f83f0",
   "metadata": {},
   "outputs": [
    {
     "name": "stderr",
     "output_type": "stream",
     "text": [
      "C:\\Users\\emily\\AppData\\Local\\Temp\\ipykernel_11652\\66946074.py:1: SettingWithCopyWarning: \n",
      "A value is trying to be set on a copy of a slice from a DataFrame.\n",
      "Try using .loc[row_indexer,col_indexer] = value instead\n",
      "\n",
      "See the caveats in the documentation: https://pandas.pydata.org/pandas-docs/stable/user_guide/indexing.html#returning-a-view-versus-a-copy\n",
      "  apt21_df['보증금(만원)'] = apt21_df['보증금(만원)'].str.replace(',', '').astype(int)\n",
      "C:\\Users\\emily\\AppData\\Local\\Temp\\ipykernel_11652\\66946074.py:2: SettingWithCopyWarning: \n",
      "A value is trying to be set on a copy of a slice from a DataFrame.\n",
      "Try using .loc[row_indexer,col_indexer] = value instead\n",
      "\n",
      "See the caveats in the documentation: https://pandas.pydata.org/pandas-docs/stable/user_guide/indexing.html#returning-a-view-versus-a-copy\n",
      "  apt22_df['월세금(만원)'] = apt22_df['월세금(만원)'].str.replace(',', '').astype(int)\n",
      "C:\\Users\\emily\\AppData\\Local\\Temp\\ipykernel_11652\\66946074.py:3: SettingWithCopyWarning: \n",
      "A value is trying to be set on a copy of a slice from a DataFrame.\n",
      "Try using .loc[row_indexer,col_indexer] = value instead\n",
      "\n",
      "See the caveats in the documentation: https://pandas.pydata.org/pandas-docs/stable/user_guide/indexing.html#returning-a-view-versus-a-copy\n",
      "  apt23_df['월세금(만원)'] = apt23_df['월세금(만원)'].str.replace(',', '').astype(int)\n"
     ]
    }
   ],
   "source": [
    "apt21_df['보증금(만원)'] = apt21_df['보증금(만원)'].str.replace(',', '').astype(int)\n",
    "apt22_df['월세금(만원)'] = apt22_df['월세금(만원)'].str.replace(',', '').astype(int)\n",
    "apt23_df['월세금(만원)'] = apt23_df['월세금(만원)'].str.replace(',', '').astype(int)"
   ]
  },
  {
   "cell_type": "code",
   "execution_count": 20,
   "id": "c8948e00",
   "metadata": {},
   "outputs": [
    {
     "name": "stderr",
     "output_type": "stream",
     "text": [
      "C:\\Users\\emily\\AppData\\Local\\Temp\\ipykernel_11652\\1902770197.py:1: SettingWithCopyWarning: \n",
      "A value is trying to be set on a copy of a slice from a DataFrame.\n",
      "Try using .loc[row_indexer,col_indexer] = value instead\n",
      "\n",
      "See the caveats in the documentation: https://pandas.pydata.org/pandas-docs/stable/user_guide/indexing.html#returning-a-view-versus-a-copy\n",
      "  apt22_df['보증금(만원)'] = apt22_df['보증금(만원)'].astype(str).str.replace(',', '', regex=False)\n",
      "C:\\Users\\emily\\AppData\\Local\\Temp\\ipykernel_11652\\1902770197.py:2: SettingWithCopyWarning: \n",
      "A value is trying to be set on a copy of a slice from a DataFrame.\n",
      "Try using .loc[row_indexer,col_indexer] = value instead\n",
      "\n",
      "See the caveats in the documentation: https://pandas.pydata.org/pandas-docs/stable/user_guide/indexing.html#returning-a-view-versus-a-copy\n",
      "  apt22_df['보증금(만원)'] = pd.to_numeric(apt22_df['보증금(만원)']).astype(int)\n"
     ]
    }
   ],
   "source": [
    "apt22_df['보증금(만원)'] = apt22_df['보증금(만원)'].astype(str).str.replace(',', '', regex=False)\n",
    "apt22_df['보증금(만원)'] = pd.to_numeric(apt22_df['보증금(만원)']).astype(int)"
   ]
  },
  {
   "cell_type": "code",
   "execution_count": 21,
   "id": "58b79c1e",
   "metadata": {},
   "outputs": [
    {
     "name": "stderr",
     "output_type": "stream",
     "text": [
      "C:\\Users\\emily\\AppData\\Local\\Temp\\ipykernel_11652\\760281986.py:1: SettingWithCopyWarning: \n",
      "A value is trying to be set on a copy of a slice from a DataFrame.\n",
      "Try using .loc[row_indexer,col_indexer] = value instead\n",
      "\n",
      "See the caveats in the documentation: https://pandas.pydata.org/pandas-docs/stable/user_guide/indexing.html#returning-a-view-versus-a-copy\n",
      "  apt23_df['보증금(만원)'] = apt23_df['보증금(만원)'].astype(str).str.replace(',', '', regex=False)\n",
      "C:\\Users\\emily\\AppData\\Local\\Temp\\ipykernel_11652\\760281986.py:2: SettingWithCopyWarning: \n",
      "A value is trying to be set on a copy of a slice from a DataFrame.\n",
      "Try using .loc[row_indexer,col_indexer] = value instead\n",
      "\n",
      "See the caveats in the documentation: https://pandas.pydata.org/pandas-docs/stable/user_guide/indexing.html#returning-a-view-versus-a-copy\n",
      "  apt23_df['보증금(만원)'] = pd.to_numeric(apt23_df['보증금(만원)']).astype(int)\n"
     ]
    }
   ],
   "source": [
    "apt23_df['보증금(만원)'] = apt23_df['보증금(만원)'].astype(str).str.replace(',', '', regex=False)\n",
    "apt23_df['보증금(만원)'] = pd.to_numeric(apt23_df['보증금(만원)']).astype(int)"
   ]
  },
  {
   "cell_type": "code",
   "execution_count": null,
   "id": "5718124f",
   "metadata": {},
   "outputs": [],
   "source": [
    "apt21_deal['거래금액(만원)'] = apt21_deal['거래금액(만원)'].str.replace(',', '').astype(int)\n",
    "apt22_deal['거래금액(만원)'] = apt22_deal['거래금액(만원)'].str.replace(',', '').astype(int)\n",
    "apt23_deal['거래금액(만원)'] = apt23_deal['거래금액(만원)'].str.replace(',', '').astype(int)"
   ]
  },
  {
   "cell_type": "code",
   "execution_count": 9,
   "id": "ba7ab379",
   "metadata": {},
   "outputs": [
    {
     "data": {
      "text/html": [
       "<div>\n",
       "<style scoped>\n",
       "    .dataframe tbody tr th:only-of-type {\n",
       "        vertical-align: middle;\n",
       "    }\n",
       "\n",
       "    .dataframe tbody tr th {\n",
       "        vertical-align: top;\n",
       "    }\n",
       "\n",
       "    .dataframe thead th {\n",
       "        text-align: right;\n",
       "    }\n",
       "</style>\n",
       "<table border=\"1\" class=\"dataframe\">\n",
       "  <thead>\n",
       "    <tr style=\"text-align: right;\">\n",
       "      <th></th>\n",
       "      <th>NO</th>\n",
       "      <th>본번</th>\n",
       "      <th>부번</th>\n",
       "      <th>전용면적(㎡)</th>\n",
       "      <th>계약년월</th>\n",
       "      <th>계약일</th>\n",
       "      <th>거래금액(만원)</th>\n",
       "      <th>층</th>\n",
       "      <th>건축년도</th>\n",
       "    </tr>\n",
       "  </thead>\n",
       "  <tbody>\n",
       "    <tr>\n",
       "      <th>count</th>\n",
       "      <td>43390.000000</td>\n",
       "      <td>43390.000000</td>\n",
       "      <td>43390.000000</td>\n",
       "      <td>43390.000000</td>\n",
       "      <td>43390.000000</td>\n",
       "      <td>43390.000000</td>\n",
       "      <td>4.339000e+04</td>\n",
       "      <td>43390.000000</td>\n",
       "      <td>43390.000000</td>\n",
       "    </tr>\n",
       "    <tr>\n",
       "      <th>mean</th>\n",
       "      <td>21695.500000</td>\n",
       "      <td>593.198248</td>\n",
       "      <td>8.525190</td>\n",
       "      <td>73.512272</td>\n",
       "      <td>202105.421318</td>\n",
       "      <td>15.655520</td>\n",
       "      <td>1.026945e+05</td>\n",
       "      <td>9.152662</td>\n",
       "      <td>2001.850288</td>\n",
       "    </tr>\n",
       "    <tr>\n",
       "      <th>std</th>\n",
       "      <td>12525.758427</td>\n",
       "      <td>539.989475</td>\n",
       "      <td>63.749218</td>\n",
       "      <td>33.013821</td>\n",
       "      <td>3.089755</td>\n",
       "      <td>8.780965</td>\n",
       "      <td>7.507025e+04</td>\n",
       "      <td>6.256527</td>\n",
       "      <td>10.388964</td>\n",
       "    </tr>\n",
       "    <tr>\n",
       "      <th>min</th>\n",
       "      <td>1.000000</td>\n",
       "      <td>1.000000</td>\n",
       "      <td>0.000000</td>\n",
       "      <td>10.156000</td>\n",
       "      <td>202101.000000</td>\n",
       "      <td>1.000000</td>\n",
       "      <td>6.600000e+03</td>\n",
       "      <td>-1.000000</td>\n",
       "      <td>1961.000000</td>\n",
       "    </tr>\n",
       "    <tr>\n",
       "      <th>25%</th>\n",
       "      <td>10848.250000</td>\n",
       "      <td>205.000000</td>\n",
       "      <td>0.000000</td>\n",
       "      <td>58.140000</td>\n",
       "      <td>202103.000000</td>\n",
       "      <td>8.000000</td>\n",
       "      <td>5.880000e+04</td>\n",
       "      <td>4.000000</td>\n",
       "      <td>1995.000000</td>\n",
       "    </tr>\n",
       "    <tr>\n",
       "      <th>50%</th>\n",
       "      <td>21695.500000</td>\n",
       "      <td>492.000000</td>\n",
       "      <td>0.000000</td>\n",
       "      <td>70.645000</td>\n",
       "      <td>202105.000000</td>\n",
       "      <td>16.000000</td>\n",
       "      <td>8.470000e+04</td>\n",
       "      <td>8.000000</td>\n",
       "      <td>2002.000000</td>\n",
       "    </tr>\n",
       "    <tr>\n",
       "      <th>75%</th>\n",
       "      <td>32542.750000</td>\n",
       "      <td>810.000000</td>\n",
       "      <td>1.000000</td>\n",
       "      <td>84.950000</td>\n",
       "      <td>202108.000000</td>\n",
       "      <td>23.000000</td>\n",
       "      <td>1.275000e+05</td>\n",
       "      <td>13.000000</td>\n",
       "      <td>2009.000000</td>\n",
       "    </tr>\n",
       "    <tr>\n",
       "      <th>max</th>\n",
       "      <td>43390.000000</td>\n",
       "      <td>4969.000000</td>\n",
       "      <td>2837.000000</td>\n",
       "      <td>317.360000</td>\n",
       "      <td>202112.000000</td>\n",
       "      <td>31.000000</td>\n",
       "      <td>1.200000e+06</td>\n",
       "      <td>66.000000</td>\n",
       "      <td>2022.000000</td>\n",
       "    </tr>\n",
       "  </tbody>\n",
       "</table>\n",
       "</div>"
      ],
      "text/plain": [
       "                 NO            본번            부번       전용면적(㎡)           계약년월  \\\n",
       "count  43390.000000  43390.000000  43390.000000  43390.000000   43390.000000   \n",
       "mean   21695.500000    593.198248      8.525190     73.512272  202105.421318   \n",
       "std    12525.758427    539.989475     63.749218     33.013821       3.089755   \n",
       "min        1.000000      1.000000      0.000000     10.156000  202101.000000   \n",
       "25%    10848.250000    205.000000      0.000000     58.140000  202103.000000   \n",
       "50%    21695.500000    492.000000      0.000000     70.645000  202105.000000   \n",
       "75%    32542.750000    810.000000      1.000000     84.950000  202108.000000   \n",
       "max    43390.000000   4969.000000   2837.000000    317.360000  202112.000000   \n",
       "\n",
       "                계약일      거래금액(만원)             층          건축년도  \n",
       "count  43390.000000  4.339000e+04  43390.000000  43390.000000  \n",
       "mean      15.655520  1.026945e+05      9.152662   2001.850288  \n",
       "std        8.780965  7.507025e+04      6.256527     10.388964  \n",
       "min        1.000000  6.600000e+03     -1.000000   1961.000000  \n",
       "25%        8.000000  5.880000e+04      4.000000   1995.000000  \n",
       "50%       16.000000  8.470000e+04      8.000000   2002.000000  \n",
       "75%       23.000000  1.275000e+05     13.000000   2009.000000  \n",
       "max       31.000000  1.200000e+06     66.000000   2022.000000  "
      ]
     },
     "execution_count": 9,
     "metadata": {},
     "output_type": "execute_result"
    }
   ],
   "source": [
    "apt21_deal.describe()"
   ]
  },
  {
   "cell_type": "code",
   "execution_count": 33,
   "id": "7b989850",
   "metadata": {},
   "outputs": [
    {
     "name": "stderr",
     "output_type": "stream",
     "text": [
      "C:\\Users\\emily\\AppData\\Local\\Temp\\ipykernel_11652\\155461146.py:1: SettingWithCopyWarning: \n",
      "A value is trying to be set on a copy of a slice from a DataFrame.\n",
      "Try using .loc[row_indexer,col_indexer] = value instead\n",
      "\n",
      "See the caveats in the documentation: https://pandas.pydata.org/pandas-docs/stable/user_guide/indexing.html#returning-a-view-versus-a-copy\n",
      "  apt21_df['계약년월'] = pd.to_datetime(apt21_df['계약년월'].astype(str), format='%Y%m')\n",
      "C:\\Users\\emily\\AppData\\Local\\Temp\\ipykernel_11652\\155461146.py:2: SettingWithCopyWarning: \n",
      "A value is trying to be set on a copy of a slice from a DataFrame.\n",
      "Try using .loc[row_indexer,col_indexer] = value instead\n",
      "\n",
      "See the caveats in the documentation: https://pandas.pydata.org/pandas-docs/stable/user_guide/indexing.html#returning-a-view-versus-a-copy\n",
      "  apt22_df['계약년월'] = pd.to_datetime(apt22_df['계약년월'].astype(str), format='%Y%m')\n",
      "C:\\Users\\emily\\AppData\\Local\\Temp\\ipykernel_11652\\155461146.py:3: SettingWithCopyWarning: \n",
      "A value is trying to be set on a copy of a slice from a DataFrame.\n",
      "Try using .loc[row_indexer,col_indexer] = value instead\n",
      "\n",
      "See the caveats in the documentation: https://pandas.pydata.org/pandas-docs/stable/user_guide/indexing.html#returning-a-view-versus-a-copy\n",
      "  apt23_df['계약년월'] = pd.to_datetime(apt23_df['계약년월'].astype(str), format='%Y%m')\n"
     ]
    }
   ],
   "source": [
    "apt21_df['계약년월'] = pd.to_datetime(apt21_df['계약년월'].astype(str), format='%Y%m')\n",
    "apt22_df['계약년월'] = pd.to_datetime(apt22_df['계약년월'].astype(str), format='%Y%m')\n",
    "apt23_df['계약년월'] = pd.to_datetime(apt23_df['계약년월'].astype(str), format='%Y%m')"
   ]
  },
  {
   "cell_type": "code",
   "execution_count": 34,
   "id": "3e485ad3",
   "metadata": {},
   "outputs": [],
   "source": [
    "apt21_deal['계약년월'] = pd.to_datetime(apt21_deal['계약년월'].astype(str), format='%Y%m')\n",
    "apt22_deal['계약년월'] = pd.to_datetime(apt22_deal['계약년월'].astype(str), format='%Y%m')\n",
    "apt23_deal['계약년월'] = pd.to_datetime(apt23_deal['계약년월'].astype(str), format='%Y%m')"
   ]
  },
  {
   "cell_type": "markdown",
   "id": "090e3e84",
   "metadata": {},
   "source": [
    "### 보증금"
   ]
  },
  {
   "cell_type": "code",
   "execution_count": 17,
   "id": "8ab71a15",
   "metadata": {},
   "outputs": [
    {
     "data": {
      "text/plain": [
       "count    137615.000000\n",
       "mean      54465.534520\n",
       "std       36023.164492\n",
       "min         500.000000\n",
       "25%       31500.000000\n",
       "50%       47250.000000\n",
       "75%       68000.000000\n",
       "max      950000.000000\n",
       "Name: 보증금(만원), dtype: float64"
      ]
     },
     "execution_count": 17,
     "metadata": {},
     "output_type": "execute_result"
    }
   ],
   "source": [
    "apt21_df['보증금(만원)'].describe()"
   ]
  },
  {
   "cell_type": "code",
   "execution_count": 22,
   "id": "e60af382",
   "metadata": {},
   "outputs": [
    {
     "data": {
      "text/plain": [
       "count    1.449480e+05\n",
       "mean     5.371843e+04\n",
       "std      3.490259e+04\n",
       "min      5.000000e+02\n",
       "25%      3.150000e+04\n",
       "50%      4.725000e+04\n",
       "75%      6.600000e+04\n",
       "max      1.100000e+06\n",
       "Name: 보증금(만원), dtype: float64"
      ]
     },
     "execution_count": 22,
     "metadata": {},
     "output_type": "execute_result"
    }
   ],
   "source": [
    "apt22_df['보증금(만원)'].describe()"
   ]
  },
  {
   "cell_type": "code",
   "execution_count": 23,
   "id": "d7df699a",
   "metadata": {},
   "outputs": [
    {
     "data": {
      "text/plain": [
       "count     165859.000000\n",
       "mean       53585.225227\n",
       "std        34052.671913\n",
       "min            3.000000\n",
       "25%        33000.000000\n",
       "50%        47000.000000\n",
       "75%        65000.000000\n",
       "max      1000000.000000\n",
       "Name: 보증금(만원), dtype: float64"
      ]
     },
     "execution_count": 23,
     "metadata": {},
     "output_type": "execute_result"
    }
   ],
   "source": [
    "apt23_df['보증금(만원)'].describe()"
   ]
  },
  {
   "cell_type": "code",
   "execution_count": 31,
   "id": "547cb8d1",
   "metadata": {},
   "outputs": [
    {
     "data": {
      "text/html": [
       "<div>\n",
       "<style scoped>\n",
       "    .dataframe tbody tr th:only-of-type {\n",
       "        vertical-align: middle;\n",
       "    }\n",
       "\n",
       "    .dataframe tbody tr th {\n",
       "        vertical-align: top;\n",
       "    }\n",
       "\n",
       "    .dataframe thead th {\n",
       "        text-align: right;\n",
       "    }\n",
       "</style>\n",
       "<table border=\"1\" class=\"dataframe\">\n",
       "  <thead>\n",
       "    <tr style=\"text-align: right;\">\n",
       "      <th></th>\n",
       "      <th>NO</th>\n",
       "      <th>시군구</th>\n",
       "      <th>번지</th>\n",
       "      <th>본번</th>\n",
       "      <th>부번</th>\n",
       "      <th>단지명</th>\n",
       "      <th>전월세구분</th>\n",
       "      <th>전용면적(㎡)</th>\n",
       "      <th>계약년월</th>\n",
       "      <th>계약일</th>\n",
       "      <th>...</th>\n",
       "      <th>월세금(만원)</th>\n",
       "      <th>층</th>\n",
       "      <th>건축년도</th>\n",
       "      <th>도로명</th>\n",
       "      <th>계약기간</th>\n",
       "      <th>계약구분</th>\n",
       "      <th>갱신요구권 사용</th>\n",
       "      <th>종전계약 보증금(만원)</th>\n",
       "      <th>종전계약 월세(만원)</th>\n",
       "      <th>주택유형</th>\n",
       "    </tr>\n",
       "  </thead>\n",
       "  <tbody>\n",
       "    <tr>\n",
       "      <th>69515</th>\n",
       "      <td>69516</td>\n",
       "      <td>서울특별시 성동구 금호동1가</td>\n",
       "      <td>632</td>\n",
       "      <td>632</td>\n",
       "      <td>0</td>\n",
       "      <td>금호벽산(임대)(미공시)</td>\n",
       "      <td>전세</td>\n",
       "      <td>29.87</td>\n",
       "      <td>202309</td>\n",
       "      <td>30</td>\n",
       "      <td>...</td>\n",
       "      <td>0</td>\n",
       "      <td>16</td>\n",
       "      <td>2001</td>\n",
       "      <td>행당로6길 2</td>\n",
       "      <td>202309~202509</td>\n",
       "      <td>갱신</td>\n",
       "      <td>-</td>\n",
       "      <td>1</td>\n",
       "      <td>15</td>\n",
       "      <td>아파트</td>\n",
       "    </tr>\n",
       "  </tbody>\n",
       "</table>\n",
       "<p>1 rows × 21 columns</p>\n",
       "</div>"
      ],
      "text/plain": [
       "          NO              시군구   번지   본번  부번            단지명 전월세구분  전용면적(㎡)  \\\n",
       "69515  69516  서울특별시 성동구 금호동1가  632  632   0  금호벽산(임대)(미공시)    전세    29.87   \n",
       "\n",
       "         계약년월  계약일  ...  월세금(만원)   층  건축년도      도로명           계약기간 계약구분  \\\n",
       "69515  202309   30  ...        0  16  2001  행당로6길 2  202309~202509   갱신   \n",
       "\n",
       "      갱신요구권 사용 종전계약 보증금(만원) 종전계약 월세(만원) 주택유형  \n",
       "69515        -            1          15  아파트  \n",
       "\n",
       "[1 rows x 21 columns]"
      ]
     },
     "execution_count": 31,
     "metadata": {},
     "output_type": "execute_result"
    }
   ],
   "source": [
    "apt23_df[apt23_df['보증금(만원)']==3]"
   ]
  },
  {
   "cell_type": "code",
   "execution_count": null,
   "id": "c22cda9f",
   "metadata": {},
   "outputs": [
    {
     "data": {
      "image/png": "[encoded data removed]",
      "text/plain": [
       "<Figure size 1000x600 with 1 Axes>"
      ]
     },
     "metadata": {},
     "output_type": "display_data"
    }
   ],
   "source": [
    "data = [\n",
    "    apt21_df['보증금(만원)'],\n",
    "    apt22_df['보증금(만원)'],\n",
    "    apt23_df['보증금(만원)']\n",
    "]\n",
    "\n",
    "plt.figure(figsize=(10,6))\n",
    "plt.boxplot(data, labels=['2021', '2022', '2023']) \n",
    "\n",
    "plt.title('2021~2023년 아파트 보증금 분포 비교')\n",
    "plt.ylabel('보증금(만원)')\n",
    "plt.xlabel('년도')\n",
    "\n",
    "plt.show()"
   ]
  },
  {
   "cell_type": "markdown",
   "id": "65ecf8f5",
   "metadata": {},
   "source": [
    "- 21년 거래 건수: 137,615건   /  평균 보증금 : 약 54,465만원 (약 5.4억)\n",
    "- 22년 거래 건수: 144,948건   /  평균 보증금 : 약 53,718만원 (약 5.37억)\n",
    "- 23년 거래 건수: 165,859건   /  평균 보증금 : 약 53,585만원 (약 5.36억)"
   ]
  },
  {
   "cell_type": "markdown",
   "id": "44f0ed32",
   "metadata": {},
   "source": [
    "### 거래금액"
   ]
  },
  {
   "cell_type": "code",
   "execution_count": 10,
   "id": "36833852",
   "metadata": {},
   "outputs": [
    {
     "data": {
      "text/plain": [
       "count    4.339000e+04\n",
       "mean     1.026945e+05\n",
       "std      7.507025e+04\n",
       "min      6.600000e+03\n",
       "25%      5.880000e+04\n",
       "50%      8.470000e+04\n",
       "75%      1.275000e+05\n",
       "max      1.200000e+06\n",
       "Name: 거래금액(만원), dtype: float64"
      ]
     },
     "execution_count": 10,
     "metadata": {},
     "output_type": "execute_result"
    }
   ],
   "source": [
    "apt21_deal['거래금액(만원)'].describe()"
   ]
  },
  {
   "cell_type": "code",
   "execution_count": 11,
   "id": "9e59a27e",
   "metadata": {},
   "outputs": [
    {
     "data": {
      "text/plain": [
       "count    1.279900e+04\n",
       "mean     9.715524e+04\n",
       "std      9.462162e+04\n",
       "min      6.700000e+03\n",
       "25%      3.900000e+04\n",
       "50%      7.400000e+04\n",
       "75%      1.200000e+05\n",
       "max      1.450000e+06\n",
       "Name: 거래금액(만원), dtype: float64"
      ]
     },
     "execution_count": 11,
     "metadata": {},
     "output_type": "execute_result"
    }
   ],
   "source": [
    "apt22_deal['거래금액(만원)'].describe()"
   ]
  },
  {
   "cell_type": "code",
   "execution_count": 12,
   "id": "b4858dc0",
   "metadata": {},
   "outputs": [
    {
     "data": {
      "text/plain": [
       "count    3.565800e+04\n",
       "mean     1.064337e+05\n",
       "std      7.797207e+04\n",
       "min      7.400000e+03\n",
       "25%      6.000000e+04\n",
       "50%      8.700000e+04\n",
       "75%      1.295000e+05\n",
       "max      1.800000e+06\n",
       "Name: 거래금액(만원), dtype: float64"
      ]
     },
     "execution_count": 12,
     "metadata": {},
     "output_type": "execute_result"
    }
   ],
   "source": [
    "apt23_deal['거래금액(만원)'].describe()"
   ]
  },
  {
   "cell_type": "code",
   "execution_count": null,
   "id": "dde1d1d9",
   "metadata": {},
   "outputs": [
    {
     "data": {
      "image/png": "[encoded data removed]",
      "text/plain": [
       "<Figure size 1000x600 with 1 Axes>"
      ]
     },
     "metadata": {},
     "output_type": "display_data"
    }
   ],
   "source": [
    "data = [\n",
    "    apt21_deal['거래금액(만원)'],\n",
    "    apt22_deal['거래금액(만원)'],\n",
    "    apt23_deal['거래금액(만원)']\n",
    "]\n",
    "\n",
    "plt.figure(figsize=(10,6))\n",
    "plt.boxplot(data, labels=['2021', '2022', '2023']) \n",
    "\n",
    "plt.title('2021~2023년 아파트 거래금액 분포 비교')\n",
    "plt.ylabel('거래금액(만원)')\n",
    "plt.xlabel('년도')\n",
    "\n",
    "plt.show()"
   ]
  },
  {
   "cell_type": "markdown",
   "id": "97a82d47",
   "metadata": {},
   "source": [
    "- 21년 거래 건수: 43,390건  /  평균 거래가 : 102,694.5만원 (10.3억 원)\n",
    "- 22년 거래 건수: 12,799건  /  평균 거래가 : 97,155만원 (약 9.7억 원)\n",
    "- 23년 거래 건수: 35,658건  /  평균 거래가 : 106,433만원 (약 10.6억)"
   ]
  },
  {
   "cell_type": "code",
   "execution_count": 13,
   "id": "f98cfaf0",
   "metadata": {},
   "outputs": [
    {
     "data": {
      "text/plain": [
       "NO                   0\n",
       "시군구                  0\n",
       "번지                   0\n",
       "본번                   0\n",
       "부번                   0\n",
       "단지명                  0\n",
       "전월세구분                0\n",
       "전용면적(㎡)              0\n",
       "계약년월                 0\n",
       "계약일                  0\n",
       "보증금(만원)              0\n",
       "월세금(만원)              0\n",
       "층                    0\n",
       "건축년도                 0\n",
       "도로명                  0\n",
       "계약기간                 0\n",
       "계약구분                 0\n",
       "갱신요구권 사용             0\n",
       "종전계약 보증금(만원)    108766\n",
       "종전계약 월세(만원)     108766\n",
       "주택유형                 0\n",
       "dtype: int64"
      ]
     },
     "execution_count": 13,
     "metadata": {},
     "output_type": "execute_result"
    }
   ],
   "source": [
    "apt21_df.isnull().sum()"
   ]
  },
  {
   "cell_type": "markdown",
   "id": "15b47dde",
   "metadata": {},
   "source": []
  },
  {
   "cell_type": "code",
   "execution_count": 14,
   "id": "69213ecf",
   "metadata": {},
   "outputs": [
    {
     "data": {
      "text/plain": [
       "40,000    1092\n",
       "50,000     868\n",
       "45,000     852\n",
       "35,000     792\n",
       "30,000     733\n",
       "          ... \n",
       "60,200       1\n",
       "8,700        1\n",
       "54,900       1\n",
       "47,300       1\n",
       "53,700       1\n",
       "Name: 종전계약 보증금(만원), Length: 671, dtype: int64"
      ]
     },
     "execution_count": 14,
     "metadata": {},
     "output_type": "execute_result"
    }
   ],
   "source": [
    "apt21_df['종전계약 보증금(만원)'].value_counts()"
   ]
  },
  {
   "cell_type": "code",
   "execution_count": 15,
   "id": "e1d14ee1",
   "metadata": {},
   "outputs": [
    {
     "data": {
      "text/plain": [
       "50000    3565\n",
       "60000    3031\n",
       "45000    2768\n",
       "42000    2712\n",
       "70000    2710\n",
       "         ... \n",
       "24065       1\n",
       "17066       1\n",
       "15111       1\n",
       "86030       1\n",
       "62600       1\n",
       "Name: 보증금(만원), Length: 3119, dtype: int64"
      ]
     },
     "execution_count": 15,
     "metadata": {},
     "output_type": "execute_result"
    }
   ],
   "source": [
    "apt21_df['보증금(만원)'].value_counts()"
   ]
  },
  {
   "cell_type": "code",
   "execution_count": null,
   "id": "fab4e880",
   "metadata": {},
   "outputs": [],
   "source": []
  },
  {
   "cell_type": "markdown",
   "id": "f68c2341",
   "metadata": {},
   "source": [
    "### 21, 22, 23년 월별 전세 거래 건수"
   ]
  },
  {
   "cell_type": "code",
   "execution_count": 35,
   "id": "97a05eab",
   "metadata": {},
   "outputs": [
    {
     "data": {
      "image/png": "[encoded data removed]",
      "text/plain": [
       "<Figure size 640x480 with 1 Axes>"
      ]
     },
     "metadata": {},
     "output_type": "display_data"
    }
   ],
   "source": [
    "# 21, 22, 23년 월별 거래 건수 계산\n",
    "counts_21 = apt21_df['계약년월'].dt.month.value_counts().sort_index()\n",
    "counts_22 = apt22_df['계약년월'].dt.month.value_counts().sort_index()\n",
    "counts_23 = apt23_df['계약년월'].dt.month.value_counts().sort_index()\n",
    "\n",
    "\n",
    "df_counts = pd.DataFrame({\n",
    "    '2021': counts_21,\n",
    "    '2022': counts_22,\n",
    "    '2023': counts_23,\n",
    "})\n",
    "\n",
    "ax = df_counts.plot(marker='o')\n",
    "ax.set_xlabel('계약년월')\n",
    "ax.set_ylabel('거래 건수')\n",
    "ax.set_title('21, 22, 23년 월별 전세 거래 건수 비교')\n",
    "plt.xticks(rotation=45)\n",
    "plt.tight_layout()\n",
    "plt.show()"
   ]
  },
  {
   "cell_type": "code",
   "execution_count": 36,
   "id": "ffc5d6de",
   "metadata": {},
   "outputs": [
    {
     "data": {
      "text/html": [
       "<div>\n",
       "<style scoped>\n",
       "    .dataframe tbody tr th:only-of-type {\n",
       "        vertical-align: middle;\n",
       "    }\n",
       "\n",
       "    .dataframe tbody tr th {\n",
       "        vertical-align: top;\n",
       "    }\n",
       "\n",
       "    .dataframe thead th {\n",
       "        text-align: right;\n",
       "    }\n",
       "</style>\n",
       "<table border=\"1\" class=\"dataframe\">\n",
       "  <thead>\n",
       "    <tr style=\"text-align: right;\">\n",
       "      <th></th>\n",
       "      <th>2021</th>\n",
       "      <th>2022</th>\n",
       "      <th>2023</th>\n",
       "    </tr>\n",
       "  </thead>\n",
       "  <tbody>\n",
       "    <tr>\n",
       "      <th>1</th>\n",
       "      <td>10519</td>\n",
       "      <td>12933</td>\n",
       "      <td>12435</td>\n",
       "    </tr>\n",
       "    <tr>\n",
       "      <th>2</th>\n",
       "      <td>9845</td>\n",
       "      <td>13776</td>\n",
       "      <td>16225</td>\n",
       "    </tr>\n",
       "    <tr>\n",
       "      <th>3</th>\n",
       "      <td>11220</td>\n",
       "      <td>13575</td>\n",
       "      <td>16524</td>\n",
       "    </tr>\n",
       "    <tr>\n",
       "      <th>4</th>\n",
       "      <td>9487</td>\n",
       "      <td>12470</td>\n",
       "      <td>13963</td>\n",
       "    </tr>\n",
       "    <tr>\n",
       "      <th>5</th>\n",
       "      <td>12003</td>\n",
       "      <td>12381</td>\n",
       "      <td>13392</td>\n",
       "    </tr>\n",
       "    <tr>\n",
       "      <th>6</th>\n",
       "      <td>11983</td>\n",
       "      <td>11085</td>\n",
       "      <td>13406</td>\n",
       "    </tr>\n",
       "    <tr>\n",
       "      <th>7</th>\n",
       "      <td>12232</td>\n",
       "      <td>12267</td>\n",
       "      <td>13183</td>\n",
       "    </tr>\n",
       "    <tr>\n",
       "      <th>8</th>\n",
       "      <td>12552</td>\n",
       "      <td>11982</td>\n",
       "      <td>13038</td>\n",
       "    </tr>\n",
       "    <tr>\n",
       "      <th>9</th>\n",
       "      <td>9814</td>\n",
       "      <td>10938</td>\n",
       "      <td>12502</td>\n",
       "    </tr>\n",
       "    <tr>\n",
       "      <th>10</th>\n",
       "      <td>12689</td>\n",
       "      <td>11676</td>\n",
       "      <td>13700</td>\n",
       "    </tr>\n",
       "    <tr>\n",
       "      <th>11</th>\n",
       "      <td>11847</td>\n",
       "      <td>10299</td>\n",
       "      <td>13168</td>\n",
       "    </tr>\n",
       "    <tr>\n",
       "      <th>12</th>\n",
       "      <td>13424</td>\n",
       "      <td>11566</td>\n",
       "      <td>14323</td>\n",
       "    </tr>\n",
       "  </tbody>\n",
       "</table>\n",
       "</div>"
      ],
      "text/plain": [
       "     2021   2022   2023\n",
       "1   10519  12933  12435\n",
       "2    9845  13776  16225\n",
       "3   11220  13575  16524\n",
       "4    9487  12470  13963\n",
       "5   12003  12381  13392\n",
       "6   11983  11085  13406\n",
       "7   12232  12267  13183\n",
       "8   12552  11982  13038\n",
       "9    9814  10938  12502\n",
       "10  12689  11676  13700\n",
       "11  11847  10299  13168\n",
       "12  13424  11566  14323"
      ]
     },
     "execution_count": 36,
     "metadata": {},
     "output_type": "execute_result"
    }
   ],
   "source": [
    "df_counts"
   ]
  },
  {
   "cell_type": "markdown",
   "id": "078a89c1",
   "metadata": {},
   "source": [
    "### 21, 22, 23년 월별 매매 거래 건수"
   ]
  },
  {
   "cell_type": "code",
   "execution_count": 38,
   "id": "8e9da4b4",
   "metadata": {},
   "outputs": [
    {
     "data": {
      "image/png": "[encoded data removed]",
      "text/plain": [
       "<Figure size 640x480 with 1 Axes>"
      ]
     },
     "metadata": {},
     "output_type": "display_data"
    }
   ],
   "source": [
    "# 21, 22, 23년 월별 거래 건수 계산\n",
    "counts_21 = apt21_deal['계약년월'].dt.month.value_counts().sort_index()\n",
    "counts_22 = apt22_deal['계약년월'].dt.month.value_counts().sort_index()\n",
    "counts_23 = apt23_deal['계약년월'].dt.month.value_counts().sort_index()\n",
    "\n",
    "\n",
    "df_counts = pd.DataFrame({\n",
    "    '2021': counts_21,\n",
    "    '2022': counts_22,\n",
    "    '2023': counts_23,\n",
    "})\n",
    "\n",
    "ax = df_counts.plot(marker='o')\n",
    "ax.set_xlabel('계약년월')\n",
    "ax.set_ylabel('거래 건수')\n",
    "ax.set_title('21, 22, 23년 월별 매매 거래 건수 비교')\n",
    "plt.xticks(rotation=45)\n",
    "plt.tight_layout()\n",
    "plt.show()"
   ]
  },
  {
   "cell_type": "code",
   "execution_count": 39,
   "id": "bddc91d8",
   "metadata": {},
   "outputs": [
    {
     "data": {
      "text/html": [
       "<div>\n",
       "<style scoped>\n",
       "    .dataframe tbody tr th:only-of-type {\n",
       "        vertical-align: middle;\n",
       "    }\n",
       "\n",
       "    .dataframe tbody tr th {\n",
       "        vertical-align: top;\n",
       "    }\n",
       "\n",
       "    .dataframe thead th {\n",
       "        text-align: right;\n",
       "    }\n",
       "</style>\n",
       "<table border=\"1\" class=\"dataframe\">\n",
       "  <thead>\n",
       "    <tr style=\"text-align: right;\">\n",
       "      <th></th>\n",
       "      <th>2021</th>\n",
       "      <th>2022</th>\n",
       "      <th>2023</th>\n",
       "    </tr>\n",
       "  </thead>\n",
       "  <tbody>\n",
       "    <tr>\n",
       "      <th>1</th>\n",
       "      <td>5955</td>\n",
       "      <td>1143</td>\n",
       "      <td>1498</td>\n",
       "    </tr>\n",
       "    <tr>\n",
       "      <th>2</th>\n",
       "      <td>3997</td>\n",
       "      <td>857</td>\n",
       "      <td>2556</td>\n",
       "    </tr>\n",
       "    <tr>\n",
       "      <th>3</th>\n",
       "      <td>3885</td>\n",
       "      <td>1563</td>\n",
       "      <td>3110</td>\n",
       "    </tr>\n",
       "    <tr>\n",
       "      <th>4</th>\n",
       "      <td>3761</td>\n",
       "      <td>1838</td>\n",
       "      <td>3335</td>\n",
       "    </tr>\n",
       "    <tr>\n",
       "      <th>5</th>\n",
       "      <td>5048</td>\n",
       "      <td>1844</td>\n",
       "      <td>3579</td>\n",
       "    </tr>\n",
       "    <tr>\n",
       "      <th>6</th>\n",
       "      <td>4056</td>\n",
       "      <td>1146</td>\n",
       "      <td>4033</td>\n",
       "    </tr>\n",
       "    <tr>\n",
       "      <th>7</th>\n",
       "      <td>4800</td>\n",
       "      <td>691</td>\n",
       "      <td>3756</td>\n",
       "    </tr>\n",
       "    <tr>\n",
       "      <th>8</th>\n",
       "      <td>4204</td>\n",
       "      <td>805</td>\n",
       "      <td>4052</td>\n",
       "    </tr>\n",
       "    <tr>\n",
       "      <th>9</th>\n",
       "      <td>2799</td>\n",
       "      <td>657</td>\n",
       "      <td>3519</td>\n",
       "    </tr>\n",
       "    <tr>\n",
       "      <th>10</th>\n",
       "      <td>2296</td>\n",
       "      <td>577</td>\n",
       "      <td>2423</td>\n",
       "    </tr>\n",
       "    <tr>\n",
       "      <th>11</th>\n",
       "      <td>1444</td>\n",
       "      <td>768</td>\n",
       "      <td>1923</td>\n",
       "    </tr>\n",
       "    <tr>\n",
       "      <th>12</th>\n",
       "      <td>1145</td>\n",
       "      <td>910</td>\n",
       "      <td>1874</td>\n",
       "    </tr>\n",
       "  </tbody>\n",
       "</table>\n",
       "</div>"
      ],
      "text/plain": [
       "    2021  2022  2023\n",
       "1   5955  1143  1498\n",
       "2   3997   857  2556\n",
       "3   3885  1563  3110\n",
       "4   3761  1838  3335\n",
       "5   5048  1844  3579\n",
       "6   4056  1146  4033\n",
       "7   4800   691  3756\n",
       "8   4204   805  4052\n",
       "9   2799   657  3519\n",
       "10  2296   577  2423\n",
       "11  1444   768  1923\n",
       "12  1145   910  1874"
      ]
     },
     "execution_count": 39,
     "metadata": {},
     "output_type": "execute_result"
    }
   ],
   "source": [
    "df_counts"
   ]
  }
 ],
 "metadata": {
  "kernelspec": {
   "display_name": "base",
   "language": "python",
   "name": "python3"
  },
  "language_info": {
   "codemirror_mode": {
    "name": "ipython",
    "version": 3
   },
   "file_extension": ".py",
   "mimetype": "text/x-python",
   "name": "python",
   "nbconvert_exporter": "python",
   "pygments_lexer": "ipython3",
   "version": "3.11.4"
  }
 },
 "nbformat": 4,
 "nbformat_minor": 5
}
