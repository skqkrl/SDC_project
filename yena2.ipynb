{
 "cells": [
  {
   "cell_type": "markdown",
   "id": "1c17c56d",
   "metadata": {},
   "source": [
    "# 오피스텔_실거래가"
   ]
  },
  {
   "cell_type": "markdown",
   "id": "89f5ba53",
   "metadata": {},
   "source": [
    "## 데이터 불러오기"
   ]
  },
  {
   "cell_type": "code",
   "execution_count": 1,
   "id": "f935672f",
   "metadata": {},
   "outputs": [],
   "source": [
    "import pandas as pd\n",
    "import numpy as np\n",
    "import matplotlib.pyplot as plt\n",
    "import seaborn as sns\n",
    "import koreanize_matplotlib"
   ]
  },
  {
   "cell_type": "code",
   "execution_count": 2,
   "id": "22c08427",
   "metadata": {},
   "outputs": [
    {
     "name": "stderr",
     "output_type": "stream",
     "text": [
      "C:\\Users\\emily\\AppData\\Local\\Temp\\ipykernel_23004\\1406227441.py:2: DtypeWarning: Columns (11) have mixed types. Specify dtype option on import or set low_memory=False.\n",
      "  officetel24 = pd.read_csv('data_yena/오피스텔(전월세)_실거래가_2024.csv', header=15, encoding='cp949')\n"
     ]
    }
   ],
   "source": [
    "officetel23 = pd.read_csv('data_yena/오피스텔(전월세)_실거래가_2023.csv', header=15, encoding='cp949')\n",
    "officetel24 = pd.read_csv('data_yena/오피스텔(전월세)_실거래가_2024.csv', header=15, encoding='cp949')"
   ]
  },
  {
   "cell_type": "code",
   "execution_count": 3,
   "id": "cbe70ff4",
   "metadata": {},
   "outputs": [],
   "source": [
    "officetel23_deal = pd.read_csv('data_yena/오피스텔(매매)_실거래가_2023.csv', header=15, encoding='cp949')\n",
    "officetel24_deal = pd.read_csv('data_yena/오피스텔(매매)_실거래가_2024.csv', header=15, encoding='cp949')"
   ]
  },
  {
   "cell_type": "code",
   "execution_count": 4,
   "id": "d05095ff",
   "metadata": {},
   "outputs": [
    {
     "data": {
      "text/plain": [
       "NO          8982\n",
       "시군구          236\n",
       "번지          1533\n",
       "본번           692\n",
       "부번           140\n",
       "단지명         1582\n",
       "전용면적(㎡)     2427\n",
       "계약년월          12\n",
       "계약일           31\n",
       "거래금액(만원)    1320\n",
       "층             50\n",
       "매수             1\n",
       "매도             1\n",
       "건축년도          37\n",
       "도로명         1501\n",
       "해제사유발생일      193\n",
       "거래유형           2\n",
       "중개사소재지       192\n",
       "dtype: int64"
      ]
     },
     "execution_count": 4,
     "metadata": {},
     "output_type": "execute_result"
    }
   ],
   "source": [
    "officetel23_deal.nunique()"
   ]
  },
  {
   "cell_type": "code",
   "execution_count": 5,
   "id": "91b40e2b",
   "metadata": {},
   "outputs": [
    {
     "name": "stdout",
     "output_type": "stream",
     "text": [
      "<class 'pandas.core.series.Series'>\n",
      "RangeIndex: 73554 entries, 0 to 73553\n",
      "Series name: 보증금(만원)\n",
      "Non-Null Count  Dtype \n",
      "--------------  ----- \n",
      "73554 non-null  object\n",
      "dtypes: object(1)\n",
      "memory usage: 574.8+ KB\n"
     ]
    }
   ],
   "source": [
    "officetel23['보증금(만원)'].info()"
   ]
  },
  {
   "cell_type": "code",
   "execution_count": 6,
   "id": "6fc95a7d",
   "metadata": {},
   "outputs": [
    {
     "data": {
      "text/html": [
       "<div>\n",
       "<style scoped>\n",
       "    .dataframe tbody tr th:only-of-type {\n",
       "        vertical-align: middle;\n",
       "    }\n",
       "\n",
       "    .dataframe tbody tr th {\n",
       "        vertical-align: top;\n",
       "    }\n",
       "\n",
       "    .dataframe thead th {\n",
       "        text-align: right;\n",
       "    }\n",
       "</style>\n",
       "<table border=\"1\" class=\"dataframe\">\n",
       "  <thead>\n",
       "    <tr style=\"text-align: right;\">\n",
       "      <th></th>\n",
       "      <th>NO</th>\n",
       "      <th>본번</th>\n",
       "      <th>부번</th>\n",
       "      <th>전용면적(㎡)</th>\n",
       "      <th>계약년월</th>\n",
       "      <th>계약일</th>\n",
       "      <th>층</th>\n",
       "      <th>건축년도</th>\n",
       "    </tr>\n",
       "  </thead>\n",
       "  <tbody>\n",
       "    <tr>\n",
       "      <th>count</th>\n",
       "      <td>8982.000000</td>\n",
       "      <td>8982.000000</td>\n",
       "      <td>8982.000000</td>\n",
       "      <td>8982.000000</td>\n",
       "      <td>8982.000000</td>\n",
       "      <td>8982.000000</td>\n",
       "      <td>8982.000000</td>\n",
       "      <td>8854.000000</td>\n",
       "    </tr>\n",
       "    <tr>\n",
       "      <th>mean</th>\n",
       "      <td>4491.500000</td>\n",
       "      <td>479.636607</td>\n",
       "      <td>14.776664</td>\n",
       "      <td>31.280880</td>\n",
       "      <td>202306.695391</td>\n",
       "      <td>15.600312</td>\n",
       "      <td>8.736139</td>\n",
       "      <td>2011.765191</td>\n",
       "    </tr>\n",
       "    <tr>\n",
       "      <th>std</th>\n",
       "      <td>2593.024392</td>\n",
       "      <td>429.430243</td>\n",
       "      <td>41.239851</td>\n",
       "      <td>18.504105</td>\n",
       "      <td>3.474061</td>\n",
       "      <td>8.402901</td>\n",
       "      <td>5.357279</td>\n",
       "      <td>9.048839</td>\n",
       "    </tr>\n",
       "    <tr>\n",
       "      <th>min</th>\n",
       "      <td>1.000000</td>\n",
       "      <td>1.000000</td>\n",
       "      <td>0.000000</td>\n",
       "      <td>9.940000</td>\n",
       "      <td>202301.000000</td>\n",
       "      <td>1.000000</td>\n",
       "      <td>1.000000</td>\n",
       "      <td>1987.000000</td>\n",
       "    </tr>\n",
       "    <tr>\n",
       "      <th>25%</th>\n",
       "      <td>2246.250000</td>\n",
       "      <td>104.000000</td>\n",
       "      <td>1.000000</td>\n",
       "      <td>20.680000</td>\n",
       "      <td>202304.000000</td>\n",
       "      <td>8.000000</td>\n",
       "      <td>5.000000</td>\n",
       "      <td>2004.000000</td>\n",
       "    </tr>\n",
       "    <tr>\n",
       "      <th>50%</th>\n",
       "      <td>4491.500000</td>\n",
       "      <td>369.000000</td>\n",
       "      <td>4.000000</td>\n",
       "      <td>26.821000</td>\n",
       "      <td>202307.000000</td>\n",
       "      <td>15.000000</td>\n",
       "      <td>8.000000</td>\n",
       "      <td>2014.000000</td>\n",
       "    </tr>\n",
       "    <tr>\n",
       "      <th>75%</th>\n",
       "      <td>6736.750000</td>\n",
       "      <td>760.000000</td>\n",
       "      <td>12.000000</td>\n",
       "      <td>34.717500</td>\n",
       "      <td>202310.000000</td>\n",
       "      <td>23.000000</td>\n",
       "      <td>12.000000</td>\n",
       "      <td>2019.000000</td>\n",
       "    </tr>\n",
       "    <tr>\n",
       "      <th>max</th>\n",
       "      <td>8982.000000</td>\n",
       "      <td>3001.000000</td>\n",
       "      <td>698.000000</td>\n",
       "      <td>483.960000</td>\n",
       "      <td>202312.000000</td>\n",
       "      <td>31.000000</td>\n",
       "      <td>68.000000</td>\n",
       "      <td>2023.000000</td>\n",
       "    </tr>\n",
       "  </tbody>\n",
       "</table>\n",
       "</div>"
      ],
      "text/plain": [
       "                NO           본번           부번      전용면적(㎡)           계약년월  \\\n",
       "count  8982.000000  8982.000000  8982.000000  8982.000000    8982.000000   \n",
       "mean   4491.500000   479.636607    14.776664    31.280880  202306.695391   \n",
       "std    2593.024392   429.430243    41.239851    18.504105       3.474061   \n",
       "min       1.000000     1.000000     0.000000     9.940000  202301.000000   \n",
       "25%    2246.250000   104.000000     1.000000    20.680000  202304.000000   \n",
       "50%    4491.500000   369.000000     4.000000    26.821000  202307.000000   \n",
       "75%    6736.750000   760.000000    12.000000    34.717500  202310.000000   \n",
       "max    8982.000000  3001.000000   698.000000   483.960000  202312.000000   \n",
       "\n",
       "               계약일            층         건축년도  \n",
       "count  8982.000000  8982.000000  8854.000000  \n",
       "mean     15.600312     8.736139  2011.765191  \n",
       "std       8.402901     5.357279     9.048839  \n",
       "min       1.000000     1.000000  1987.000000  \n",
       "25%       8.000000     5.000000  2004.000000  \n",
       "50%      15.000000     8.000000  2014.000000  \n",
       "75%      23.000000    12.000000  2019.000000  \n",
       "max      31.000000    68.000000  2023.000000  "
      ]
     },
     "execution_count": 6,
     "metadata": {},
     "output_type": "execute_result"
    }
   ],
   "source": [
    "officetel23_deal.describe()"
   ]
  },
  {
   "cell_type": "markdown",
   "id": "ad3f79ad",
   "metadata": {},
   "source": [
    "## 전처리"
   ]
  },
  {
   "cell_type": "code",
   "execution_count": 58,
   "id": "8a7c5ac0",
   "metadata": {},
   "outputs": [],
   "source": [
    "# 전세만 필터링\n",
    "officetel23_df = officetel23[officetel23['전월세구분']=='전세']\n",
    "officetel24_df = officetel24[officetel24['전월세구분']=='전세']"
   ]
  },
  {
   "cell_type": "code",
   "execution_count": 59,
   "id": "cb4400fd",
   "metadata": {},
   "outputs": [
    {
     "name": "stderr",
     "output_type": "stream",
     "text": [
      "C:\\Users\\emily\\AppData\\Local\\Temp\\ipykernel_23004\\2480818449.py:2: SettingWithCopyWarning: \n",
      "A value is trying to be set on a copy of a slice from a DataFrame.\n",
      "Try using .loc[row_indexer,col_indexer] = value instead\n",
      "\n",
      "See the caveats in the documentation: https://pandas.pydata.org/pandas-docs/stable/user_guide/indexing.html#returning-a-view-versus-a-copy\n",
      "  officetel23_df['보증금(만원)'] = officetel23_df['보증금(만원)'].astype(str).str.replace(',', '', regex=False)\n",
      "C:\\Users\\emily\\AppData\\Local\\Temp\\ipykernel_23004\\2480818449.py:3: SettingWithCopyWarning: \n",
      "A value is trying to be set on a copy of a slice from a DataFrame.\n",
      "Try using .loc[row_indexer,col_indexer] = value instead\n",
      "\n",
      "See the caveats in the documentation: https://pandas.pydata.org/pandas-docs/stable/user_guide/indexing.html#returning-a-view-versus-a-copy\n",
      "  officetel23_df['보증금(만원)'] = pd.to_numeric(officetel23_df['보증금(만원)']).astype(int)\n"
     ]
    }
   ],
   "source": [
    "# 보증금(만원) 컬럼 타입 변환 (object -> int)\n",
    "officetel23_df['보증금(만원)'] = officetel23_df['보증금(만원)'].astype(str).str.replace(',', '', regex=False)\n",
    "officetel23_df['보증금(만원)'] = pd.to_numeric(officetel23_df['보증금(만원)']).astype(int)"
   ]
  },
  {
   "cell_type": "code",
   "execution_count": 60,
   "id": "c4dfef68",
   "metadata": {},
   "outputs": [
    {
     "name": "stderr",
     "output_type": "stream",
     "text": [
      "C:\\Users\\emily\\AppData\\Local\\Temp\\ipykernel_23004\\570142075.py:1: SettingWithCopyWarning: \n",
      "A value is trying to be set on a copy of a slice from a DataFrame.\n",
      "Try using .loc[row_indexer,col_indexer] = value instead\n",
      "\n",
      "See the caveats in the documentation: https://pandas.pydata.org/pandas-docs/stable/user_guide/indexing.html#returning-a-view-versus-a-copy\n",
      "  officetel24_df['보증금(만원)'] = officetel24_df['보증금(만원)'].astype(str).str.replace(',', '', regex=False)\n",
      "C:\\Users\\emily\\AppData\\Local\\Temp\\ipykernel_23004\\570142075.py:2: SettingWithCopyWarning: \n",
      "A value is trying to be set on a copy of a slice from a DataFrame.\n",
      "Try using .loc[row_indexer,col_indexer] = value instead\n",
      "\n",
      "See the caveats in the documentation: https://pandas.pydata.org/pandas-docs/stable/user_guide/indexing.html#returning-a-view-versus-a-copy\n",
      "  officetel24_df['보증금(만원)'] = pd.to_numeric(officetel24_df['보증금(만원)']).astype(int)\n"
     ]
    }
   ],
   "source": [
    "officetel24_df['보증금(만원)'] = officetel24_df['보증금(만원)'].astype(str).str.replace(',', '', regex=False)\n",
    "officetel24_df['보증금(만원)'] = pd.to_numeric(officetel24_df['보증금(만원)']).astype(int)"
   ]
  },
  {
   "cell_type": "code",
   "execution_count": 61,
   "id": "e34a2411",
   "metadata": {},
   "outputs": [
    {
     "name": "stderr",
     "output_type": "stream",
     "text": [
      "C:\\Users\\emily\\AppData\\Local\\Temp\\ipykernel_23004\\3387965727.py:2: SettingWithCopyWarning: \n",
      "A value is trying to be set on a copy of a slice from a DataFrame.\n",
      "Try using .loc[row_indexer,col_indexer] = value instead\n",
      "\n",
      "See the caveats in the documentation: https://pandas.pydata.org/pandas-docs/stable/user_guide/indexing.html#returning-a-view-versus-a-copy\n",
      "  officetel23_df['계약년월'] = pd.to_datetime(officetel23_df['계약년월'].astype(str), format='%Y%m')\n",
      "C:\\Users\\emily\\AppData\\Local\\Temp\\ipykernel_23004\\3387965727.py:3: SettingWithCopyWarning: \n",
      "A value is trying to be set on a copy of a slice from a DataFrame.\n",
      "Try using .loc[row_indexer,col_indexer] = value instead\n",
      "\n",
      "See the caveats in the documentation: https://pandas.pydata.org/pandas-docs/stable/user_guide/indexing.html#returning-a-view-versus-a-copy\n",
      "  officetel24_df['계약년월'] = pd.to_datetime(officetel24_df['계약년월'].astype(str), format='%Y%m')\n"
     ]
    }
   ],
   "source": [
    "# 계약년월 날짜 형식 변환\n",
    "officetel23_df['계약년월'] = pd.to_datetime(officetel23_df['계약년월'].astype(str), format='%Y%m')\n",
    "officetel24_df['계약년월'] = pd.to_datetime(officetel24_df['계약년월'].astype(str), format='%Y%m')"
   ]
  },
  {
   "cell_type": "code",
   "execution_count": 62,
   "id": "5c25af8d",
   "metadata": {},
   "outputs": [
    {
     "data": {
      "text/html": [
       "<div>\n",
       "<style scoped>\n",
       "    .dataframe tbody tr th:only-of-type {\n",
       "        vertical-align: middle;\n",
       "    }\n",
       "\n",
       "    .dataframe tbody tr th {\n",
       "        vertical-align: top;\n",
       "    }\n",
       "\n",
       "    .dataframe thead th {\n",
       "        text-align: right;\n",
       "    }\n",
       "</style>\n",
       "<table border=\"1\" class=\"dataframe\">\n",
       "  <thead>\n",
       "    <tr style=\"text-align: right;\">\n",
       "      <th></th>\n",
       "      <th>NO</th>\n",
       "      <th>시군구</th>\n",
       "      <th>번지</th>\n",
       "      <th>본번</th>\n",
       "      <th>부번</th>\n",
       "      <th>단지명</th>\n",
       "      <th>전월세구분</th>\n",
       "      <th>전용면적(㎡)</th>\n",
       "      <th>계약년월</th>\n",
       "      <th>계약일</th>\n",
       "      <th>보증금(만원)</th>\n",
       "      <th>월세금(만원)</th>\n",
       "      <th>층</th>\n",
       "      <th>건축년도</th>\n",
       "      <th>도로명</th>\n",
       "      <th>계약기간</th>\n",
       "      <th>계약구분</th>\n",
       "      <th>갱신요구권 사용</th>\n",
       "      <th>종전계약 보증금(만원)</th>\n",
       "      <th>종전계약 월세(만원)</th>\n",
       "    </tr>\n",
       "  </thead>\n",
       "  <tbody>\n",
       "  </tbody>\n",
       "</table>\n",
       "</div>"
      ],
      "text/plain": [
       "Empty DataFrame\n",
       "Columns: [NO, 시군구, 번지, 본번, 부번, 단지명, 전월세구분, 전용면적(㎡), 계약년월, 계약일, 보증금(만원), 월세금(만원), 층, 건축년도, 도로명, 계약기간, 계약구분, 갱신요구권 사용, 종전계약 보증금(만원), 종전계약 월세(만원)]\n",
       "Index: []"
      ]
     },
     "execution_count": 62,
     "metadata": {},
     "output_type": "execute_result"
    }
   ],
   "source": [
    "# 중복 확인\n",
    "officetel24_df[officetel24_df.duplicated()]"
   ]
  },
  {
   "cell_type": "code",
   "execution_count": 63,
   "id": "ffe583d6",
   "metadata": {},
   "outputs": [
    {
     "data": {
      "text/plain": [
       "계약구분\n",
       "신규    18270\n",
       "갱신     5695\n",
       "-      3737\n",
       "Name: count, dtype: int64"
      ]
     },
     "execution_count": 63,
     "metadata": {},
     "output_type": "execute_result"
    }
   ],
   "source": [
    "officetel23_df['계약구분'].value_counts()"
   ]
  },
  {
   "cell_type": "code",
   "execution_count": 64,
   "id": "d1114948",
   "metadata": {},
   "outputs": [
    {
     "data": {
      "text/plain": [
       "계약구분\n",
       "신규    18522\n",
       "갱신     6266\n",
       "-       658\n",
       "Name: count, dtype: int64"
      ]
     },
     "execution_count": 64,
     "metadata": {},
     "output_type": "execute_result"
    }
   ],
   "source": [
    "officetel24_df['계약구분'].value_counts()"
   ]
  },
  {
   "cell_type": "code",
   "execution_count": 65,
   "id": "4c56ffe1",
   "metadata": {},
   "outputs": [
    {
     "data": {
      "text/plain": [
       "16       NaN\n",
       "37       NaN\n",
       "39       NaN\n",
       "57       NaN\n",
       "62       NaN\n",
       "        ... \n",
       "73491    NaN\n",
       "73495    NaN\n",
       "73506    NaN\n",
       "73536    NaN\n",
       "73540    NaN\n",
       "Name: 종전계약 보증금(만원), Length: 3737, dtype: object"
      ]
     },
     "execution_count": 65,
     "metadata": {},
     "output_type": "execute_result"
    }
   ],
   "source": [
    "officetel23_df[officetel23_df['계약구분']=='-']['종전계약 보증금(만원)']"
   ]
  },
  {
   "cell_type": "code",
   "execution_count": 17,
   "id": "5c13e7b5",
   "metadata": {},
   "outputs": [
    {
     "data": {
      "text/plain": [
       "424      NaN\n",
       "572      NaN\n",
       "986      NaN\n",
       "1131     NaN\n",
       "1235     NaN\n",
       "        ... \n",
       "83902    NaN\n",
       "83905    NaN\n",
       "84033    NaN\n",
       "84069    NaN\n",
       "84132    NaN\n",
       "Name: 종전계약 보증금(만원), Length: 658, dtype: object"
      ]
     },
     "execution_count": 17,
     "metadata": {},
     "output_type": "execute_result"
    }
   ],
   "source": [
    "officetel24_df[officetel24_df['계약구분']=='-']['종전계약 보증금(만원)']"
   ]
  },
  {
   "cell_type": "code",
   "execution_count": null,
   "id": "93e5c7c4",
   "metadata": {},
   "outputs": [
    {
     "name": "stderr",
     "output_type": "stream",
     "text": [
      "C:\\Users\\emily\\AppData\\Local\\Temp\\ipykernel_23004\\2724605101.py:1: SettingWithCopyWarning: \n",
      "A value is trying to be set on a copy of a slice from a DataFrame.\n",
      "Try using .loc[row_indexer,col_indexer] = value instead\n",
      "\n",
      "See the caveats in the documentation: https://pandas.pydata.org/pandas-docs/stable/user_guide/indexing.html#returning-a-view-versus-a-copy\n",
      "  officetel23_df['종전계약 보증금(만원)'] = officetel23_df['종전계약 보증금(만원)'].fillna(0)\n"
     ]
    }
   ],
   "source": [
    "# 종전계약 보증금(만원) 결측치 0으로 대체\n",
    "officetel23_df['종전계약 보증금(만원)'] = officetel23_df['종전계약 보증금(만원)'].fillna(0)"
   ]
  },
  {
   "cell_type": "code",
   "execution_count": 67,
   "id": "f3f322e6",
   "metadata": {},
   "outputs": [
    {
     "name": "stderr",
     "output_type": "stream",
     "text": [
      "C:\\Users\\emily\\AppData\\Local\\Temp\\ipykernel_23004\\2697994839.py:1: SettingWithCopyWarning: \n",
      "A value is trying to be set on a copy of a slice from a DataFrame.\n",
      "Try using .loc[row_indexer,col_indexer] = value instead\n",
      "\n",
      "See the caveats in the documentation: https://pandas.pydata.org/pandas-docs/stable/user_guide/indexing.html#returning-a-view-versus-a-copy\n",
      "  officetel24_df['종전계약 보증금(만원)'] = officetel24_df['종전계약 보증금(만원)'].fillna(0)\n"
     ]
    }
   ],
   "source": [
    "officetel24_df['종전계약 보증금(만원)'] = officetel24_df['종전계약 보증금(만원)'].fillna(0)"
   ]
  },
  {
   "cell_type": "code",
   "execution_count": null,
   "id": "cf06517b",
   "metadata": {},
   "outputs": [
    {
     "name": "stderr",
     "output_type": "stream",
     "text": [
      "C:\\Users\\emily\\AppData\\Local\\Temp\\ipykernel_23004\\1056222888.py:1: SettingWithCopyWarning: \n",
      "A value is trying to be set on a copy of a slice from a DataFrame.\n",
      "Try using .loc[row_indexer,col_indexer] = value instead\n",
      "\n",
      "See the caveats in the documentation: https://pandas.pydata.org/pandas-docs/stable/user_guide/indexing.html#returning-a-view-versus-a-copy\n",
      "  officetel23_df['계약구분'] = officetel23_df['계약구분'].replace('-', '신규')\n"
     ]
    },
    {
     "data": {
      "text/plain": [
       "계약구분\n",
       "신규    22007\n",
       "갱신     5695\n",
       "Name: count, dtype: int64"
      ]
     },
     "execution_count": 76,
     "metadata": {},
     "output_type": "execute_result"
    }
   ],
   "source": [
    "# 계약구분 - 인 경우 보증금(만원)이 존재하지 않으므로 신규로 대체\n",
    "officetel23_df['계약구분'] = officetel23_df['계약구분'].replace('-', '신규')\n",
    "officetel23_df['계약구분'].value_counts()"
   ]
  },
  {
   "cell_type": "code",
   "execution_count": 70,
   "id": "b1103556",
   "metadata": {},
   "outputs": [
    {
     "name": "stderr",
     "output_type": "stream",
     "text": [
      "C:\\Users\\emily\\AppData\\Local\\Temp\\ipykernel_23004\\2104723435.py:1: SettingWithCopyWarning: \n",
      "A value is trying to be set on a copy of a slice from a DataFrame.\n",
      "Try using .loc[row_indexer,col_indexer] = value instead\n",
      "\n",
      "See the caveats in the documentation: https://pandas.pydata.org/pandas-docs/stable/user_guide/indexing.html#returning-a-view-versus-a-copy\n",
      "  officetel24_df['계약구분'] = officetel24_df['계약구분'].replace('-', '신규')\n"
     ]
    },
    {
     "data": {
      "text/plain": [
       "계약구분\n",
       "신규    19180\n",
       "갱신     6266\n",
       "Name: count, dtype: int64"
      ]
     },
     "execution_count": 70,
     "metadata": {},
     "output_type": "execute_result"
    }
   ],
   "source": [
    "officetel24_df['계약구분'] = officetel24_df['계약구분'].replace('-', '신규')\n",
    "officetel24_df['계약구분'].value_counts()"
   ]
  },
  {
   "cell_type": "code",
   "execution_count": 19,
   "id": "a40830a0",
   "metadata": {},
   "outputs": [
    {
     "data": {
      "text/plain": [
       "<Axes: ylabel='count'>"
      ]
     },
     "execution_count": 19,
     "metadata": {},
     "output_type": "execute_result"
    },
    {
     "data": {
      "image/png": "[encoded data removed]",
      "text/plain": [
       "<Figure size 640x480 with 1 Axes>"
      ]
     },
     "metadata": {},
     "output_type": "display_data"
    }
   ],
   "source": [
    "officetel23_df['계약구분'].value_counts().plot(kind='pie')"
   ]
  },
  {
   "cell_type": "code",
   "execution_count": 21,
   "id": "a9802e0a",
   "metadata": {},
   "outputs": [
    {
     "data": {
      "text/plain": [
       "<Axes: ylabel='count'>"
      ]
     },
     "execution_count": 21,
     "metadata": {},
     "output_type": "execute_result"
    },
    {
     "data": {
      "image/png": "[encoded data removed]",
      "text/plain": [
       "<Figure size 640x480 with 1 Axes>"
      ]
     },
     "metadata": {},
     "output_type": "display_data"
    }
   ],
   "source": [
    "officetel24_df['계약구분'].value_counts().plot(kind='pie')"
   ]
  },
  {
   "cell_type": "code",
   "execution_count": 77,
   "id": "622156c9",
   "metadata": {},
   "outputs": [
    {
     "data": {
      "text/plain": [
       "계약구분\n",
       "신규    22007\n",
       "갱신     5695\n",
       "Name: count, dtype: int64"
      ]
     },
     "execution_count": 77,
     "metadata": {},
     "output_type": "execute_result"
    }
   ],
   "source": [
    "officetel23_df['계약구분'].value_counts()"
   ]
  },
  {
   "cell_type": "code",
   "execution_count": 79,
   "id": "6b869e1a",
   "metadata": {},
   "outputs": [
    {
     "data": {
      "text/html": [
       "<div>\n",
       "<style scoped>\n",
       "    .dataframe tbody tr th:only-of-type {\n",
       "        vertical-align: middle;\n",
       "    }\n",
       "\n",
       "    .dataframe tbody tr th {\n",
       "        vertical-align: top;\n",
       "    }\n",
       "\n",
       "    .dataframe thead th {\n",
       "        text-align: right;\n",
       "    }\n",
       "</style>\n",
       "<table border=\"1\" class=\"dataframe\">\n",
       "  <thead>\n",
       "    <tr style=\"text-align: right;\">\n",
       "      <th></th>\n",
       "      <th>NO</th>\n",
       "      <th>시군구</th>\n",
       "      <th>번지</th>\n",
       "      <th>본번</th>\n",
       "      <th>부번</th>\n",
       "      <th>단지명</th>\n",
       "      <th>전월세구분</th>\n",
       "      <th>전용면적(㎡)</th>\n",
       "      <th>계약년월</th>\n",
       "      <th>계약일</th>\n",
       "      <th>보증금(만원)</th>\n",
       "      <th>월세금(만원)</th>\n",
       "      <th>층</th>\n",
       "      <th>건축년도</th>\n",
       "      <th>도로명</th>\n",
       "      <th>계약기간</th>\n",
       "      <th>계약구분</th>\n",
       "      <th>갱신요구권 사용</th>\n",
       "      <th>종전계약 보증금(만원)</th>\n",
       "      <th>종전계약 월세(만원)</th>\n",
       "    </tr>\n",
       "  </thead>\n",
       "  <tbody>\n",
       "  </tbody>\n",
       "</table>\n",
       "</div>"
      ],
      "text/plain": [
       "Empty DataFrame\n",
       "Columns: [NO, 시군구, 번지, 본번, 부번, 단지명, 전월세구분, 전용면적(㎡), 계약년월, 계약일, 보증금(만원), 월세금(만원), 층, 건축년도, 도로명, 계약기간, 계약구분, 갱신요구권 사용, 종전계약 보증금(만원), 종전계약 월세(만원)]\n",
       "Index: []"
      ]
     },
     "execution_count": 79,
     "metadata": {},
     "output_type": "execute_result"
    }
   ],
   "source": [
    "officetel23_df[(officetel23_df['계약구분']=='신규')&(officetel23_df['종전계약 보증금(만원)'] != 0)]"
   ]
  },
  {
   "cell_type": "code",
   "execution_count": 72,
   "id": "6e3f85c4",
   "metadata": {},
   "outputs": [
    {
     "data": {
      "text/html": [
       "<div>\n",
       "<style scoped>\n",
       "    .dataframe tbody tr th:only-of-type {\n",
       "        vertical-align: middle;\n",
       "    }\n",
       "\n",
       "    .dataframe tbody tr th {\n",
       "        vertical-align: top;\n",
       "    }\n",
       "\n",
       "    .dataframe thead th {\n",
       "        text-align: right;\n",
       "    }\n",
       "</style>\n",
       "<table border=\"1\" class=\"dataframe\">\n",
       "  <thead>\n",
       "    <tr style=\"text-align: right;\">\n",
       "      <th></th>\n",
       "      <th>NO</th>\n",
       "      <th>시군구</th>\n",
       "      <th>번지</th>\n",
       "      <th>본번</th>\n",
       "      <th>부번</th>\n",
       "      <th>단지명</th>\n",
       "      <th>전월세구분</th>\n",
       "      <th>전용면적(㎡)</th>\n",
       "      <th>계약년월</th>\n",
       "      <th>계약일</th>\n",
       "      <th>보증금(만원)</th>\n",
       "      <th>월세금(만원)</th>\n",
       "      <th>층</th>\n",
       "      <th>건축년도</th>\n",
       "      <th>도로명</th>\n",
       "      <th>계약기간</th>\n",
       "      <th>계약구분</th>\n",
       "      <th>갱신요구권 사용</th>\n",
       "      <th>종전계약 보증금(만원)</th>\n",
       "      <th>종전계약 월세(만원)</th>\n",
       "    </tr>\n",
       "  </thead>\n",
       "  <tbody>\n",
       "  </tbody>\n",
       "</table>\n",
       "</div>"
      ],
      "text/plain": [
       "Empty DataFrame\n",
       "Columns: [NO, 시군구, 번지, 본번, 부번, 단지명, 전월세구분, 전용면적(㎡), 계약년월, 계약일, 보증금(만원), 월세금(만원), 층, 건축년도, 도로명, 계약기간, 계약구분, 갱신요구권 사용, 종전계약 보증금(만원), 종전계약 월세(만원)]\n",
       "Index: []"
      ]
     },
     "execution_count": 72,
     "metadata": {},
     "output_type": "execute_result"
    }
   ],
   "source": [
    "officetel24_df[(officetel24_df['계약구분']=='신규')&(officetel24_df['종전계약 보증금(만원)'] != 0)]"
   ]
  },
  {
   "cell_type": "markdown",
   "id": "29cf2c91",
   "metadata": {},
   "source": [
    "## 보증금 분포 비교"
   ]
  },
  {
   "cell_type": "code",
   "execution_count": 23,
   "id": "44b8a976",
   "metadata": {},
   "outputs": [
    {
     "data": {
      "text/plain": [
       "count     27702.000000\n",
       "mean      22075.638546\n",
       "std       10189.541282\n",
       "min        2500.000000\n",
       "25%       16400.000000\n",
       "50%       20000.000000\n",
       "75%       25200.000000\n",
       "max      210000.000000\n",
       "Name: 보증금(만원), dtype: float64"
      ]
     },
     "execution_count": 23,
     "metadata": {},
     "output_type": "execute_result"
    }
   ],
   "source": [
    "officetel23_df['보증금(만원)'].describe()"
   ]
  },
  {
   "cell_type": "code",
   "execution_count": 24,
   "id": "fabb8c43",
   "metadata": {},
   "outputs": [
    {
     "data": {
      "text/plain": [
       "count     25446.000000\n",
       "mean      24730.431856\n",
       "std       13811.925370\n",
       "min        1500.000000\n",
       "25%       17000.000000\n",
       "50%       22500.000000\n",
       "75%       28780.000000\n",
       "max      540000.000000\n",
       "Name: 보증금(만원), dtype: float64"
      ]
     },
     "execution_count": 24,
     "metadata": {},
     "output_type": "execute_result"
    }
   ],
   "source": [
    "officetel24_df['보증금(만원)'].describe()"
   ]
  },
  {
   "cell_type": "code",
   "execution_count": 25,
   "id": "5c0d54f4",
   "metadata": {},
   "outputs": [
    {
     "data": {
      "image/png": "[encoded data removed]",
      "text/plain": [
       "<Figure size 1000x600 with 1 Axes>"
      ]
     },
     "metadata": {},
     "output_type": "display_data"
    }
   ],
   "source": [
    "data = [\n",
    "    officetel23_df['보증금(만원)'],\n",
    "    officetel24_df['보증금(만원)']\n",
    "]\n",
    "\n",
    "plt.figure(figsize=(10,6))\n",
    "plt.boxplot(data, labels=['2023', '2024']) \n",
    "\n",
    "plt.title('2023~2024년 오피스텔 보증금 분포 비교')\n",
    "plt.ylabel('보증금(만원)')\n",
    "plt.xlabel('년도')\n",
    "\n",
    "plt.show()"
   ]
  },
  {
   "cell_type": "code",
   "execution_count": 26,
   "id": "2239652a",
   "metadata": {},
   "outputs": [
    {
     "name": "stderr",
     "output_type": "stream",
     "text": [
      "C:\\Users\\emily\\AppData\\Local\\Temp\\ipykernel_23004\\3310930576.py:1: SettingWithCopyWarning: \n",
      "A value is trying to be set on a copy of a slice from a DataFrame.\n",
      "Try using .loc[row_indexer,col_indexer] = value instead\n",
      "\n",
      "See the caveats in the documentation: https://pandas.pydata.org/pandas-docs/stable/user_guide/indexing.html#returning-a-view-versus-a-copy\n",
      "  officetel23_df['구'] = officetel23_df['시군구'].str.extract(r'(\\S+구)')\n"
     ]
    },
    {
     "data": {
      "text/html": [
       "<div>\n",
       "<style scoped>\n",
       "    .dataframe tbody tr th:only-of-type {\n",
       "        vertical-align: middle;\n",
       "    }\n",
       "\n",
       "    .dataframe tbody tr th {\n",
       "        vertical-align: top;\n",
       "    }\n",
       "\n",
       "    .dataframe thead th {\n",
       "        text-align: right;\n",
       "    }\n",
       "</style>\n",
       "<table border=\"1\" class=\"dataframe\">\n",
       "  <thead>\n",
       "    <tr style=\"text-align: right;\">\n",
       "      <th></th>\n",
       "      <th>NO</th>\n",
       "      <th>시군구</th>\n",
       "      <th>번지</th>\n",
       "      <th>본번</th>\n",
       "      <th>부번</th>\n",
       "      <th>단지명</th>\n",
       "      <th>전월세구분</th>\n",
       "      <th>전용면적(㎡)</th>\n",
       "      <th>계약년월</th>\n",
       "      <th>계약일</th>\n",
       "      <th>...</th>\n",
       "      <th>월세금(만원)</th>\n",
       "      <th>층</th>\n",
       "      <th>건축년도</th>\n",
       "      <th>도로명</th>\n",
       "      <th>계약기간</th>\n",
       "      <th>계약구분</th>\n",
       "      <th>갱신요구권 사용</th>\n",
       "      <th>종전계약 보증금(만원)</th>\n",
       "      <th>종전계약 월세(만원)</th>\n",
       "      <th>구</th>\n",
       "    </tr>\n",
       "  </thead>\n",
       "  <tbody>\n",
       "    <tr>\n",
       "      <th>4</th>\n",
       "      <td>5</td>\n",
       "      <td>서울특별시 동대문구 답십리동</td>\n",
       "      <td>497-23</td>\n",
       "      <td>497</td>\n",
       "      <td>23</td>\n",
       "      <td>청계 푸르지오시티</td>\n",
       "      <td>전세</td>\n",
       "      <td>20.62</td>\n",
       "      <td>2023-12-01</td>\n",
       "      <td>30</td>\n",
       "      <td>...</td>\n",
       "      <td>0</td>\n",
       "      <td>11</td>\n",
       "      <td>2015.0</td>\n",
       "      <td>천호대로 257</td>\n",
       "      <td>202401~202601</td>\n",
       "      <td>갱신</td>\n",
       "      <td>-</td>\n",
       "      <td>3,000</td>\n",
       "      <td>45.0</td>\n",
       "      <td>동대문구</td>\n",
       "    </tr>\n",
       "    <tr>\n",
       "      <th>5</th>\n",
       "      <td>6</td>\n",
       "      <td>서울특별시 도봉구 창동</td>\n",
       "      <td>749-15</td>\n",
       "      <td>749</td>\n",
       "      <td>15</td>\n",
       "      <td>라르플레이스2단지</td>\n",
       "      <td>전세</td>\n",
       "      <td>29.16</td>\n",
       "      <td>2023-12-01</td>\n",
       "      <td>30</td>\n",
       "      <td>...</td>\n",
       "      <td>0</td>\n",
       "      <td>6</td>\n",
       "      <td>2019.0</td>\n",
       "      <td>도봉로136길 19</td>\n",
       "      <td>202401~202601</td>\n",
       "      <td>신규</td>\n",
       "      <td>-</td>\n",
       "      <td>NaN</td>\n",
       "      <td>NaN</td>\n",
       "      <td>도봉구</td>\n",
       "    </tr>\n",
       "    <tr>\n",
       "      <th>6</th>\n",
       "      <td>7</td>\n",
       "      <td>서울특별시 중랑구 신내동</td>\n",
       "      <td>835</td>\n",
       "      <td>835</td>\n",
       "      <td>0</td>\n",
       "      <td>베네스트로프트(BENEST LOFT)</td>\n",
       "      <td>전세</td>\n",
       "      <td>27.79</td>\n",
       "      <td>2023-12-01</td>\n",
       "      <td>30</td>\n",
       "      <td>...</td>\n",
       "      <td>0</td>\n",
       "      <td>17</td>\n",
       "      <td>2021.0</td>\n",
       "      <td>용마산로 636</td>\n",
       "      <td>202312~202512</td>\n",
       "      <td>갱신</td>\n",
       "      <td>-</td>\n",
       "      <td>18,000</td>\n",
       "      <td>0.0</td>\n",
       "      <td>중랑구</td>\n",
       "    </tr>\n",
       "    <tr>\n",
       "      <th>13</th>\n",
       "      <td>14</td>\n",
       "      <td>서울특별시 동대문구 전농동</td>\n",
       "      <td>620-15</td>\n",
       "      <td>620</td>\n",
       "      <td>15</td>\n",
       "      <td>청량리역 우남SL타워300</td>\n",
       "      <td>전세</td>\n",
       "      <td>18.43</td>\n",
       "      <td>2023-12-01</td>\n",
       "      <td>30</td>\n",
       "      <td>...</td>\n",
       "      <td>0</td>\n",
       "      <td>18</td>\n",
       "      <td>2023.0</td>\n",
       "      <td>왕산로 186</td>\n",
       "      <td>202401~202601</td>\n",
       "      <td>신규</td>\n",
       "      <td>-</td>\n",
       "      <td>NaN</td>\n",
       "      <td>NaN</td>\n",
       "      <td>동대문구</td>\n",
       "    </tr>\n",
       "    <tr>\n",
       "      <th>16</th>\n",
       "      <td>17</td>\n",
       "      <td>서울특별시 도봉구 창동</td>\n",
       "      <td>749-15</td>\n",
       "      <td>749</td>\n",
       "      <td>15</td>\n",
       "      <td>라르플레이스2단지</td>\n",
       "      <td>전세</td>\n",
       "      <td>29.16</td>\n",
       "      <td>2023-12-01</td>\n",
       "      <td>30</td>\n",
       "      <td>...</td>\n",
       "      <td>0</td>\n",
       "      <td>3</td>\n",
       "      <td>2019.0</td>\n",
       "      <td>도봉로136길 19</td>\n",
       "      <td>-</td>\n",
       "      <td>신규</td>\n",
       "      <td>-</td>\n",
       "      <td>NaN</td>\n",
       "      <td>NaN</td>\n",
       "      <td>도봉구</td>\n",
       "    </tr>\n",
       "    <tr>\n",
       "      <th>...</th>\n",
       "      <td>...</td>\n",
       "      <td>...</td>\n",
       "      <td>...</td>\n",
       "      <td>...</td>\n",
       "      <td>...</td>\n",
       "      <td>...</td>\n",
       "      <td>...</td>\n",
       "      <td>...</td>\n",
       "      <td>...</td>\n",
       "      <td>...</td>\n",
       "      <td>...</td>\n",
       "      <td>...</td>\n",
       "      <td>...</td>\n",
       "      <td>...</td>\n",
       "      <td>...</td>\n",
       "      <td>...</td>\n",
       "      <td>...</td>\n",
       "      <td>...</td>\n",
       "      <td>...</td>\n",
       "      <td>...</td>\n",
       "      <td>...</td>\n",
       "    </tr>\n",
       "    <tr>\n",
       "      <th>73540</th>\n",
       "      <td>73541</td>\n",
       "      <td>서울특별시 금천구 독산동</td>\n",
       "      <td>1150</td>\n",
       "      <td>1150</td>\n",
       "      <td>0</td>\n",
       "      <td>금천 롯데캐슬 골드파크 2차</td>\n",
       "      <td>전세</td>\n",
       "      <td>27.03</td>\n",
       "      <td>2023-01-01</td>\n",
       "      <td>2</td>\n",
       "      <td>...</td>\n",
       "      <td>0</td>\n",
       "      <td>10</td>\n",
       "      <td>2017.0</td>\n",
       "      <td></td>\n",
       "      <td>-</td>\n",
       "      <td>신규</td>\n",
       "      <td>-</td>\n",
       "      <td>NaN</td>\n",
       "      <td>NaN</td>\n",
       "      <td>금천구</td>\n",
       "    </tr>\n",
       "    <tr>\n",
       "      <th>73546</th>\n",
       "      <td>73547</td>\n",
       "      <td>서울특별시 관악구 봉천동</td>\n",
       "      <td>866-6</td>\n",
       "      <td>866</td>\n",
       "      <td>6</td>\n",
       "      <td>덕산스테이트</td>\n",
       "      <td>전세</td>\n",
       "      <td>19.14</td>\n",
       "      <td>2023-01-01</td>\n",
       "      <td>1</td>\n",
       "      <td>...</td>\n",
       "      <td>0</td>\n",
       "      <td>11</td>\n",
       "      <td>2017.0</td>\n",
       "      <td>관악로13길 16</td>\n",
       "      <td>202301~202501</td>\n",
       "      <td>신규</td>\n",
       "      <td>-</td>\n",
       "      <td>NaN</td>\n",
       "      <td>NaN</td>\n",
       "      <td>관악구</td>\n",
       "    </tr>\n",
       "    <tr>\n",
       "      <th>73550</th>\n",
       "      <td>73551</td>\n",
       "      <td>서울특별시 마포구 공덕동</td>\n",
       "      <td>17-67</td>\n",
       "      <td>17</td>\n",
       "      <td>67</td>\n",
       "      <td>헤이븐 오피스텔</td>\n",
       "      <td>전세</td>\n",
       "      <td>20.36</td>\n",
       "      <td>2023-01-01</td>\n",
       "      <td>1</td>\n",
       "      <td>...</td>\n",
       "      <td>0</td>\n",
       "      <td>6</td>\n",
       "      <td>2020.0</td>\n",
       "      <td>만리재로 99</td>\n",
       "      <td>202301~202401</td>\n",
       "      <td>신규</td>\n",
       "      <td>-</td>\n",
       "      <td>NaN</td>\n",
       "      <td>NaN</td>\n",
       "      <td>마포구</td>\n",
       "    </tr>\n",
       "    <tr>\n",
       "      <th>73551</th>\n",
       "      <td>73552</td>\n",
       "      <td>서울특별시 강서구 가양동</td>\n",
       "      <td>250-2</td>\n",
       "      <td>250</td>\n",
       "      <td>2</td>\n",
       "      <td>다솔씨티하임</td>\n",
       "      <td>전세</td>\n",
       "      <td>36.69</td>\n",
       "      <td>2023-01-01</td>\n",
       "      <td>1</td>\n",
       "      <td>...</td>\n",
       "      <td>0</td>\n",
       "      <td>4</td>\n",
       "      <td>2018.0</td>\n",
       "      <td>양천로49길 47</td>\n",
       "      <td>202303~202503</td>\n",
       "      <td>신규</td>\n",
       "      <td>-</td>\n",
       "      <td>NaN</td>\n",
       "      <td>NaN</td>\n",
       "      <td>강서구</td>\n",
       "    </tr>\n",
       "    <tr>\n",
       "      <th>73552</th>\n",
       "      <td>73553</td>\n",
       "      <td>서울특별시 강서구 마곡동</td>\n",
       "      <td>793</td>\n",
       "      <td>793</td>\n",
       "      <td>0</td>\n",
       "      <td>유림트윈파크</td>\n",
       "      <td>전세</td>\n",
       "      <td>19.99</td>\n",
       "      <td>2023-01-01</td>\n",
       "      <td>1</td>\n",
       "      <td>...</td>\n",
       "      <td>0</td>\n",
       "      <td>6</td>\n",
       "      <td>2015.0</td>\n",
       "      <td>강서로 419</td>\n",
       "      <td>202302~202502</td>\n",
       "      <td>신규</td>\n",
       "      <td>-</td>\n",
       "      <td>NaN</td>\n",
       "      <td>NaN</td>\n",
       "      <td>강서구</td>\n",
       "    </tr>\n",
       "  </tbody>\n",
       "</table>\n",
       "<p>27702 rows × 21 columns</p>\n",
       "</div>"
      ],
      "text/plain": [
       "          NO              시군구      번지    본번  부번                   단지명 전월세구분  \\\n",
       "4          5  서울특별시 동대문구 답십리동  497-23   497  23             청계 푸르지오시티    전세   \n",
       "5          6     서울특별시 도봉구 창동  749-15   749  15             라르플레이스2단지    전세   \n",
       "6          7    서울특별시 중랑구 신내동     835   835   0  베네스트로프트(BENEST LOFT)    전세   \n",
       "13        14   서울특별시 동대문구 전농동  620-15   620  15        청량리역 우남SL타워300    전세   \n",
       "16        17     서울특별시 도봉구 창동  749-15   749  15             라르플레이스2단지    전세   \n",
       "...      ...              ...     ...   ...  ..                   ...   ...   \n",
       "73540  73541    서울특별시 금천구 독산동    1150  1150   0       금천 롯데캐슬 골드파크 2차    전세   \n",
       "73546  73547    서울특별시 관악구 봉천동   866-6   866   6                덕산스테이트    전세   \n",
       "73550  73551    서울특별시 마포구 공덕동   17-67    17  67              헤이븐 오피스텔    전세   \n",
       "73551  73552    서울특별시 강서구 가양동   250-2   250   2                다솔씨티하임    전세   \n",
       "73552  73553    서울특별시 강서구 마곡동     793   793   0                유림트윈파크    전세   \n",
       "\n",
       "       전용면적(㎡)       계약년월  계약일  ...  월세금(만원)   층    건축년도         도로명  \\\n",
       "4        20.62 2023-12-01   30  ...        0  11  2015.0    천호대로 257   \n",
       "5        29.16 2023-12-01   30  ...        0   6  2019.0  도봉로136길 19   \n",
       "6        27.79 2023-12-01   30  ...        0  17  2021.0    용마산로 636   \n",
       "13       18.43 2023-12-01   30  ...        0  18  2023.0     왕산로 186   \n",
       "16       29.16 2023-12-01   30  ...        0   3  2019.0  도봉로136길 19   \n",
       "...        ...        ...  ...  ...      ...  ..     ...         ...   \n",
       "73540    27.03 2023-01-01    2  ...        0  10  2017.0               \n",
       "73546    19.14 2023-01-01    1  ...        0  11  2017.0   관악로13길 16   \n",
       "73550    20.36 2023-01-01    1  ...        0   6  2020.0     만리재로 99   \n",
       "73551    36.69 2023-01-01    1  ...        0   4  2018.0   양천로49길 47   \n",
       "73552    19.99 2023-01-01    1  ...        0   6  2015.0     강서로 419   \n",
       "\n",
       "                계약기간 계약구분 갱신요구권 사용 종전계약 보증금(만원) 종전계약 월세(만원)     구  \n",
       "4      202401~202601   갱신        -        3,000        45.0  동대문구  \n",
       "5      202401~202601   신규        -          NaN         NaN   도봉구  \n",
       "6      202312~202512   갱신        -       18,000         0.0   중랑구  \n",
       "13     202401~202601   신규        -          NaN         NaN  동대문구  \n",
       "16                 -   신규        -          NaN         NaN   도봉구  \n",
       "...              ...  ...      ...          ...         ...   ...  \n",
       "73540              -   신규        -          NaN         NaN   금천구  \n",
       "73546  202301~202501   신규        -          NaN         NaN   관악구  \n",
       "73550  202301~202401   신규        -          NaN         NaN   마포구  \n",
       "73551  202303~202503   신규        -          NaN         NaN   강서구  \n",
       "73552  202302~202502   신규        -          NaN         NaN   강서구  \n",
       "\n",
       "[27702 rows x 21 columns]"
      ]
     },
     "execution_count": 26,
     "metadata": {},
     "output_type": "execute_result"
    }
   ],
   "source": [
    "officetel23_df['구'] = officetel23_df['시군구'].str.extract(r'(\\S+구)')\n",
    "officetel23_df"
   ]
  },
  {
   "cell_type": "code",
   "execution_count": 27,
   "id": "d71b4898",
   "metadata": {},
   "outputs": [
    {
     "name": "stderr",
     "output_type": "stream",
     "text": [
      "C:\\Users\\emily\\AppData\\Local\\Temp\\ipykernel_23004\\988446480.py:1: SettingWithCopyWarning: \n",
      "A value is trying to be set on a copy of a slice from a DataFrame.\n",
      "Try using .loc[row_indexer,col_indexer] = value instead\n",
      "\n",
      "See the caveats in the documentation: https://pandas.pydata.org/pandas-docs/stable/user_guide/indexing.html#returning-a-view-versus-a-copy\n",
      "  officetel24_df['구'] = officetel24_df['시군구'].str.extract(r'(\\S+구)')\n"
     ]
    },
    {
     "data": {
      "text/html": [
       "<div>\n",
       "<style scoped>\n",
       "    .dataframe tbody tr th:only-of-type {\n",
       "        vertical-align: middle;\n",
       "    }\n",
       "\n",
       "    .dataframe tbody tr th {\n",
       "        vertical-align: top;\n",
       "    }\n",
       "\n",
       "    .dataframe thead th {\n",
       "        text-align: right;\n",
       "    }\n",
       "</style>\n",
       "<table border=\"1\" class=\"dataframe\">\n",
       "  <thead>\n",
       "    <tr style=\"text-align: right;\">\n",
       "      <th></th>\n",
       "      <th>NO</th>\n",
       "      <th>시군구</th>\n",
       "      <th>번지</th>\n",
       "      <th>본번</th>\n",
       "      <th>부번</th>\n",
       "      <th>단지명</th>\n",
       "      <th>전월세구분</th>\n",
       "      <th>전용면적(㎡)</th>\n",
       "      <th>계약년월</th>\n",
       "      <th>계약일</th>\n",
       "      <th>...</th>\n",
       "      <th>월세금(만원)</th>\n",
       "      <th>층</th>\n",
       "      <th>건축년도</th>\n",
       "      <th>도로명</th>\n",
       "      <th>계약기간</th>\n",
       "      <th>계약구분</th>\n",
       "      <th>갱신요구권 사용</th>\n",
       "      <th>종전계약 보증금(만원)</th>\n",
       "      <th>종전계약 월세(만원)</th>\n",
       "      <th>구</th>\n",
       "    </tr>\n",
       "  </thead>\n",
       "  <tbody>\n",
       "    <tr>\n",
       "      <th>4</th>\n",
       "      <td>5</td>\n",
       "      <td>서울특별시 종로구 숭인동</td>\n",
       "      <td>1392-1</td>\n",
       "      <td>1392</td>\n",
       "      <td>1</td>\n",
       "      <td>종로 아인스빌</td>\n",
       "      <td>전세</td>\n",
       "      <td>17.88</td>\n",
       "      <td>2024-12-01</td>\n",
       "      <td>30</td>\n",
       "      <td>...</td>\n",
       "      <td>0</td>\n",
       "      <td>7</td>\n",
       "      <td>2013.0</td>\n",
       "      <td>난계로29가길 19</td>\n",
       "      <td>202502~202602</td>\n",
       "      <td>갱신</td>\n",
       "      <td>-</td>\n",
       "      <td>14,700</td>\n",
       "      <td>0.0</td>\n",
       "      <td>종로구</td>\n",
       "    </tr>\n",
       "    <tr>\n",
       "      <th>9</th>\n",
       "      <td>10</td>\n",
       "      <td>서울특별시 중구 오장동</td>\n",
       "      <td>148-16</td>\n",
       "      <td>148</td>\n",
       "      <td>16</td>\n",
       "      <td>남산 센트럴시티 투웨니퍼스트</td>\n",
       "      <td>전세</td>\n",
       "      <td>18.39</td>\n",
       "      <td>2024-12-01</td>\n",
       "      <td>30</td>\n",
       "      <td>...</td>\n",
       "      <td>0</td>\n",
       "      <td>15</td>\n",
       "      <td>2022.0</td>\n",
       "      <td>마른내로 115-1</td>\n",
       "      <td>202501~202701</td>\n",
       "      <td>NaN</td>\n",
       "      <td>-</td>\n",
       "      <td>NaN</td>\n",
       "      <td>NaN</td>\n",
       "      <td>중구</td>\n",
       "    </tr>\n",
       "    <tr>\n",
       "      <th>12</th>\n",
       "      <td>13</td>\n",
       "      <td>서울특별시 성동구 상왕십리동</td>\n",
       "      <td>750</td>\n",
       "      <td>750</td>\n",
       "      <td>0</td>\n",
       "      <td>노블리안</td>\n",
       "      <td>전세</td>\n",
       "      <td>30.81</td>\n",
       "      <td>2024-12-01</td>\n",
       "      <td>30</td>\n",
       "      <td>...</td>\n",
       "      <td>0</td>\n",
       "      <td>9</td>\n",
       "      <td>2003.0</td>\n",
       "      <td>왕십리로 390</td>\n",
       "      <td>202503~202703</td>\n",
       "      <td>NaN</td>\n",
       "      <td>사용</td>\n",
       "      <td>16,500</td>\n",
       "      <td>0.0</td>\n",
       "      <td>성동구</td>\n",
       "    </tr>\n",
       "    <tr>\n",
       "      <th>19</th>\n",
       "      <td>20</td>\n",
       "      <td>서울특별시 종로구 숭인동</td>\n",
       "      <td>1368</td>\n",
       "      <td>1368</td>\n",
       "      <td>0</td>\n",
       "      <td>숭인한성아펠시티</td>\n",
       "      <td>전세</td>\n",
       "      <td>21.45</td>\n",
       "      <td>2024-12-01</td>\n",
       "      <td>30</td>\n",
       "      <td>...</td>\n",
       "      <td>0</td>\n",
       "      <td>17</td>\n",
       "      <td>2021.0</td>\n",
       "      <td>난계로 257</td>\n",
       "      <td>202502~202702</td>\n",
       "      <td>NaN</td>\n",
       "      <td>-</td>\n",
       "      <td>NaN</td>\n",
       "      <td>NaN</td>\n",
       "      <td>종로구</td>\n",
       "    </tr>\n",
       "    <tr>\n",
       "      <th>32</th>\n",
       "      <td>33</td>\n",
       "      <td>서울특별시 성북구 석관동</td>\n",
       "      <td>343-2</td>\n",
       "      <td>343</td>\n",
       "      <td>2</td>\n",
       "      <td>filif</td>\n",
       "      <td>전세</td>\n",
       "      <td>29.98</td>\n",
       "      <td>2024-12-01</td>\n",
       "      <td>30</td>\n",
       "      <td>...</td>\n",
       "      <td>0</td>\n",
       "      <td>9</td>\n",
       "      <td>2024.0</td>\n",
       "      <td>화랑로 230</td>\n",
       "      <td>202502~202702</td>\n",
       "      <td>NaN</td>\n",
       "      <td>-</td>\n",
       "      <td>NaN</td>\n",
       "      <td>NaN</td>\n",
       "      <td>성북구</td>\n",
       "    </tr>\n",
       "    <tr>\n",
       "      <th>...</th>\n",
       "      <td>...</td>\n",
       "      <td>...</td>\n",
       "      <td>...</td>\n",
       "      <td>...</td>\n",
       "      <td>...</td>\n",
       "      <td>...</td>\n",
       "      <td>...</td>\n",
       "      <td>...</td>\n",
       "      <td>...</td>\n",
       "      <td>...</td>\n",
       "      <td>...</td>\n",
       "      <td>...</td>\n",
       "      <td>...</td>\n",
       "      <td>...</td>\n",
       "      <td>...</td>\n",
       "      <td>...</td>\n",
       "      <td>...</td>\n",
       "      <td>...</td>\n",
       "      <td>...</td>\n",
       "      <td>...</td>\n",
       "      <td>...</td>\n",
       "    </tr>\n",
       "    <tr>\n",
       "      <th>84138</th>\n",
       "      <td>84139</td>\n",
       "      <td>서울특별시 은평구 응암동</td>\n",
       "      <td>599-38</td>\n",
       "      <td>599</td>\n",
       "      <td>38</td>\n",
       "      <td>위산엘리시움</td>\n",
       "      <td>전세</td>\n",
       "      <td>33.85</td>\n",
       "      <td>2024-01-01</td>\n",
       "      <td>1</td>\n",
       "      <td>...</td>\n",
       "      <td>0</td>\n",
       "      <td>5</td>\n",
       "      <td>2021.0</td>\n",
       "      <td>응암로11길 8</td>\n",
       "      <td>202401~202501</td>\n",
       "      <td>NaN</td>\n",
       "      <td>-</td>\n",
       "      <td>25,300</td>\n",
       "      <td>0.0</td>\n",
       "      <td>은평구</td>\n",
       "    </tr>\n",
       "    <tr>\n",
       "      <th>84142</th>\n",
       "      <td>84143</td>\n",
       "      <td>서울특별시 중랑구 신내동</td>\n",
       "      <td>835</td>\n",
       "      <td>835</td>\n",
       "      <td>0</td>\n",
       "      <td>베네스트로프트(BENEST LOFT)</td>\n",
       "      <td>전세</td>\n",
       "      <td>29.90</td>\n",
       "      <td>2024-01-01</td>\n",
       "      <td>1</td>\n",
       "      <td>...</td>\n",
       "      <td>0</td>\n",
       "      <td>20</td>\n",
       "      <td>2021.0</td>\n",
       "      <td>용마산로 636</td>\n",
       "      <td>202401~202601</td>\n",
       "      <td>NaN</td>\n",
       "      <td>-</td>\n",
       "      <td>NaN</td>\n",
       "      <td>NaN</td>\n",
       "      <td>중랑구</td>\n",
       "    </tr>\n",
       "    <tr>\n",
       "      <th>84145</th>\n",
       "      <td>84146</td>\n",
       "      <td>서울특별시 성북구 동선동1가</td>\n",
       "      <td>85-65</td>\n",
       "      <td>85</td>\n",
       "      <td>65</td>\n",
       "      <td>.</td>\n",
       "      <td>전세</td>\n",
       "      <td>17.72</td>\n",
       "      <td>2024-01-01</td>\n",
       "      <td>1</td>\n",
       "      <td>...</td>\n",
       "      <td>0</td>\n",
       "      <td>3</td>\n",
       "      <td>2013.0</td>\n",
       "      <td>동소문로24길 36</td>\n",
       "      <td>202401~202601</td>\n",
       "      <td>NaN</td>\n",
       "      <td>-</td>\n",
       "      <td>8,000</td>\n",
       "      <td>0.0</td>\n",
       "      <td>성북구</td>\n",
       "    </tr>\n",
       "    <tr>\n",
       "      <th>84150</th>\n",
       "      <td>84151</td>\n",
       "      <td>서울특별시 중구 중림동</td>\n",
       "      <td>363</td>\n",
       "      <td>363</td>\n",
       "      <td>0</td>\n",
       "      <td>쌍용 더 플래티넘 서울역</td>\n",
       "      <td>전세</td>\n",
       "      <td>17.25</td>\n",
       "      <td>2024-01-01</td>\n",
       "      <td>1</td>\n",
       "      <td>...</td>\n",
       "      <td>0</td>\n",
       "      <td>11</td>\n",
       "      <td>2023.0</td>\n",
       "      <td>청파로 454</td>\n",
       "      <td>202402~202602</td>\n",
       "      <td>NaN</td>\n",
       "      <td>-</td>\n",
       "      <td>NaN</td>\n",
       "      <td>NaN</td>\n",
       "      <td>중구</td>\n",
       "    </tr>\n",
       "    <tr>\n",
       "      <th>84154</th>\n",
       "      <td>84155</td>\n",
       "      <td>서울특별시 영등포구 양평동5가</td>\n",
       "      <td>51</td>\n",
       "      <td>51</td>\n",
       "      <td>0</td>\n",
       "      <td>에듀시티에비앙</td>\n",
       "      <td>전세</td>\n",
       "      <td>28.60</td>\n",
       "      <td>2024-01-01</td>\n",
       "      <td>1</td>\n",
       "      <td>...</td>\n",
       "      <td>0</td>\n",
       "      <td>6</td>\n",
       "      <td>2017.0</td>\n",
       "      <td>양평로 160</td>\n",
       "      <td>202402~202602</td>\n",
       "      <td>NaN</td>\n",
       "      <td>-</td>\n",
       "      <td>NaN</td>\n",
       "      <td>NaN</td>\n",
       "      <td>영등포구</td>\n",
       "    </tr>\n",
       "  </tbody>\n",
       "</table>\n",
       "<p>25446 rows × 21 columns</p>\n",
       "</div>"
      ],
      "text/plain": [
       "          NO               시군구      번지    본번  부번                   단지명 전월세구분  \\\n",
       "4          5     서울특별시 종로구 숭인동  1392-1  1392   1               종로 아인스빌    전세   \n",
       "9         10      서울특별시 중구 오장동  148-16   148  16       남산 센트럴시티 투웨니퍼스트    전세   \n",
       "12        13   서울특별시 성동구 상왕십리동     750   750   0                  노블리안    전세   \n",
       "19        20     서울특별시 종로구 숭인동    1368  1368   0              숭인한성아펠시티    전세   \n",
       "32        33     서울특별시 성북구 석관동   343-2   343   2                 filif    전세   \n",
       "...      ...               ...     ...   ...  ..                   ...   ...   \n",
       "84138  84139     서울특별시 은평구 응암동  599-38   599  38                위산엘리시움    전세   \n",
       "84142  84143     서울특별시 중랑구 신내동     835   835   0  베네스트로프트(BENEST LOFT)    전세   \n",
       "84145  84146   서울특별시 성북구 동선동1가   85-65    85  65                     .    전세   \n",
       "84150  84151      서울특별시 중구 중림동     363   363   0         쌍용 더 플래티넘 서울역    전세   \n",
       "84154  84155  서울특별시 영등포구 양평동5가      51    51   0               에듀시티에비앙    전세   \n",
       "\n",
       "       전용면적(㎡)       계약년월  계약일  ...  월세금(만원)   층    건축년도         도로명  \\\n",
       "4        17.88 2024-12-01   30  ...        0   7  2013.0  난계로29가길 19   \n",
       "9        18.39 2024-12-01   30  ...        0  15  2022.0  마른내로 115-1   \n",
       "12       30.81 2024-12-01   30  ...        0   9  2003.0    왕십리로 390   \n",
       "19       21.45 2024-12-01   30  ...        0  17  2021.0     난계로 257   \n",
       "32       29.98 2024-12-01   30  ...        0   9  2024.0     화랑로 230   \n",
       "...        ...        ...  ...  ...      ...  ..     ...         ...   \n",
       "84138    33.85 2024-01-01    1  ...        0   5  2021.0    응암로11길 8   \n",
       "84142    29.90 2024-01-01    1  ...        0  20  2021.0    용마산로 636   \n",
       "84145    17.72 2024-01-01    1  ...        0   3  2013.0  동소문로24길 36   \n",
       "84150    17.25 2024-01-01    1  ...        0  11  2023.0     청파로 454   \n",
       "84154    28.60 2024-01-01    1  ...        0   6  2017.0     양평로 160   \n",
       "\n",
       "                계약기간 계약구분 갱신요구권 사용 종전계약 보증금(만원) 종전계약 월세(만원)     구  \n",
       "4      202502~202602   갱신        -       14,700         0.0   종로구  \n",
       "9      202501~202701  NaN        -          NaN         NaN    중구  \n",
       "12     202503~202703  NaN       사용       16,500         0.0   성동구  \n",
       "19     202502~202702  NaN        -          NaN         NaN   종로구  \n",
       "32     202502~202702  NaN        -          NaN         NaN   성북구  \n",
       "...              ...  ...      ...          ...         ...   ...  \n",
       "84138  202401~202501  NaN        -       25,300         0.0   은평구  \n",
       "84142  202401~202601  NaN        -          NaN         NaN   중랑구  \n",
       "84145  202401~202601  NaN        -        8,000         0.0   성북구  \n",
       "84150  202402~202602  NaN        -          NaN         NaN    중구  \n",
       "84154  202402~202602  NaN        -          NaN         NaN  영등포구  \n",
       "\n",
       "[25446 rows x 21 columns]"
      ]
     },
     "execution_count": 27,
     "metadata": {},
     "output_type": "execute_result"
    }
   ],
   "source": [
    "officetel24_df['구'] = officetel24_df['시군구'].str.extract(r'(\\S+구)')\n",
    "officetel24_df"
   ]
  },
  {
   "cell_type": "markdown",
   "id": "0e4c23da",
   "metadata": {},
   "source": [
    "## 자치구별 평균 전세 보증금"
   ]
  },
  {
   "cell_type": "code",
   "execution_count": 28,
   "id": "fb38e567",
   "metadata": {},
   "outputs": [
    {
     "data": {
      "text/plain": [
       "구\n",
       "강남구     24733.659919\n",
       "강동구     19498.711499\n",
       "강북구     17835.459184\n",
       "강서구     19423.196452\n",
       "관악구     17377.629508\n",
       "광진구     22543.340591\n",
       "구로구     20804.257409\n",
       "금천구     18216.876674\n",
       "노원구     19191.074074\n",
       "도봉구     18617.785582\n",
       "동대문구    19300.580940\n",
       "동작구     22240.684444\n",
       "마포구     20823.967051\n",
       "서대문구    21224.658933\n",
       "서초구     23314.389988\n",
       "성동구     21316.939560\n",
       "성북구     16853.940397\n",
       "송파구     24532.251008\n",
       "양천구     36094.184162\n",
       "영등포구    25469.530418\n",
       "용산구     29120.128205\n",
       "은평구     17890.193638\n",
       "종로구     22514.836028\n",
       "중구      24079.219660\n",
       "중랑구     21000.953398\n",
       "Name: 보증금(만원), dtype: float64"
      ]
     },
     "execution_count": 28,
     "metadata": {},
     "output_type": "execute_result"
    }
   ],
   "source": [
    "officetel23_df.groupby('구')['보증금(만원)'].mean()"
   ]
  },
  {
   "cell_type": "code",
   "execution_count": 29,
   "id": "baee91a6",
   "metadata": {},
   "outputs": [
    {
     "data": {
      "text/plain": [
       "<Axes: ylabel='구'>"
      ]
     },
     "execution_count": 29,
     "metadata": {},
     "output_type": "execute_result"
    },
    {
     "data": {
      "image/png": "[encoded data removed]",
      "text/plain": [
       "<Figure size 640x480 with 1 Axes>"
      ]
     },
     "metadata": {},
     "output_type": "display_data"
    }
   ],
   "source": [
    "officetel23_df.groupby('구')['보증금(만원)'].mean().plot(kind='barh')"
   ]
  },
  {
   "cell_type": "code",
   "execution_count": 30,
   "id": "65a10216",
   "metadata": {},
   "outputs": [
    {
     "data": {
      "text/plain": [
       "<Axes: ylabel='구'>"
      ]
     },
     "execution_count": 30,
     "metadata": {},
     "output_type": "execute_result"
    },
    {
     "data": {
      "image/png": "[encoded data removed]",
      "text/plain": [
       "<Figure size 640x480 with 1 Axes>"
      ]
     },
     "metadata": {},
     "output_type": "display_data"
    }
   ],
   "source": [
    "officetel24_df.groupby('구')['보증금(만원)'].mean().plot(kind='barh')"
   ]
  },
  {
   "cell_type": "markdown",
   "id": "dc4bf578",
   "metadata": {},
   "source": [
    "## 건축년도별 보증금 변화 추이"
   ]
  },
  {
   "cell_type": "code",
   "execution_count": 31,
   "id": "7a5c2dad",
   "metadata": {},
   "outputs": [
    {
     "data": {
      "text/plain": [
       "<Axes: xlabel='건축년도'>"
      ]
     },
     "execution_count": 31,
     "metadata": {},
     "output_type": "execute_result"
    },
    {
     "data": {
      "image/png": "[encoded data removed]",
      "text/plain": [
       "<Figure size 640x480 with 1 Axes>"
      ]
     },
     "metadata": {},
     "output_type": "display_data"
    }
   ],
   "source": [
    "officetel23_df.groupby('건축년도')['보증금(만원)'].mean().plot()"
   ]
  },
  {
   "cell_type": "code",
   "execution_count": 32,
   "id": "4c74b541",
   "metadata": {},
   "outputs": [
    {
     "data": {
      "text/plain": [
       "<Axes: xlabel='건축년도'>"
      ]
     },
     "execution_count": 32,
     "metadata": {},
     "output_type": "execute_result"
    },
    {
     "data": {
      "image/png": "[encoded data removed]",
      "text/plain": [
       "<Figure size 640x480 with 1 Axes>"
      ]
     },
     "metadata": {},
     "output_type": "display_data"
    }
   ],
   "source": [
    "officetel24_df.groupby('건축년도')['보증금(만원)'].mean().plot()"
   ]
  },
  {
   "cell_type": "markdown",
   "id": "080a4075",
   "metadata": {},
   "source": [
    "## 보증금 상관관계"
   ]
  },
  {
   "cell_type": "code",
   "execution_count": 33,
   "id": "950cf8f4",
   "metadata": {},
   "outputs": [
    {
     "data": {
      "text/html": [
       "<div>\n",
       "<style scoped>\n",
       "    .dataframe tbody tr th:only-of-type {\n",
       "        vertical-align: middle;\n",
       "    }\n",
       "\n",
       "    .dataframe tbody tr th {\n",
       "        vertical-align: top;\n",
       "    }\n",
       "\n",
       "    .dataframe thead th {\n",
       "        text-align: right;\n",
       "    }\n",
       "</style>\n",
       "<table border=\"1\" class=\"dataframe\">\n",
       "  <thead>\n",
       "    <tr style=\"text-align: right;\">\n",
       "      <th></th>\n",
       "      <th>보증금(만원)</th>\n",
       "      <th>거래건수</th>\n",
       "    </tr>\n",
       "  </thead>\n",
       "  <tbody>\n",
       "    <tr>\n",
       "      <th>0</th>\n",
       "      <td>20000</td>\n",
       "      <td>1331</td>\n",
       "    </tr>\n",
       "    <tr>\n",
       "      <th>1</th>\n",
       "      <td>22000</td>\n",
       "      <td>921</td>\n",
       "    </tr>\n",
       "    <tr>\n",
       "      <th>2</th>\n",
       "      <td>25000</td>\n",
       "      <td>851</td>\n",
       "    </tr>\n",
       "    <tr>\n",
       "      <th>3</th>\n",
       "      <td>18000</td>\n",
       "      <td>845</td>\n",
       "    </tr>\n",
       "    <tr>\n",
       "      <th>4</th>\n",
       "      <td>21000</td>\n",
       "      <td>787</td>\n",
       "    </tr>\n",
       "    <tr>\n",
       "      <th>...</th>\n",
       "      <td>...</td>\n",
       "      <td>...</td>\n",
       "    </tr>\n",
       "    <tr>\n",
       "      <th>1489</th>\n",
       "      <td>38588</td>\n",
       "      <td>1</td>\n",
       "    </tr>\n",
       "    <tr>\n",
       "      <th>1490</th>\n",
       "      <td>52400</td>\n",
       "      <td>1</td>\n",
       "    </tr>\n",
       "    <tr>\n",
       "      <th>1491</th>\n",
       "      <td>23152</td>\n",
       "      <td>1</td>\n",
       "    </tr>\n",
       "    <tr>\n",
       "      <th>1492</th>\n",
       "      <td>38287</td>\n",
       "      <td>1</td>\n",
       "    </tr>\n",
       "    <tr>\n",
       "      <th>1493</th>\n",
       "      <td>18840</td>\n",
       "      <td>1</td>\n",
       "    </tr>\n",
       "  </tbody>\n",
       "</table>\n",
       "<p>1494 rows × 2 columns</p>\n",
       "</div>"
      ],
      "text/plain": [
       "      보증금(만원)  거래건수\n",
       "0       20000  1331\n",
       "1       22000   921\n",
       "2       25000   851\n",
       "3       18000   845\n",
       "4       21000   787\n",
       "...       ...   ...\n",
       "1489    38588     1\n",
       "1490    52400     1\n",
       "1491    23152     1\n",
       "1492    38287     1\n",
       "1493    18840     1\n",
       "\n",
       "[1494 rows x 2 columns]"
      ]
     },
     "execution_count": 33,
     "metadata": {},
     "output_type": "execute_result"
    }
   ],
   "source": [
    "deposit_count = officetel23_df['보증금(만원)'].value_counts().reset_index(name='거래건수')\n",
    "deposit_count"
   ]
  },
  {
   "cell_type": "code",
   "execution_count": 34,
   "id": "2ebf5bd4",
   "metadata": {},
   "outputs": [
    {
     "data": {
      "text/plain": [
       "-0.03957492655074966"
      ]
     },
     "execution_count": 34,
     "metadata": {},
     "output_type": "execute_result"
    }
   ],
   "source": [
    "deposit_count['보증금(만원)'].corr(deposit_count['거래건수'])"
   ]
  },
  {
   "cell_type": "code",
   "execution_count": 35,
   "id": "e396d58b",
   "metadata": {},
   "outputs": [
    {
     "data": {
      "text/plain": [
       "<matplotlib.collections.PathCollection at 0x245e0fd6810>"
      ]
     },
     "execution_count": 35,
     "metadata": {},
     "output_type": "execute_result"
    },
    {
     "data": {
      "image/png": "[encoded data removed]",
      "text/plain": [
       "<Figure size 640x480 with 1 Axes>"
      ]
     },
     "metadata": {},
     "output_type": "display_data"
    }
   ],
   "source": [
    "plt.scatter(deposit_count['보증금(만원)'],deposit_count['거래건수'], alpha=0.5)"
   ]
  },
  {
   "cell_type": "code",
   "execution_count": 36,
   "id": "a549a73f",
   "metadata": {},
   "outputs": [
    {
     "data": {
      "text/plain": [
       "-0.0027958093971474983"
      ]
     },
     "execution_count": 36,
     "metadata": {},
     "output_type": "execute_result"
    }
   ],
   "source": [
    "officetel23_df['보증금(만원)'].corr(officetel23_df['건축년도'])"
   ]
  },
  {
   "cell_type": "code",
   "execution_count": 37,
   "id": "92192d5e",
   "metadata": {},
   "outputs": [
    {
     "data": {
      "text/plain": [
       "<matplotlib.collections.PathCollection at 0x245e25b87d0>"
      ]
     },
     "execution_count": 37,
     "metadata": {},
     "output_type": "execute_result"
    },
    {
     "data": {
      "image/png": "[encoded data removed]",
      "text/plain": [
       "<Figure size 640x480 with 1 Axes>"
      ]
     },
     "metadata": {},
     "output_type": "display_data"
    }
   ],
   "source": [
    "plt.scatter(officetel23_df['보증금(만원)'],officetel23_df['건축년도'], alpha=0.5)"
   ]
  },
  {
   "cell_type": "markdown",
   "id": "8533cee8",
   "metadata": {},
   "source": [
    "#### 보증금과 전용면적간의 상관관계"
   ]
  },
  {
   "cell_type": "code",
   "execution_count": 38,
   "id": "a88bb509",
   "metadata": {},
   "outputs": [
    {
     "data": {
      "text/plain": [
       "0.7628024322704534"
      ]
     },
     "execution_count": 38,
     "metadata": {},
     "output_type": "execute_result"
    }
   ],
   "source": [
    "officetel23_df['보증금(만원)'].corr(officetel23_df['전용면적(㎡)'])"
   ]
  },
  {
   "cell_type": "code",
   "execution_count": 39,
   "id": "cea42290",
   "metadata": {},
   "outputs": [
    {
     "data": {
      "text/plain": [
       "<matplotlib.collections.PathCollection at 0x245e2a990d0>"
      ]
     },
     "execution_count": 39,
     "metadata": {},
     "output_type": "execute_result"
    },
    {
     "data": {
      "image/png": "[encoded data removed]",
      "text/plain": [
       "<Figure size 640x480 with 1 Axes>"
      ]
     },
     "metadata": {},
     "output_type": "display_data"
    }
   ],
   "source": [
    "plt.scatter(officetel23_df['보증금(만원)'],officetel23_df['전용면적(㎡)'], alpha=0.5)"
   ]
  },
  {
   "cell_type": "markdown",
   "id": "25f18cab",
   "metadata": {},
   "source": [
    "## 자치구별 거래 건수 집계"
   ]
  },
  {
   "cell_type": "code",
   "execution_count": 40,
   "id": "ab228c3c",
   "metadata": {},
   "outputs": [
    {
     "data": {
      "text/plain": [
       "구\n",
       "강서구     4622\n",
       "영등포구    4093\n",
       "송파구     2729\n",
       "금천구     1792\n",
       "동대문구    1532\n",
       "강남구     1482\n",
       "마포구     1214\n",
       "구로구     1181\n",
       "강동구      974\n",
       "서초구      859\n",
       "중구       824\n",
       "성동구      728\n",
       "은평구      723\n",
       "광진구      643\n",
       "용산구      624\n",
       "관악구      610\n",
       "양천구      543\n",
       "도봉구      541\n",
       "중랑구      515\n",
       "종로구      433\n",
       "서대문구     431\n",
       "동작구      225\n",
       "성북구      151\n",
       "노원구      135\n",
       "강북구       98\n",
       "Name: count, dtype: int64"
      ]
     },
     "execution_count": 40,
     "metadata": {},
     "output_type": "execute_result"
    }
   ],
   "source": [
    "officetel23_df['구'].value_counts()"
   ]
  },
  {
   "cell_type": "code",
   "execution_count": 41,
   "id": "745175ec",
   "metadata": {},
   "outputs": [
    {
     "data": {
      "text/plain": [
       "구\n",
       "영등포구    3962\n",
       "강서구     3693\n",
       "송파구     2090\n",
       "금천구     1902\n",
       "동대문구    1414\n",
       "강남구     1121\n",
       "구로구     1044\n",
       "마포구     1014\n",
       "중구      1000\n",
       "강동구      829\n",
       "중랑구      800\n",
       "서초구      776\n",
       "은평구      760\n",
       "용산구      753\n",
       "양천구      646\n",
       "관악구      597\n",
       "성동구      585\n",
       "광진구      530\n",
       "종로구      496\n",
       "도봉구      444\n",
       "서대문구     358\n",
       "동작구      231\n",
       "성북구      178\n",
       "강북구      119\n",
       "노원구      104\n",
       "Name: count, dtype: int64"
      ]
     },
     "execution_count": 41,
     "metadata": {},
     "output_type": "execute_result"
    }
   ],
   "source": [
    "officetel24_df['구'].value_counts()"
   ]
  },
  {
   "cell_type": "code",
   "execution_count": 42,
   "id": "93897def",
   "metadata": {},
   "outputs": [
    {
     "data": {
      "text/html": [
       "<div>\n",
       "<style scoped>\n",
       "    .dataframe tbody tr th:only-of-type {\n",
       "        vertical-align: middle;\n",
       "    }\n",
       "\n",
       "    .dataframe tbody tr th {\n",
       "        vertical-align: top;\n",
       "    }\n",
       "\n",
       "    .dataframe thead th {\n",
       "        text-align: right;\n",
       "    }\n",
       "</style>\n",
       "<table border=\"1\" class=\"dataframe\">\n",
       "  <thead>\n",
       "    <tr style=\"text-align: right;\">\n",
       "      <th></th>\n",
       "      <th>구</th>\n",
       "      <th>거래건수</th>\n",
       "    </tr>\n",
       "  </thead>\n",
       "  <tbody>\n",
       "    <tr>\n",
       "      <th>3</th>\n",
       "      <td>강서구</td>\n",
       "      <td>8315</td>\n",
       "    </tr>\n",
       "    <tr>\n",
       "      <th>19</th>\n",
       "      <td>영등포구</td>\n",
       "      <td>8055</td>\n",
       "    </tr>\n",
       "    <tr>\n",
       "      <th>17</th>\n",
       "      <td>송파구</td>\n",
       "      <td>4819</td>\n",
       "    </tr>\n",
       "    <tr>\n",
       "      <th>7</th>\n",
       "      <td>금천구</td>\n",
       "      <td>3694</td>\n",
       "    </tr>\n",
       "    <tr>\n",
       "      <th>10</th>\n",
       "      <td>동대문구</td>\n",
       "      <td>2946</td>\n",
       "    </tr>\n",
       "    <tr>\n",
       "      <th>0</th>\n",
       "      <td>강남구</td>\n",
       "      <td>2603</td>\n",
       "    </tr>\n",
       "    <tr>\n",
       "      <th>12</th>\n",
       "      <td>마포구</td>\n",
       "      <td>2228</td>\n",
       "    </tr>\n",
       "    <tr>\n",
       "      <th>6</th>\n",
       "      <td>구로구</td>\n",
       "      <td>2225</td>\n",
       "    </tr>\n",
       "    <tr>\n",
       "      <th>23</th>\n",
       "      <td>중구</td>\n",
       "      <td>1824</td>\n",
       "    </tr>\n",
       "    <tr>\n",
       "      <th>1</th>\n",
       "      <td>강동구</td>\n",
       "      <td>1803</td>\n",
       "    </tr>\n",
       "    <tr>\n",
       "      <th>14</th>\n",
       "      <td>서초구</td>\n",
       "      <td>1635</td>\n",
       "    </tr>\n",
       "    <tr>\n",
       "      <th>21</th>\n",
       "      <td>은평구</td>\n",
       "      <td>1483</td>\n",
       "    </tr>\n",
       "    <tr>\n",
       "      <th>20</th>\n",
       "      <td>용산구</td>\n",
       "      <td>1377</td>\n",
       "    </tr>\n",
       "    <tr>\n",
       "      <th>24</th>\n",
       "      <td>중랑구</td>\n",
       "      <td>1315</td>\n",
       "    </tr>\n",
       "    <tr>\n",
       "      <th>15</th>\n",
       "      <td>성동구</td>\n",
       "      <td>1313</td>\n",
       "    </tr>\n",
       "    <tr>\n",
       "      <th>4</th>\n",
       "      <td>관악구</td>\n",
       "      <td>1207</td>\n",
       "    </tr>\n",
       "    <tr>\n",
       "      <th>18</th>\n",
       "      <td>양천구</td>\n",
       "      <td>1189</td>\n",
       "    </tr>\n",
       "    <tr>\n",
       "      <th>5</th>\n",
       "      <td>광진구</td>\n",
       "      <td>1173</td>\n",
       "    </tr>\n",
       "    <tr>\n",
       "      <th>9</th>\n",
       "      <td>도봉구</td>\n",
       "      <td>985</td>\n",
       "    </tr>\n",
       "    <tr>\n",
       "      <th>22</th>\n",
       "      <td>종로구</td>\n",
       "      <td>929</td>\n",
       "    </tr>\n",
       "    <tr>\n",
       "      <th>13</th>\n",
       "      <td>서대문구</td>\n",
       "      <td>789</td>\n",
       "    </tr>\n",
       "    <tr>\n",
       "      <th>11</th>\n",
       "      <td>동작구</td>\n",
       "      <td>456</td>\n",
       "    </tr>\n",
       "    <tr>\n",
       "      <th>16</th>\n",
       "      <td>성북구</td>\n",
       "      <td>329</td>\n",
       "    </tr>\n",
       "    <tr>\n",
       "      <th>8</th>\n",
       "      <td>노원구</td>\n",
       "      <td>239</td>\n",
       "    </tr>\n",
       "    <tr>\n",
       "      <th>2</th>\n",
       "      <td>강북구</td>\n",
       "      <td>217</td>\n",
       "    </tr>\n",
       "  </tbody>\n",
       "</table>\n",
       "</div>"
      ],
      "text/plain": [
       "       구  거래건수\n",
       "3    강서구  8315\n",
       "19  영등포구  8055\n",
       "17   송파구  4819\n",
       "7    금천구  3694\n",
       "10  동대문구  2946\n",
       "0    강남구  2603\n",
       "12   마포구  2228\n",
       "6    구로구  2225\n",
       "23    중구  1824\n",
       "1    강동구  1803\n",
       "14   서초구  1635\n",
       "21   은평구  1483\n",
       "20   용산구  1377\n",
       "24   중랑구  1315\n",
       "15   성동구  1313\n",
       "4    관악구  1207\n",
       "18   양천구  1189\n",
       "5    광진구  1173\n",
       "9    도봉구   985\n",
       "22   종로구   929\n",
       "13  서대문구   789\n",
       "11   동작구   456\n",
       "16   성북구   329\n",
       "8    노원구   239\n",
       "2    강북구   217"
      ]
     },
     "execution_count": 42,
     "metadata": {},
     "output_type": "execute_result"
    }
   ],
   "source": [
    "# 구별 거래건수 집계\n",
    "gu_counts_23 = officetel23_df['구'].value_counts()\n",
    "gu_counts_24 = officetel24_df['구'].value_counts()\n",
    "\n",
    "# 합치기 후 결측값 처리 및 정수형 변환\n",
    "combined = gu_counts_23.add(gu_counts_24, fill_value=0).astype(int)\n",
    "\n",
    "# 시리즈 → 데이터프레임 변환\n",
    "combined_df = combined.reset_index()\n",
    "combined_df.columns = ['구', '거래건수']\n",
    "\n",
    "# 거래건수 기준 정렬\n",
    "combined_df = combined_df.sort_values(by='거래건수', ascending=False)\n",
    "\n",
    "# 결과 출력\n",
    "combined_df"
   ]
  },
  {
   "cell_type": "code",
   "execution_count": null,
   "id": "dd2f4a0e",
   "metadata": {},
   "outputs": [],
   "source": []
  },
  {
   "cell_type": "code",
   "execution_count": 43,
   "id": "11b9cafb",
   "metadata": {},
   "outputs": [
    {
     "data": {
      "text/html": [
       "<div>\n",
       "<style scoped>\n",
       "    .dataframe tbody tr th:only-of-type {\n",
       "        vertical-align: middle;\n",
       "    }\n",
       "\n",
       "    .dataframe tbody tr th {\n",
       "        vertical-align: top;\n",
       "    }\n",
       "\n",
       "    .dataframe thead th {\n",
       "        text-align: right;\n",
       "    }\n",
       "</style>\n",
       "<table border=\"1\" class=\"dataframe\">\n",
       "  <thead>\n",
       "    <tr style=\"text-align: right;\">\n",
       "      <th></th>\n",
       "      <th>code</th>\n",
       "      <th>sido</th>\n",
       "      <th>gu</th>\n",
       "      <th>dong</th>\n",
       "      <th>lat</th>\n",
       "      <th>lng</th>\n",
       "    </tr>\n",
       "  </thead>\n",
       "  <tbody>\n",
       "    <tr>\n",
       "      <th>0</th>\n",
       "      <td>1111051500</td>\n",
       "      <td>서울특별시</td>\n",
       "      <td>종로구</td>\n",
       "      <td>청운효자동</td>\n",
       "      <td>37.584009</td>\n",
       "      <td>126.970626</td>\n",
       "    </tr>\n",
       "    <tr>\n",
       "      <th>1</th>\n",
       "      <td>1111053000</td>\n",
       "      <td>서울특별시</td>\n",
       "      <td>종로구</td>\n",
       "      <td>사직동</td>\n",
       "      <td>37.575408</td>\n",
       "      <td>126.965944</td>\n",
       "    </tr>\n",
       "    <tr>\n",
       "      <th>2</th>\n",
       "      <td>1111054000</td>\n",
       "      <td>서울특별시</td>\n",
       "      <td>종로구</td>\n",
       "      <td>삼청동</td>\n",
       "      <td>37.590758</td>\n",
       "      <td>126.980996</td>\n",
       "    </tr>\n",
       "    <tr>\n",
       "      <th>3</th>\n",
       "      <td>1111055000</td>\n",
       "      <td>서울특별시</td>\n",
       "      <td>종로구</td>\n",
       "      <td>부암동</td>\n",
       "      <td>37.594768</td>\n",
       "      <td>126.965574</td>\n",
       "    </tr>\n",
       "    <tr>\n",
       "      <th>4</th>\n",
       "      <td>1111056000</td>\n",
       "      <td>서울특별시</td>\n",
       "      <td>종로구</td>\n",
       "      <td>평창동</td>\n",
       "      <td>37.613029</td>\n",
       "      <td>126.974485</td>\n",
       "    </tr>\n",
       "    <tr>\n",
       "      <th>...</th>\n",
       "      <td>...</td>\n",
       "      <td>...</td>\n",
       "      <td>...</td>\n",
       "      <td>...</td>\n",
       "      <td>...</td>\n",
       "      <td>...</td>\n",
       "    </tr>\n",
       "    <tr>\n",
       "      <th>886</th>\n",
       "      <td>1174010600</td>\n",
       "      <td>서울특별시</td>\n",
       "      <td>강동구</td>\n",
       "      <td>둔촌동</td>\n",
       "      <td>37.531157</td>\n",
       "      <td>127.142891</td>\n",
       "    </tr>\n",
       "    <tr>\n",
       "      <th>887</th>\n",
       "      <td>1174010700</td>\n",
       "      <td>서울특별시</td>\n",
       "      <td>강동구</td>\n",
       "      <td>암사동</td>\n",
       "      <td>37.552497</td>\n",
       "      <td>127.133010</td>\n",
       "    </tr>\n",
       "    <tr>\n",
       "      <th>888</th>\n",
       "      <td>1174010800</td>\n",
       "      <td>서울특별시</td>\n",
       "      <td>강동구</td>\n",
       "      <td>성내동</td>\n",
       "      <td>37.531338</td>\n",
       "      <td>127.129174</td>\n",
       "    </tr>\n",
       "    <tr>\n",
       "      <th>889</th>\n",
       "      <td>1174010900</td>\n",
       "      <td>서울특별시</td>\n",
       "      <td>강동구</td>\n",
       "      <td>천호동</td>\n",
       "      <td>37.543676</td>\n",
       "      <td>127.131748</td>\n",
       "    </tr>\n",
       "    <tr>\n",
       "      <th>890</th>\n",
       "      <td>1174011000</td>\n",
       "      <td>서울특별시</td>\n",
       "      <td>강동구</td>\n",
       "      <td>강일동</td>\n",
       "      <td>37.569204</td>\n",
       "      <td>127.171620</td>\n",
       "    </tr>\n",
       "  </tbody>\n",
       "</table>\n",
       "<p>891 rows × 6 columns</p>\n",
       "</div>"
      ],
      "text/plain": [
       "           code   sido   gu   dong        lat         lng\n",
       "0    1111051500  서울특별시  종로구  청운효자동  37.584009  126.970626\n",
       "1    1111053000  서울특별시  종로구    사직동  37.575408  126.965944\n",
       "2    1111054000  서울특별시  종로구    삼청동  37.590758  126.980996\n",
       "3    1111055000  서울특별시  종로구    부암동  37.594768  126.965574\n",
       "4    1111056000  서울특별시  종로구    평창동  37.613029  126.974485\n",
       "..          ...    ...  ...    ...        ...         ...\n",
       "886  1174010600  서울특별시  강동구    둔촌동  37.531157  127.142891\n",
       "887  1174010700  서울특별시  강동구    암사동  37.552497  127.133010\n",
       "888  1174010800  서울특별시  강동구    성내동  37.531338  127.129174\n",
       "889  1174010900  서울특별시  강동구    천호동  37.543676  127.131748\n",
       "890  1174011000  서울특별시  강동구    강일동  37.569204  127.171620\n",
       "\n",
       "[891 rows x 6 columns]"
      ]
     },
     "execution_count": 43,
     "metadata": {},
     "output_type": "execute_result"
    }
   ],
   "source": [
    "seoul_map = pd.read_excel('D:/SDC_project/data_yena/서울시_행정동_좌표.xlsx')\n",
    "seoul_map"
   ]
  },
  {
   "cell_type": "code",
   "execution_count": 44,
   "id": "cc19d994",
   "metadata": {},
   "outputs": [
    {
     "data": {
      "text/html": [
       "<div>\n",
       "<style scoped>\n",
       "    .dataframe tbody tr th:only-of-type {\n",
       "        vertical-align: middle;\n",
       "    }\n",
       "\n",
       "    .dataframe tbody tr th {\n",
       "        vertical-align: top;\n",
       "    }\n",
       "\n",
       "    .dataframe thead th {\n",
       "        text-align: right;\n",
       "    }\n",
       "</style>\n",
       "<table border=\"1\" class=\"dataframe\">\n",
       "  <thead>\n",
       "    <tr style=\"text-align: right;\">\n",
       "      <th></th>\n",
       "      <th>code</th>\n",
       "      <th>sido</th>\n",
       "      <th>구</th>\n",
       "      <th>동</th>\n",
       "      <th>위도</th>\n",
       "      <th>경도</th>\n",
       "    </tr>\n",
       "  </thead>\n",
       "  <tbody>\n",
       "    <tr>\n",
       "      <th>0</th>\n",
       "      <td>1111051500</td>\n",
       "      <td>서울특별시</td>\n",
       "      <td>종로구</td>\n",
       "      <td>청운효자동</td>\n",
       "      <td>37.584009</td>\n",
       "      <td>126.970626</td>\n",
       "    </tr>\n",
       "    <tr>\n",
       "      <th>1</th>\n",
       "      <td>1111053000</td>\n",
       "      <td>서울특별시</td>\n",
       "      <td>종로구</td>\n",
       "      <td>사직동</td>\n",
       "      <td>37.575408</td>\n",
       "      <td>126.965944</td>\n",
       "    </tr>\n",
       "    <tr>\n",
       "      <th>2</th>\n",
       "      <td>1111054000</td>\n",
       "      <td>서울특별시</td>\n",
       "      <td>종로구</td>\n",
       "      <td>삼청동</td>\n",
       "      <td>37.590758</td>\n",
       "      <td>126.980996</td>\n",
       "    </tr>\n",
       "    <tr>\n",
       "      <th>3</th>\n",
       "      <td>1111055000</td>\n",
       "      <td>서울특별시</td>\n",
       "      <td>종로구</td>\n",
       "      <td>부암동</td>\n",
       "      <td>37.594768</td>\n",
       "      <td>126.965574</td>\n",
       "    </tr>\n",
       "    <tr>\n",
       "      <th>4</th>\n",
       "      <td>1111056000</td>\n",
       "      <td>서울특별시</td>\n",
       "      <td>종로구</td>\n",
       "      <td>평창동</td>\n",
       "      <td>37.613029</td>\n",
       "      <td>126.974485</td>\n",
       "    </tr>\n",
       "    <tr>\n",
       "      <th>...</th>\n",
       "      <td>...</td>\n",
       "      <td>...</td>\n",
       "      <td>...</td>\n",
       "      <td>...</td>\n",
       "      <td>...</td>\n",
       "      <td>...</td>\n",
       "    </tr>\n",
       "    <tr>\n",
       "      <th>886</th>\n",
       "      <td>1174010600</td>\n",
       "      <td>서울특별시</td>\n",
       "      <td>강동구</td>\n",
       "      <td>둔촌동</td>\n",
       "      <td>37.531157</td>\n",
       "      <td>127.142891</td>\n",
       "    </tr>\n",
       "    <tr>\n",
       "      <th>887</th>\n",
       "      <td>1174010700</td>\n",
       "      <td>서울특별시</td>\n",
       "      <td>강동구</td>\n",
       "      <td>암사동</td>\n",
       "      <td>37.552497</td>\n",
       "      <td>127.133010</td>\n",
       "    </tr>\n",
       "    <tr>\n",
       "      <th>888</th>\n",
       "      <td>1174010800</td>\n",
       "      <td>서울특별시</td>\n",
       "      <td>강동구</td>\n",
       "      <td>성내동</td>\n",
       "      <td>37.531338</td>\n",
       "      <td>127.129174</td>\n",
       "    </tr>\n",
       "    <tr>\n",
       "      <th>889</th>\n",
       "      <td>1174010900</td>\n",
       "      <td>서울특별시</td>\n",
       "      <td>강동구</td>\n",
       "      <td>천호동</td>\n",
       "      <td>37.543676</td>\n",
       "      <td>127.131748</td>\n",
       "    </tr>\n",
       "    <tr>\n",
       "      <th>890</th>\n",
       "      <td>1174011000</td>\n",
       "      <td>서울특별시</td>\n",
       "      <td>강동구</td>\n",
       "      <td>강일동</td>\n",
       "      <td>37.569204</td>\n",
       "      <td>127.171620</td>\n",
       "    </tr>\n",
       "  </tbody>\n",
       "</table>\n",
       "<p>891 rows × 6 columns</p>\n",
       "</div>"
      ],
      "text/plain": [
       "           code   sido    구      동         위도          경도\n",
       "0    1111051500  서울특별시  종로구  청운효자동  37.584009  126.970626\n",
       "1    1111053000  서울특별시  종로구    사직동  37.575408  126.965944\n",
       "2    1111054000  서울특별시  종로구    삼청동  37.590758  126.980996\n",
       "3    1111055000  서울특별시  종로구    부암동  37.594768  126.965574\n",
       "4    1111056000  서울특별시  종로구    평창동  37.613029  126.974485\n",
       "..          ...    ...  ...    ...        ...         ...\n",
       "886  1174010600  서울특별시  강동구    둔촌동  37.531157  127.142891\n",
       "887  1174010700  서울특별시  강동구    암사동  37.552497  127.133010\n",
       "888  1174010800  서울특별시  강동구    성내동  37.531338  127.129174\n",
       "889  1174010900  서울특별시  강동구    천호동  37.543676  127.131748\n",
       "890  1174011000  서울특별시  강동구    강일동  37.569204  127.171620\n",
       "\n",
       "[891 rows x 6 columns]"
      ]
     },
     "execution_count": 44,
     "metadata": {},
     "output_type": "execute_result"
    }
   ],
   "source": [
    "seoul_map = seoul_map.rename(columns={'gu':'구','dong':'동','lat':'위도','lng':'경도'})\n",
    "seoul_map"
   ]
  },
  {
   "cell_type": "code",
   "execution_count": 45,
   "id": "bd69a75f",
   "metadata": {},
   "outputs": [
    {
     "data": {
      "text/html": [
       "<div>\n",
       "<style scoped>\n",
       "    .dataframe tbody tr th:only-of-type {\n",
       "        vertical-align: middle;\n",
       "    }\n",
       "\n",
       "    .dataframe tbody tr th {\n",
       "        vertical-align: top;\n",
       "    }\n",
       "\n",
       "    .dataframe thead th {\n",
       "        text-align: right;\n",
       "    }\n",
       "</style>\n",
       "<table border=\"1\" class=\"dataframe\">\n",
       "  <thead>\n",
       "    <tr style=\"text-align: right;\">\n",
       "      <th></th>\n",
       "      <th>구</th>\n",
       "      <th>거래건수</th>\n",
       "      <th>위도</th>\n",
       "      <th>경도</th>\n",
       "    </tr>\n",
       "  </thead>\n",
       "  <tbody>\n",
       "    <tr>\n",
       "      <th>0</th>\n",
       "      <td>강서구</td>\n",
       "      <td>8315</td>\n",
       "      <td>37.554552</td>\n",
       "      <td>126.871764</td>\n",
       "    </tr>\n",
       "    <tr>\n",
       "      <th>1</th>\n",
       "      <td>강서구</td>\n",
       "      <td>8315</td>\n",
       "      <td>37.550968</td>\n",
       "      <td>126.849614</td>\n",
       "    </tr>\n",
       "    <tr>\n",
       "      <th>2</th>\n",
       "      <td>강서구</td>\n",
       "      <td>8315</td>\n",
       "      <td>37.550968</td>\n",
       "      <td>126.849614</td>\n",
       "    </tr>\n",
       "    <tr>\n",
       "      <th>3</th>\n",
       "      <td>강서구</td>\n",
       "      <td>8315</td>\n",
       "      <td>37.550968</td>\n",
       "      <td>126.849614</td>\n",
       "    </tr>\n",
       "    <tr>\n",
       "      <th>4</th>\n",
       "      <td>강서구</td>\n",
       "      <td>8315</td>\n",
       "      <td>37.550968</td>\n",
       "      <td>126.849614</td>\n",
       "    </tr>\n",
       "    <tr>\n",
       "      <th>...</th>\n",
       "      <td>...</td>\n",
       "      <td>...</td>\n",
       "      <td>...</td>\n",
       "      <td>...</td>\n",
       "    </tr>\n",
       "    <tr>\n",
       "      <th>886</th>\n",
       "      <td>강북구</td>\n",
       "      <td>217</td>\n",
       "      <td>37.641485</td>\n",
       "      <td>127.010591</td>\n",
       "    </tr>\n",
       "    <tr>\n",
       "      <th>887</th>\n",
       "      <td>강북구</td>\n",
       "      <td>217</td>\n",
       "      <td>37.621298</td>\n",
       "      <td>127.024902</td>\n",
       "    </tr>\n",
       "    <tr>\n",
       "      <th>888</th>\n",
       "      <td>강북구</td>\n",
       "      <td>217</td>\n",
       "      <td>37.635123</td>\n",
       "      <td>127.032072</td>\n",
       "    </tr>\n",
       "    <tr>\n",
       "      <th>889</th>\n",
       "      <td>강북구</td>\n",
       "      <td>217</td>\n",
       "      <td>37.639388</td>\n",
       "      <td>127.017183</td>\n",
       "    </tr>\n",
       "    <tr>\n",
       "      <th>890</th>\n",
       "      <td>강북구</td>\n",
       "      <td>217</td>\n",
       "      <td>37.658785</td>\n",
       "      <td>127.011190</td>\n",
       "    </tr>\n",
       "  </tbody>\n",
       "</table>\n",
       "<p>891 rows × 4 columns</p>\n",
       "</div>"
      ],
      "text/plain": [
       "       구  거래건수         위도          경도\n",
       "0    강서구  8315  37.554552  126.871764\n",
       "1    강서구  8315  37.550968  126.849614\n",
       "2    강서구  8315  37.550968  126.849614\n",
       "3    강서구  8315  37.550968  126.849614\n",
       "4    강서구  8315  37.550968  126.849614\n",
       "..   ...   ...        ...         ...\n",
       "886  강북구   217  37.641485  127.010591\n",
       "887  강북구   217  37.621298  127.024902\n",
       "888  강북구   217  37.635123  127.032072\n",
       "889  강북구   217  37.639388  127.017183\n",
       "890  강북구   217  37.658785  127.011190\n",
       "\n",
       "[891 rows x 4 columns]"
      ]
     },
     "execution_count": 45,
     "metadata": {},
     "output_type": "execute_result"
    }
   ],
   "source": [
    "gu_coords_df = seoul_map[['구','위도','경도']]\n",
    "combined_with_coords = pd.merge(combined_df, gu_coords_df, on=['구'], how='left')\n",
    "combined_with_coords"
   ]
  },
  {
   "cell_type": "code",
   "execution_count": 46,
   "id": "6cdf6794",
   "metadata": {},
   "outputs": [],
   "source": [
    "combined_with_coords.to_csv('combined_coords_officetel.csv')"
   ]
  },
  {
   "cell_type": "code",
   "execution_count": 47,
   "id": "3d2c29e0",
   "metadata": {},
   "outputs": [],
   "source": [
    "import geopandas as gpd\n",
    "import matplotlib.pyplot as plt"
   ]
  },
  {
   "cell_type": "code",
   "execution_count": 48,
   "id": "998a6883",
   "metadata": {},
   "outputs": [
    {
     "data": {
      "image/png": "[encoded data removed]",
      "text/plain": [
       "<Figure size 1000x1000 with 2 Axes>"
      ]
     },
     "metadata": {},
     "output_type": "display_data"
    }
   ],
   "source": [
    "df = pd.read_csv('D:/SDC_project/combined_coords_officetel.csv')  \n",
    "\n",
    "# 2. 서울 구 경계 지도 불러오기\n",
    "# shp 또는 geojson 파일 필요 (서울시 행정구역 경계)\n",
    "seoul_gu = gpd.read_file('D:/SDC_project/data_yena/sig_20230729/sig.shp',encoding=\"cp949\") \n",
    "seoul_gu = seoul_gu[seoul_gu['SIG_CD'].str.startswith('11')]\n",
    "\n",
    "merged = seoul_gu.merge(df, left_on='SIG_KOR_NM', right_on='구')  \n",
    "\n",
    "fig, ax = plt.subplots(1, 1, figsize=(10, 10))\n",
    "merged.boundary.plot(ax=ax, color='gray', linewidth=0.3) \n",
    "merged.plot(column='거래건수', ax=ax, legend=True, cmap='OrRd', edgecolor='white', linewidth=0.3)\n",
    "\n",
    "for idx, row in merged.iterrows():\n",
    "    plt.text(row.geometry.centroid.x, row.geometry.centroid.y, row['구'],\n",
    "             ha='center', fontsize=7, color='black')\n",
    "\n",
    "plt.axis('off')\n",
    "plt.tight_layout()\n",
    "plt.savefig('seoul_officetel_by_gu_clean.png', dpi=300, bbox_inches='tight')\n",
    "plt.show()"
   ]
  }
 ],
 "metadata": {
  "kernelspec": {
   "display_name": "base",
   "language": "python",
   "name": "python3"
  },
  "language_info": {
   "codemirror_mode": {
    "name": "ipython",
    "version": 3
   },
   "file_extension": ".py",
   "mimetype": "text/x-python",
   "name": "python",
   "nbconvert_exporter": "python",
   "pygments_lexer": "ipython3",
   "version": "3.11.4"
  }
 },
 "nbformat": 4,
 "nbformat_minor": 5
}
