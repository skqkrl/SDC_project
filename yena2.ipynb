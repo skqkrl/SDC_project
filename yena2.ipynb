{
 "cells": [
  {
   "cell_type": "markdown",
   "id": "1c17c56d",
   "metadata": {},
   "source": [
    "# 오피스텔_실거래가"
   ]
  },
  {
   "cell_type": "markdown",
   "id": "89f5ba53",
   "metadata": {},
   "source": [
    "### 데이터 불러오기"
   ]
  },
  {
   "cell_type": "code",
   "execution_count": 1,
   "id": "f935672f",
   "metadata": {},
   "outputs": [],
   "source": [
    "import pandas as pd\n",
    "import numpy as np\n",
    "import matplotlib.pyplot as plt\n",
    "import seaborn as sns\n",
    "import koreanize_matplotlib"
   ]
  },
  {
   "cell_type": "code",
   "execution_count": 2,
   "id": "22c08427",
   "metadata": {},
   "outputs": [
    {
     "name": "stderr",
     "output_type": "stream",
     "text": [
      "C:\\Users\\emily\\AppData\\Local\\Temp\\ipykernel_2448\\540466763.py:2: DtypeWarning: Columns (11,19) have mixed types. Specify dtype option on import or set low_memory=False.\n",
      "  officetel22 = pd.read_csv('data/오피스텔(전월세)_실거래가_2022.csv', header=15, encoding='cp949')\n"
     ]
    }
   ],
   "source": [
    "officetel21 = pd.read_csv('data/오피스텔(전월세)_실거래가_2021.csv', header=15, encoding='cp949')\n",
    "officetel22 = pd.read_csv('data/오피스텔(전월세)_실거래가_2022.csv', header=15, encoding='cp949')\n",
    "officetel23 = pd.read_csv('data/오피스텔(전월세)_실거래가_2023.csv', header=15, encoding='cp949')"
   ]
  },
  {
   "cell_type": "code",
   "execution_count": null,
   "id": "cbe70ff4",
   "metadata": {},
   "outputs": [],
   "source": [
    "officetel21_deal = pd.read_csv('data/오피스텔(매매)_실거래가_2021.csv', header=15, encoding='cp949')\n",
    "officetel22_deal = pd.read_csv('data/오피스텔(매매)_실거래가_2022.csv', header=15, encoding='cp949')\n",
    "officetel21_deal = pd.read_csv('data/오피스텔(매매)_실거래가_2023.csv', header=15, encoding='cp949')"
   ]
  },
  {
   "cell_type": "code",
   "execution_count": 9,
   "id": "d05095ff",
   "metadata": {},
   "outputs": [
    {
     "data": {
      "text/plain": [
       "NO          19896\n",
       "시군구           245\n",
       "번지           1921\n",
       "본번            766\n",
       "부번            176\n",
       "단지명          1949\n",
       "전용면적(㎡)      3403\n",
       "계약년월           12\n",
       "계약일            31\n",
       "거래금액(만원)     1757\n",
       "층              52\n",
       "매수              1\n",
       "매도              1\n",
       "건축년도           36\n",
       "도로명          1877\n",
       "해제사유발생일       311\n",
       "거래유형            3\n",
       "중개사소재지         97\n",
       "dtype: int64"
      ]
     },
     "execution_count": 9,
     "metadata": {},
     "output_type": "execute_result"
    }
   ],
   "source": [
    "officetel21_deal.nunique()"
   ]
  },
  {
   "cell_type": "code",
   "execution_count": 10,
   "id": "6fc95a7d",
   "metadata": {},
   "outputs": [
    {
     "data": {
      "text/html": [
       "<div>\n",
       "<style scoped>\n",
       "    .dataframe tbody tr th:only-of-type {\n",
       "        vertical-align: middle;\n",
       "    }\n",
       "\n",
       "    .dataframe tbody tr th {\n",
       "        vertical-align: top;\n",
       "    }\n",
       "\n",
       "    .dataframe thead th {\n",
       "        text-align: right;\n",
       "    }\n",
       "</style>\n",
       "<table border=\"1\" class=\"dataframe\">\n",
       "  <thead>\n",
       "    <tr style=\"text-align: right;\">\n",
       "      <th></th>\n",
       "      <th>NO</th>\n",
       "      <th>본번</th>\n",
       "      <th>부번</th>\n",
       "      <th>전용면적(㎡)</th>\n",
       "      <th>계약년월</th>\n",
       "      <th>계약일</th>\n",
       "      <th>층</th>\n",
       "      <th>건축년도</th>\n",
       "    </tr>\n",
       "  </thead>\n",
       "  <tbody>\n",
       "    <tr>\n",
       "      <th>count</th>\n",
       "      <td>19896.000000</td>\n",
       "      <td>19896.000000</td>\n",
       "      <td>19896.000000</td>\n",
       "      <td>19896.000000</td>\n",
       "      <td>19896.000000</td>\n",
       "      <td>19896.000000</td>\n",
       "      <td>19896.000000</td>\n",
       "      <td>19104.000000</td>\n",
       "    </tr>\n",
       "    <tr>\n",
       "      <th>mean</th>\n",
       "      <td>9948.500000</td>\n",
       "      <td>477.124296</td>\n",
       "      <td>13.709992</td>\n",
       "      <td>32.493359</td>\n",
       "      <td>202106.503518</td>\n",
       "      <td>15.455871</td>\n",
       "      <td>8.879574</td>\n",
       "      <td>2011.774916</td>\n",
       "    </tr>\n",
       "    <tr>\n",
       "      <th>std</th>\n",
       "      <td>5743.624814</td>\n",
       "      <td>421.339393</td>\n",
       "      <td>41.870625</td>\n",
       "      <td>17.748388</td>\n",
       "      <td>3.459628</td>\n",
       "      <td>8.766673</td>\n",
       "      <td>5.466099</td>\n",
       "      <td>7.930303</td>\n",
       "    </tr>\n",
       "    <tr>\n",
       "      <th>min</th>\n",
       "      <td>1.000000</td>\n",
       "      <td>1.000000</td>\n",
       "      <td>0.000000</td>\n",
       "      <td>10.920000</td>\n",
       "      <td>202101.000000</td>\n",
       "      <td>1.000000</td>\n",
       "      <td>1.000000</td>\n",
       "      <td>1980.000000</td>\n",
       "    </tr>\n",
       "    <tr>\n",
       "      <th>25%</th>\n",
       "      <td>4974.750000</td>\n",
       "      <td>94.000000</td>\n",
       "      <td>0.000000</td>\n",
       "      <td>23.120000</td>\n",
       "      <td>202103.000000</td>\n",
       "      <td>8.000000</td>\n",
       "      <td>5.000000</td>\n",
       "      <td>2005.000000</td>\n",
       "    </tr>\n",
       "    <tr>\n",
       "      <th>50%</th>\n",
       "      <td>9948.500000</td>\n",
       "      <td>425.000000</td>\n",
       "      <td>3.000000</td>\n",
       "      <td>28.330000</td>\n",
       "      <td>202106.000000</td>\n",
       "      <td>15.000000</td>\n",
       "      <td>8.000000</td>\n",
       "      <td>2014.000000</td>\n",
       "    </tr>\n",
       "    <tr>\n",
       "      <th>75%</th>\n",
       "      <td>14922.250000</td>\n",
       "      <td>716.000000</td>\n",
       "      <td>12.000000</td>\n",
       "      <td>35.210000</td>\n",
       "      <td>202110.000000</td>\n",
       "      <td>23.000000</td>\n",
       "      <td>12.000000</td>\n",
       "      <td>2018.000000</td>\n",
       "    </tr>\n",
       "    <tr>\n",
       "      <th>max</th>\n",
       "      <td>19896.000000</td>\n",
       "      <td>4828.000000</td>\n",
       "      <td>1278.000000</td>\n",
       "      <td>489.790000</td>\n",
       "      <td>202112.000000</td>\n",
       "      <td>31.000000</td>\n",
       "      <td>68.000000</td>\n",
       "      <td>2021.000000</td>\n",
       "    </tr>\n",
       "  </tbody>\n",
       "</table>\n",
       "</div>"
      ],
      "text/plain": [
       "                 NO            본번            부번       전용면적(㎡)           계약년월  \\\n",
       "count  19896.000000  19896.000000  19896.000000  19896.000000   19896.000000   \n",
       "mean    9948.500000    477.124296     13.709992     32.493359  202106.503518   \n",
       "std     5743.624814    421.339393     41.870625     17.748388       3.459628   \n",
       "min        1.000000      1.000000      0.000000     10.920000  202101.000000   \n",
       "25%     4974.750000     94.000000      0.000000     23.120000  202103.000000   \n",
       "50%     9948.500000    425.000000      3.000000     28.330000  202106.000000   \n",
       "75%    14922.250000    716.000000     12.000000     35.210000  202110.000000   \n",
       "max    19896.000000   4828.000000   1278.000000    489.790000  202112.000000   \n",
       "\n",
       "                계약일             층          건축년도  \n",
       "count  19896.000000  19896.000000  19104.000000  \n",
       "mean      15.455871      8.879574   2011.774916  \n",
       "std        8.766673      5.466099      7.930303  \n",
       "min        1.000000      1.000000   1980.000000  \n",
       "25%        8.000000      5.000000   2005.000000  \n",
       "50%       15.000000      8.000000   2014.000000  \n",
       "75%       23.000000     12.000000   2018.000000  \n",
       "max       31.000000     68.000000   2021.000000  "
      ]
     },
     "execution_count": 10,
     "metadata": {},
     "output_type": "execute_result"
    }
   ],
   "source": [
    "officetel21_deal.describe()"
   ]
  },
  {
   "cell_type": "code",
   "execution_count": 8,
   "id": "64b7f0a3",
   "metadata": {},
   "outputs": [
    {
     "data": {
      "text/plain": [
       "-       16564\n",
       "중개거래     2218\n",
       "직거래      1114\n",
       "Name: 거래유형, dtype: int64"
      ]
     },
     "execution_count": 8,
     "metadata": {},
     "output_type": "execute_result"
    }
   ],
   "source": [
    "officetel21_deal['거래유형'].value_counts()"
   ]
  },
  {
   "cell_type": "code",
   "execution_count": null,
   "id": "2f0b98ee",
   "metadata": {},
   "outputs": [],
   "source": []
  }
 ],
 "metadata": {
  "kernelspec": {
   "display_name": "base",
   "language": "python",
   "name": "python3"
  },
  "language_info": {
   "codemirror_mode": {
    "name": "ipython",
    "version": 3
   },
   "file_extension": ".py",
   "mimetype": "text/x-python",
   "name": "python",
   "nbconvert_exporter": "python",
   "pygments_lexer": "ipython3",
   "version": "3.11.4"
  }
 },
 "nbformat": 4,
 "nbformat_minor": 5
}
